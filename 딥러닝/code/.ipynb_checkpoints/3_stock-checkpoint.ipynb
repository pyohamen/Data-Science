{
 "cells": [
  {
   "cell_type": "markdown",
   "metadata": {},
   "source": [
    "# Stock Prices Prediction Using Keras Long Term Short Memory\n",
    "\n",
    "https://github.com/mwitiderrick/stockprice\n",
    "\n",
    "https://www.kdnuggets.com/2018/11/keras-long-short-term-memory-lstm-model-predict-stock-prices.html"
   ]
  },
  {
   "cell_type": "markdown",
   "metadata": {},
   "source": [
    "### Part 1 - Data Preprocessing"
   ]
  },
  {
   "cell_type": "code",
   "execution_count": 1,
   "metadata": {},
   "outputs": [],
   "source": [
    "\n",
    "# Importing the libraries\n",
    "import numpy as np\n",
    "import matplotlib.pyplot as plt\n",
    "import pandas as pd\n",
    "\n",
    "# Importing the Keras libraries and packages\n",
    "import tensorflow as tf\n",
    "from tensorflow.keras import Sequential\n",
    "from tensorflow.keras.layers import Dense\n",
    "from tensorflow.keras.layers import LSTM\n",
    "from tensorflow.keras.layers import Dropout"
   ]
  },
  {
   "cell_type": "code",
   "execution_count": 2,
   "metadata": {},
   "outputs": [],
   "source": [
    "# Importing the training set\n",
    "dataset_train = pd.read_csv('stockTrain.csv')\n",
    "training_set = dataset_train.iloc[:, 1:2].values"
   ]
  },
  {
   "cell_type": "code",
   "execution_count": 3,
   "metadata": {},
   "outputs": [
    {
     "data": {
      "text/html": [
       "<div>\n",
       "<style scoped>\n",
       "    .dataframe tbody tr th:only-of-type {\n",
       "        vertical-align: middle;\n",
       "    }\n",
       "\n",
       "    .dataframe tbody tr th {\n",
       "        vertical-align: top;\n",
       "    }\n",
       "\n",
       "    .dataframe thead th {\n",
       "        text-align: right;\n",
       "    }\n",
       "</style>\n",
       "<table border=\"1\" class=\"dataframe\">\n",
       "  <thead>\n",
       "    <tr style=\"text-align: right;\">\n",
       "      <th></th>\n",
       "      <th>Date</th>\n",
       "      <th>Open</th>\n",
       "      <th>High</th>\n",
       "      <th>Low</th>\n",
       "      <th>Last</th>\n",
       "      <th>Close</th>\n",
       "      <th>Total Trade Quantity</th>\n",
       "      <th>Turnover (Lacs)</th>\n",
       "    </tr>\n",
       "  </thead>\n",
       "  <tbody>\n",
       "    <tr>\n",
       "      <th>0</th>\n",
       "      <td>2018-09-28</td>\n",
       "      <td>234.05</td>\n",
       "      <td>235.95</td>\n",
       "      <td>230.20</td>\n",
       "      <td>233.50</td>\n",
       "      <td>233.75</td>\n",
       "      <td>3069914</td>\n",
       "      <td>7162.35</td>\n",
       "    </tr>\n",
       "    <tr>\n",
       "      <th>1</th>\n",
       "      <td>2018-09-27</td>\n",
       "      <td>234.55</td>\n",
       "      <td>236.80</td>\n",
       "      <td>231.10</td>\n",
       "      <td>233.80</td>\n",
       "      <td>233.25</td>\n",
       "      <td>5082859</td>\n",
       "      <td>11859.95</td>\n",
       "    </tr>\n",
       "    <tr>\n",
       "      <th>2</th>\n",
       "      <td>2018-09-26</td>\n",
       "      <td>240.00</td>\n",
       "      <td>240.00</td>\n",
       "      <td>232.50</td>\n",
       "      <td>235.00</td>\n",
       "      <td>234.25</td>\n",
       "      <td>2240909</td>\n",
       "      <td>5248.60</td>\n",
       "    </tr>\n",
       "    <tr>\n",
       "      <th>3</th>\n",
       "      <td>2018-09-25</td>\n",
       "      <td>233.30</td>\n",
       "      <td>236.75</td>\n",
       "      <td>232.00</td>\n",
       "      <td>236.25</td>\n",
       "      <td>236.10</td>\n",
       "      <td>2349368</td>\n",
       "      <td>5503.90</td>\n",
       "    </tr>\n",
       "    <tr>\n",
       "      <th>4</th>\n",
       "      <td>2018-09-24</td>\n",
       "      <td>233.55</td>\n",
       "      <td>239.20</td>\n",
       "      <td>230.75</td>\n",
       "      <td>234.00</td>\n",
       "      <td>233.30</td>\n",
       "      <td>3423509</td>\n",
       "      <td>7999.55</td>\n",
       "    </tr>\n",
       "  </tbody>\n",
       "</table>\n",
       "</div>"
      ],
      "text/plain": [
       "         Date    Open    High     Low    Last   Close  Total Trade Quantity  \\\n",
       "0  2018-09-28  234.05  235.95  230.20  233.50  233.75               3069914   \n",
       "1  2018-09-27  234.55  236.80  231.10  233.80  233.25               5082859   \n",
       "2  2018-09-26  240.00  240.00  232.50  235.00  234.25               2240909   \n",
       "3  2018-09-25  233.30  236.75  232.00  236.25  236.10               2349368   \n",
       "4  2018-09-24  233.55  239.20  230.75  234.00  233.30               3423509   \n",
       "\n",
       "   Turnover (Lacs)  \n",
       "0          7162.35  \n",
       "1         11859.95  \n",
       "2          5248.60  \n",
       "3          5503.90  \n",
       "4          7999.55  "
      ]
     },
     "execution_count": 3,
     "metadata": {},
     "output_type": "execute_result"
    }
   ],
   "source": [
    "dataset_train.head()\n"
   ]
  },
  {
   "cell_type": "code",
   "execution_count": 4,
   "metadata": {},
   "outputs": [
    {
     "data": {
      "text/plain": [
       "array([[234.05],\n",
       "       [234.55],\n",
       "       [240.  ],\n",
       "       ...,\n",
       "       [121.8 ],\n",
       "       [120.3 ],\n",
       "       [122.1 ]])"
      ]
     },
     "execution_count": 4,
     "metadata": {},
     "output_type": "execute_result"
    }
   ],
   "source": [
    "training_set"
   ]
  },
  {
   "cell_type": "code",
   "execution_count": 5,
   "metadata": {},
   "outputs": [],
   "source": [
    "# Feature Scaling\n",
    "from sklearn.preprocessing import MinMaxScaler\n",
    "sc = MinMaxScaler(feature_range = (0, 1))\n",
    "training_set_scaled = sc.fit_transform(training_set)"
   ]
  },
  {
   "cell_type": "code",
   "execution_count": 6,
   "metadata": {},
   "outputs": [
    {
     "data": {
      "text/plain": [
       "array([[0.6202352 ],\n",
       "       [0.62226277],\n",
       "       [0.64436334],\n",
       "       ...,\n",
       "       [0.16504461],\n",
       "       [0.15896188],\n",
       "       [0.16626115]])"
      ]
     },
     "execution_count": 6,
     "metadata": {},
     "output_type": "execute_result"
    }
   ],
   "source": [
    "training_set_scaled "
   ]
  },
  {
   "cell_type": "code",
   "execution_count": 7,
   "metadata": {},
   "outputs": [
    {
     "data": {
      "text/plain": [
       "array([[0.6202352 , 0.62226277, 0.64436334, ..., 0.79622871, 0.81062449,\n",
       "        0.74371452],\n",
       "       [0.62226277, 0.64436334, 0.61719384, ..., 0.81062449, 0.74371452,\n",
       "        0.77007299],\n",
       "       [0.64436334, 0.61719384, 0.61820762, ..., 0.74371452, 0.77007299,\n",
       "        0.73641525],\n",
       "       ...,\n",
       "       [0.19870235, 0.21796431, 0.21553122, ..., 0.14963504, 0.14801298,\n",
       "        0.15815085],\n",
       "       [0.21796431, 0.21553122, 0.20600162, ..., 0.14801298, 0.15815085,\n",
       "        0.16504461],\n",
       "       [0.21553122, 0.20600162, 0.21654501, ..., 0.15815085, 0.16504461,\n",
       "        0.15896188]])"
      ]
     },
     "execution_count": 7,
     "metadata": {},
     "output_type": "execute_result"
    }
   ],
   "source": [
    "# Creating a data structure with 60 timesteps and 1 output\n",
    "X_train = []\n",
    "y_train = []\n",
    "for i in range(60, 2035):\n",
    "    X_train.append(training_set_scaled[i-60:i, 0])\n",
    "    y_train.append(training_set_scaled[i, 0])\n",
    "X_train, y_train = np.array(X_train), np.array(y_train)\n",
    "X_train"
   ]
  },
  {
   "cell_type": "code",
   "execution_count": 8,
   "metadata": {},
   "outputs": [
    {
     "name": "stdout",
     "output_type": "stream",
     "text": [
      "(1975, 60, 1)\n",
      "(1975,)\n"
     ]
    }
   ],
   "source": [
    "# Reshaping\n",
    "X_train = np.reshape(X_train, (X_train.shape[0], X_train.shape[1], 1))\n",
    "print(X_train.shape); print(y_train.shape)"
   ]
  },
  {
   "cell_type": "markdown",
   "metadata": {},
   "source": [
    "### Part 2 - Building the RNN"
   ]
  },
  {
   "cell_type": "code",
   "execution_count": 9,
   "metadata": {},
   "outputs": [
    {
     "name": "stdout",
     "output_type": "stream",
     "text": [
      "Model: \"sequential\"\n",
      "_________________________________________________________________\n",
      "Layer (type)                 Output Shape              Param #   \n",
      "=================================================================\n",
      "lstm (LSTM)                  (None, 60, 50)            10400     \n",
      "_________________________________________________________________\n",
      "dropout (Dropout)            (None, 60, 50)            0         \n",
      "_________________________________________________________________\n",
      "lstm_1 (LSTM)                (None, 60, 50)            20200     \n",
      "_________________________________________________________________\n",
      "dropout_1 (Dropout)          (None, 60, 50)            0         \n",
      "_________________________________________________________________\n",
      "lstm_2 (LSTM)                (None, 50)                20200     \n",
      "_________________________________________________________________\n",
      "dropout_2 (Dropout)          (None, 50)                0         \n",
      "_________________________________________________________________\n",
      "dense (Dense)                (None, 1)                 51        \n",
      "=================================================================\n",
      "Total params: 50,851\n",
      "Trainable params: 50,851\n",
      "Non-trainable params: 0\n",
      "_________________________________________________________________\n"
     ]
    }
   ],
   "source": [
    "\n",
    "model = tf.keras.models.Sequential([\n",
    "  tf.keras.layers.LSTM(50, return_sequences = True, input_shape = (X_train.shape[1], 1)), \n",
    "  tf.keras.layers.Dropout(0.2),\n",
    "  \n",
    "  tf.keras.layers.LSTM(50, return_sequences = True, input_shape = (X_train.shape[1], 1)), \n",
    "  tf.keras.layers.Dropout(0.2),\n",
    "\n",
    "  tf.keras.layers.LSTM(50, input_shape = (X_train.shape[1], 1)), \n",
    "  tf.keras.layers.Dropout(0.2),\n",
    "  tf.keras.layers.Dense(1, activation='linear')\n",
    "])\n",
    "\n",
    "model.summary()"
   ]
  },
  {
   "cell_type": "code",
   "execution_count": null,
   "metadata": {},
   "outputs": [
    {
     "name": "stdout",
     "output_type": "stream",
     "text": [
      "Epoch 1/100\n",
      "62/62 [==============================] - 4s 64ms/step - loss: 0.0094\n",
      "Epoch 2/100\n",
      "62/62 [==============================] - 4s 62ms/step - loss: 0.0025\n",
      "Epoch 3/100\n",
      "62/62 [==============================] - 6s 94ms/step - loss: 0.0021\n",
      "Epoch 4/100\n",
      "62/62 [==============================] - 4s 67ms/step - loss: 0.0021\n",
      "Epoch 5/100\n",
      "62/62 [==============================] - 4s 68ms/step - loss: 0.0021\n",
      "Epoch 6/100\n",
      "62/62 [==============================] - 6s 94ms/step - loss: 0.0019\n",
      "Epoch 7/100\n",
      "62/62 [==============================] - 4s 67ms/step - loss: 0.0017\n",
      "Epoch 8/100\n",
      "62/62 [==============================] - 4s 65ms/step - loss: 0.0017\n",
      "Epoch 9/100\n",
      "62/62 [==============================] - 4s 67ms/step - loss: 0.0018\n",
      "Epoch 10/100\n",
      "62/62 [==============================] - 4s 67ms/step - loss: 0.0015\n",
      "Epoch 11/100\n",
      "62/62 [==============================] - 4s 68ms/step - loss: 0.0015\n",
      "Epoch 12/100\n",
      "62/62 [==============================] - 4s 69ms/step - loss: 0.0014\n",
      "Epoch 13/100\n",
      "62/62 [==============================] - 6s 99ms/step - loss: 0.0015\n",
      "Epoch 14/100\n",
      "62/62 [==============================] - 4s 65ms/step - loss: 0.0014\n",
      "Epoch 15/100\n",
      "62/62 [==============================] - 4s 69ms/step - loss: 0.0013\n",
      "Epoch 16/100\n",
      "62/62 [==============================] - 5s 74ms/step - loss: 0.0014\n",
      "Epoch 17/100\n",
      "62/62 [==============================] - 4s 70ms/step - loss: 0.0014\n",
      "Epoch 18/100\n",
      "62/62 [==============================] - 6s 94ms/step - loss: 0.0012\n",
      "Epoch 19/100\n",
      "62/62 [==============================] - 4s 72ms/step - loss: 0.0012\n",
      "Epoch 20/100\n",
      "62/62 [==============================] - 3s 41ms/step - loss: 0.0012\n",
      "Epoch 21/100\n",
      "62/62 [==============================] - 3s 41ms/step - loss: 0.0012\n",
      "Epoch 22/100\n",
      "62/62 [==============================] - 4s 66ms/step - loss: 0.0011\n",
      "Epoch 23/100\n",
      "62/62 [==============================] - 3s 46ms/step - loss: 0.0011\n",
      "Epoch 24/100\n",
      "62/62 [==============================] - 2s 40ms/step - loss: 0.0011\n",
      "Epoch 25/100\n",
      "62/62 [==============================] - 2s 39ms/step - loss: 0.0011\n",
      "Epoch 26/100\n",
      "62/62 [==============================] - 4s 72ms/step - loss: 9.8611e-04\n",
      "Epoch 27/100\n",
      "62/62 [==============================] - 5s 77ms/step - loss: 0.0012\n",
      "Epoch 28/100\n",
      "62/62 [==============================] - 7s 107ms/step - loss: 0.0010\n",
      "Epoch 29/100\n",
      "62/62 [==============================] - 5s 79ms/step - loss: 0.0011\n",
      "Epoch 30/100\n",
      "62/62 [==============================] - 5s 79ms/step - loss: 9.6336e-04\n",
      "Epoch 31/100\n",
      "62/62 [==============================] - 6s 103ms/step - loss: 9.1632e-04\n",
      "Epoch 32/100\n",
      "62/62 [==============================] - 5s 76ms/step - loss: 7.7747e-04\n",
      "Epoch 33/100\n",
      "62/62 [==============================] - 5s 88ms/step - loss: 8.6126e-04\n",
      "Epoch 34/100\n",
      "62/62 [==============================] - 5s 88ms/step - loss: 9.3514e-04\n",
      "Epoch 35/100\n",
      "62/62 [==============================] - 4s 71ms/step - loss: 9.0366e-04\n",
      "Epoch 36/100\n",
      "62/62 [==============================] - 5s 74ms/step - loss: 0.0010\n",
      "Epoch 37/100\n",
      "62/62 [==============================] - 5s 74ms/step - loss: 0.0010\n",
      "Epoch 38/100\n",
      "62/62 [==============================] - 4s 71ms/step - loss: 9.1752e-04\n",
      "Epoch 39/100\n",
      "62/62 [==============================] - 5s 78ms/step - loss: 9.1350e-04\n",
      "Epoch 40/100\n",
      "62/62 [==============================] - 5s 77ms/step - loss: 8.0658e-04\n",
      "Epoch 41/100\n",
      "62/62 [==============================] - 5s 78ms/step - loss: 7.3031e-04\n",
      "Epoch 42/100\n",
      "62/62 [==============================] - 4s 72ms/step - loss: 8.3751e-04\n",
      "Epoch 43/100\n",
      "62/62 [==============================] - 4s 68ms/step - loss: 7.8368e-04\n",
      "Epoch 44/100\n",
      "62/62 [==============================] - 4s 68ms/step - loss: 7.8082e-04\n",
      "Epoch 45/100\n",
      "62/62 [==============================] - 4s 67ms/step - loss: 8.7379e-04\n",
      "Epoch 46/100\n",
      "62/62 [==============================] - 4s 68ms/step - loss: 8.1641e-04\n",
      "Epoch 47/100\n",
      "62/62 [==============================] - 4s 72ms/step - loss: 7.1433e-04\n",
      "Epoch 48/100\n",
      "62/62 [==============================] - 4s 72ms/step - loss: 7.2597e-04\n",
      "Epoch 49/100\n",
      "62/62 [==============================] - 4s 69ms/step - loss: 7.8620e-04\n",
      "Epoch 50/100\n",
      "62/62 [==============================] - 3s 50ms/step - loss: 8.3614e-04\n",
      "Epoch 51/100\n",
      "62/62 [==============================] - 3s 50ms/step - loss: 7.2325e-04\n",
      "Epoch 52/100\n",
      "62/62 [==============================] - 4s 65ms/step - loss: 7.2445e-04\n",
      "Epoch 53/100\n",
      "62/62 [==============================] - 5s 74ms/step - loss: 8.2970e-04\n",
      "Epoch 54/100\n",
      "62/62 [==============================] - 5s 73ms/step - loss: 7.9027e-04\n",
      "Epoch 55/100\n",
      "62/62 [==============================] - 4s 71ms/step - loss: 7.2735e-04\n",
      "Epoch 56/100\n",
      "62/62 [==============================] - 5s 75ms/step - loss: 8.4878e-04\n",
      "Epoch 57/100\n",
      "62/62 [==============================] - 4s 72ms/step - loss: 7.3669e-04\n",
      "Epoch 58/100\n",
      "62/62 [==============================] - 4s 68ms/step - loss: 7.2688e-04\n",
      "Epoch 59/100\n",
      "62/62 [==============================] - 4s 71ms/step - loss: 7.1152e-04\n",
      "Epoch 60/100\n",
      "62/62 [==============================] - 4s 69ms/step - loss: 6.0569e-04\n",
      "Epoch 61/100\n",
      "62/62 [==============================] - 6s 90ms/step - loss: 6.4950e-04\n",
      "Epoch 62/100\n",
      "62/62 [==============================] - 4s 71ms/step - loss: 6.6886e-04\n",
      "Epoch 63/100\n",
      "62/62 [==============================] - 5s 76ms/step - loss: 6.4794e-04\n",
      "Epoch 64/100\n",
      "62/62 [==============================] - 5s 80ms/step - loss: 5.7737e-04\n",
      "Epoch 65/100\n",
      "62/62 [==============================] - 4s 66ms/step - loss: 7.2401e-04\n",
      "Epoch 66/100\n",
      "62/62 [==============================] - 4s 68ms/step - loss: 8.9914e-04\n",
      "Epoch 67/100\n",
      "62/62 [==============================] - 4s 67ms/step - loss: 6.8106e-04\n",
      "Epoch 68/100\n",
      "62/62 [==============================] - 4s 67ms/step - loss: 6.9175e-04\n",
      "Epoch 69/100\n",
      "62/62 [==============================] - 4s 68ms/step - loss: 6.3161e-04\n",
      "Epoch 70/100\n",
      "62/62 [==============================] - 4s 68ms/step - loss: 7.1415e-04\n",
      "Epoch 71/100\n",
      "62/62 [==============================] - 4s 67ms/step - loss: 6.4004e-04\n",
      "Epoch 72/100\n",
      "62/62 [==============================] - 4s 66ms/step - loss: 7.2957e-04\n",
      "Epoch 73/100\n",
      "62/62 [==============================] - 6s 92ms/step - loss: 6.4374e-04\n",
      "Epoch 74/100\n",
      "62/62 [==============================] - 4s 68ms/step - loss: 6.4021e-04\n",
      "Epoch 75/100\n",
      "62/62 [==============================] - 4s 67ms/step - loss: 5.8938e-04\n",
      "Epoch 76/100\n",
      "62/62 [==============================] - 5s 84ms/step - loss: 6.2837e-04\n",
      "Epoch 77/100\n",
      "62/62 [==============================] - 3s 50ms/step - loss: 6.1802e-04\n",
      "Epoch 78/100\n",
      "62/62 [==============================] - 3s 47ms/step - loss: 6.7742e-04\n",
      "Epoch 79/100\n",
      "62/62 [==============================] - 4s 70ms/step - loss: 6.6560e-04\n",
      "Epoch 80/100\n",
      "62/62 [==============================] - 4s 68ms/step - loss: 6.5080e-04\n",
      "Epoch 81/100\n",
      "62/62 [==============================] - 4s 67ms/step - loss: 6.0880e-04\n",
      "Epoch 82/100\n",
      "62/62 [==============================] - 4s 68ms/step - loss: 6.6971e-04\n",
      "Epoch 83/100\n",
      "62/62 [==============================] - 4s 67ms/step - loss: 6.4976e-04\n",
      "Epoch 84/100\n",
      "62/62 [==============================] - 4s 69ms/step - loss: 5.8667e-04\n",
      "Epoch 85/100\n",
      "62/62 [==============================] - 4s 68ms/step - loss: 6.1705e-04\n",
      "Epoch 86/100\n",
      "62/62 [==============================] - 4s 67ms/step - loss: 5.4822e-04\n",
      "Epoch 87/100\n",
      "62/62 [==============================] - 4s 68ms/step - loss: 5.6297e-04\n",
      "Epoch 88/100\n",
      "62/62 [==============================] - 4s 72ms/step - loss: 5.8077e-04\n",
      "Epoch 89/100\n",
      "62/62 [==============================] - 5s 77ms/step - loss: 5.9704e-04\n",
      "Epoch 90/100\n",
      "62/62 [==============================] - 4s 71ms/step - loss: 6.2180e-04\n",
      "Epoch 91/100\n",
      "62/62 [==============================] - 4s 69ms/step - loss: 7.0304e-04\n",
      "Epoch 92/100\n",
      "62/62 [==============================] - 4s 71ms/step - loss: 7.8791e-04\n",
      "Epoch 93/100\n",
      "62/62 [==============================] - 4s 71ms/step - loss: 6.0553e-04\n",
      "Epoch 94/100\n",
      "62/62 [==============================] - 5s 73ms/step - loss: 6.4550e-04\n",
      "Epoch 95/100\n",
      "62/62 [==============================] - 4s 71ms/step - loss: 6.6468e-04\n",
      "Epoch 96/100\n",
      "14/62 [=====>........................] - ETA: 3s - loss: 7.0442e-04"
     ]
    }
   ],
   "source": [
    "# Compiling the RNN\n",
    "model.compile(optimizer = 'adam', loss = 'mean_squared_error')\n",
    "\n",
    "# Fitting the RNN to the Training set\n",
    "model.fit(X_train, y_train, epochs = 100, batch_size = 32)\n"
   ]
  },
  {
   "cell_type": "markdown",
   "metadata": {},
   "source": [
    "### Part 3 - Making the predictions and visualising the results"
   ]
  },
  {
   "cell_type": "code",
   "execution_count": 96,
   "metadata": {},
   "outputs": [
    {
     "data": {
      "text/plain": [
       "(16, 1)"
      ]
     },
     "execution_count": 96,
     "metadata": {},
     "output_type": "execute_result"
    }
   ],
   "source": [
    "# Getting the real stock price of 2017\n",
    "dataset_test = pd.read_csv('stockTest.csv')\n",
    "real_stock_price = dataset_test.iloc[:, 1:2].values\n",
    "real_stock_price.shape"
   ]
  },
  {
   "cell_type": "code",
   "execution_count": 97,
   "metadata": {},
   "outputs": [
    {
     "data": {
      "text/plain": [
       "(16, 60, 1)"
      ]
     },
     "execution_count": 97,
     "metadata": {},
     "output_type": "execute_result"
    }
   ],
   "source": [
    "# Getting the predicted stock price of 2017\n",
    "dataset_total = pd.concat((dataset_train['Open'], dataset_test['Open']), axis = 0)\n",
    "inputs = dataset_total[len(dataset_total) - len(dataset_test) - 60:].values\n",
    "inputs = inputs.reshape(-1,1)\n",
    "inputs = sc.transform(inputs)\n",
    "X_test = []\n",
    "for i in range(60, 76):\n",
    "    X_test.append(inputs[i-60:i, 0])\n",
    "X_test = np.array(X_test)\n",
    "X_test = np.reshape(X_test, (X_test.shape[0], X_test.shape[1], 1))\n",
    "X_test.shape"
   ]
  },
  {
   "cell_type": "code",
   "execution_count": 98,
   "metadata": {},
   "outputs": [],
   "source": [
    "predicted_stock_price = model.predict(X_test)\n",
    "predicted_stock_price = sc.inverse_transform(predicted_stock_price)"
   ]
  },
  {
   "cell_type": "code",
   "execution_count": 99,
   "metadata": {},
   "outputs": [
    {
     "data": {
      "image/png": "[encoded data removed]",
      "text/plain": [
       "<Figure size 432x288 with 1 Axes>"
      ]
     },
     "metadata": {
      "needs_background": "light"
     },
     "output_type": "display_data"
    }
   ],
   "source": [
    "# Visualising the results\n",
    "plt.plot(real_stock_price, color = 'red', label = 'Real TATA Stock Price')\n",
    "plt.plot(predicted_stock_price, color = 'blue', label = 'Predicted TAT Stock Price')\n",
    "plt.title('TATA Stock Price Prediction')\n",
    "plt.xlabel('Time')\n",
    "plt.ylabel('TATA Stock Price')\n",
    "plt.legend()\n",
    "plt.show()"
   ]
  }
 ],
 "metadata": {
  "kernelspec": {
   "display_name": "Python 3",
   "language": "python",
   "name": "python3"
  },
  "language_info": {
   "codemirror_mode": {
    "name": "ipython",
    "version": 3
   },
   "file_extension": ".py",
   "mimetype": "text/x-python",
   "name": "python",
   "nbconvert_exporter": "python",
   "pygments_lexer": "ipython3",
   "version": "3.7.10"
  }
 },
 "nbformat": 4,
 "nbformat_minor": 2
}
