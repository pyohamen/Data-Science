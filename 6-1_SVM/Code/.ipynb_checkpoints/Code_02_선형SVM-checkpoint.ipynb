{
 "cells": [
  {
   "cell_type": "markdown",
   "metadata": {},
   "source": [
    " # 서포트 벡터 머신 (SVM)"
   ]
  },
  {
   "cell_type": "markdown",
   "metadata": {},
   "source": [
    "###  박태영 교수\n",
    "### 연세대학교 응용통계학과"
   ]
  },
  {
   "cell_type": "markdown",
   "metadata": {},
   "source": [
    "### Outline\n",
    "\n",
    "### 2. 선형 SVM\n",
    "    2.1 선형 SVM 학습\n",
    "    2.2 규칙화 모수의 조정"
   ]
  },
  {
   "cell_type": "markdown",
   "metadata": {},
   "source": [
    "#### 2.1 선형 SVM 학습\n",
    "\n",
    "- 필요한 모듈을 설치"
   ]
  },
  {
   "cell_type": "code",
   "execution_count": 1,
   "metadata": {},
   "outputs": [],
   "source": [
    "import numpy as np\n",
    "import pandas as pd\n",
    "import matplotlib.pyplot as plt \n",
    "import matplotlib.patches as mpatches \n",
    "\n",
    "from sklearn.svm import SVC\n",
    "from sklearn.model_selection import train_test_split\n",
    "from sklearn.metrics import confusion_matrix\n",
    "from sklearn.metrics import accuracy_score, precision_score, recall_score, f1_score"
   ]
  },
  {
   "cell_type": "markdown",
   "metadata": {},
   "source": [
    "- 결정 경계 시각화를 위한 함수를 불러오기 위해 `mlxtend` 라이브러리를 설치"
   ]
  },
  {
   "cell_type": "code",
   "execution_count": 2,
   "metadata": {
    "scrolled": true
   },
   "outputs": [
    {
     "name": "stdout",
     "output_type": "stream",
     "text": [
      "Requirement already satisfied: pip in /Users/hmp/opt/anaconda3/envs/yonsei/lib/python3.7/site-packages (21.0.1)\n",
      "Collecting pip\n",
      "  Downloading pip-21.1-py3-none-any.whl (1.5 MB)\n",
      "\u001b[K     |████████████████████████████████| 1.5 MB 985 kB/s eta 0:00:01\n",
      "\u001b[?25hInstalling collected packages: pip\n",
      "  Attempting uninstall: pip\n",
      "    Found existing installation: pip 21.0.1\n",
      "    Uninstalling pip-21.0.1:\n",
      "      Successfully uninstalled pip-21.0.1\n",
      "Successfully installed pip-21.1\n",
      "\u001b[33mWARNING: Value for scheme.headers does not match. Please report this to <https://github.com/pypa/pip/issues/9617>\n",
      "distutils: /Users/hmp/opt/anaconda3/envs/yonsei/include/python3.7m/UNKNOWN\n",
      "sysconfig: /Users/hmp/opt/anaconda3/envs/yonsei/include/python3.7m\u001b[0m\n",
      "\u001b[33mWARNING: Additional context:\n",
      "user = False\n",
      "home = None\n",
      "root = None\n",
      "prefix = None\u001b[0m\n",
      "Collecting mlxtend\n",
      "  Downloading mlxtend-0.18.0-py2.py3-none-any.whl (1.3 MB)\n",
      "\u001b[K     |████████████████████████████████| 1.3 MB 731 kB/s eta 0:00:01\n",
      "\u001b[?25hRequirement already satisfied: scikit-learn>=0.20.3 in /Users/hmp/opt/anaconda3/envs/yonsei/lib/python3.7/site-packages (from mlxtend) (0.24.1)\n",
      "Requirement already satisfied: pandas>=0.24.2 in /Users/hmp/opt/anaconda3/envs/yonsei/lib/python3.7/site-packages (from mlxtend) (1.2.3)\n",
      "Requirement already satisfied: joblib>=0.13.2 in /Users/hmp/opt/anaconda3/envs/yonsei/lib/python3.7/site-packages (from mlxtend) (1.0.1)\n",
      "Requirement already satisfied: matplotlib>=3.0.0 in /Users/hmp/opt/anaconda3/envs/yonsei/lib/python3.7/site-packages (from mlxtend) (3.3.4)\n",
      "Requirement already satisfied: setuptools in /Users/hmp/opt/anaconda3/envs/yonsei/lib/python3.7/site-packages (from mlxtend) (52.0.0.post20210125)\n",
      "Requirement already satisfied: numpy>=1.16.2 in /Users/hmp/opt/anaconda3/envs/yonsei/lib/python3.7/site-packages (from mlxtend) (1.20.1)\n",
      "Requirement already satisfied: scipy>=1.2.1 in /Users/hmp/opt/anaconda3/envs/yonsei/lib/python3.7/site-packages (from mlxtend) (1.6.1)\n",
      "Requirement already satisfied: pyparsing!=2.0.4,!=2.1.2,!=2.1.6,>=2.0.3 in /Users/hmp/opt/anaconda3/envs/yonsei/lib/python3.7/site-packages (from matplotlib>=3.0.0->mlxtend) (2.4.7)\n",
      "Requirement already satisfied: pillow>=6.2.0 in /Users/hmp/opt/anaconda3/envs/yonsei/lib/python3.7/site-packages (from matplotlib>=3.0.0->mlxtend) (8.1.2)\n",
      "Requirement already satisfied: python-dateutil>=2.1 in /Users/hmp/opt/anaconda3/envs/yonsei/lib/python3.7/site-packages (from matplotlib>=3.0.0->mlxtend) (2.8.1)\n",
      "Requirement already satisfied: kiwisolver>=1.0.1 in /Users/hmp/opt/anaconda3/envs/yonsei/lib/python3.7/site-packages (from matplotlib>=3.0.0->mlxtend) (1.3.1)\n",
      "Requirement already satisfied: cycler>=0.10 in /Users/hmp/opt/anaconda3/envs/yonsei/lib/python3.7/site-packages (from matplotlib>=3.0.0->mlxtend) (0.10.0)\n",
      "Requirement already satisfied: six in /Users/hmp/opt/anaconda3/envs/yonsei/lib/python3.7/site-packages (from cycler>=0.10->matplotlib>=3.0.0->mlxtend) (1.15.0)\n",
      "Requirement already satisfied: pytz>=2017.3 in /Users/hmp/opt/anaconda3/envs/yonsei/lib/python3.7/site-packages (from pandas>=0.24.2->mlxtend) (2021.1)\n",
      "Requirement already satisfied: threadpoolctl>=2.0.0 in /Users/hmp/opt/anaconda3/envs/yonsei/lib/python3.7/site-packages (from scikit-learn>=0.20.3->mlxtend) (2.1.0)\n",
      "Installing collected packages: mlxtend\n",
      "\u001b[33mWARNING: Value for scheme.headers does not match. Please report this to <https://github.com/pypa/pip/issues/9617>\n",
      "distutils: /Users/hmp/opt/anaconda3/envs/yonsei/include/python3.7m/UNKNOWN\n",
      "sysconfig: /Users/hmp/opt/anaconda3/envs/yonsei/include/python3.7m\u001b[0m\n",
      "\u001b[33mWARNING: Additional context:\n",
      "user = False\n",
      "home = None\n",
      "root = None\n",
      "prefix = None\u001b[0m\n",
      "Successfully installed mlxtend-0.18.0\n"
     ]
    }
   ],
   "source": [
    "!pip install --upgrade pip\n",
    "!pip install mlxtend"
   ]
  },
  {
   "cell_type": "markdown",
   "metadata": {},
   "source": [
    "- `mlxtend` 라이브러리를 설치한 뒤에 결정 경계 시각화에서 에러가 나는 것을 대비해 아래 두 줄의 코드를 차례대로 실행"
   ]
  },
  {
   "cell_type": "code",
   "execution_count": null,
   "metadata": {},
   "outputs": [
    {
     "name": "stdout",
     "output_type": "stream",
     "text": [
      "Collecting package metadata (current_repodata.json): done\n",
      "Solving environment: done\n",
      "\n",
      "\n",
      "==> WARNING: A newer version of conda exists. <==\n",
      "  current version: 4.9.2\n",
      "  latest version: 4.10.1\n",
      "\n",
      "Please update conda by running\n",
      "\n",
      "    $ conda update -n base -c defaults conda\n",
      "\n",
      "\n",
      "\n",
      "## Package Plan ##\n",
      "\n",
      "  environment location: /Users/hmp/opt/anaconda3/envs/yonsei\n",
      "\n",
      "  added / updated specs:\n",
      "    - mlxtend\n",
      "\n",
      "\n",
      "The following packages will be downloaded:\n",
      "\n",
      "    package                    |            build\n",
      "    ---------------------------|-----------------\n",
      "    ca-certificates-2020.12.5  |       h033912b_0         138 KB  conda-forge\n",
      "    certifi-2020.12.5          |   py37hf985489_1         143 KB  conda-forge\n",
      "    cycler-0.10.0              |             py_2           9 KB  conda-forge\n",
      "    freetype-2.10.4            |       h4cff582_1         890 KB  conda-forge\n",
      "    joblib-1.0.1               |     pyhd8ed1ab_0         206 KB  conda-forge\n",
      "    kiwisolver-1.3.1           |   py37h23ab428_0          52 KB\n",
      "    libblas-3.9.0              |       8_openblas          11 KB  conda-forge\n",
      "    libcblas-3.9.0             |       8_openblas          11 KB  conda-forge\n",
      "    libgfortran-4.0.0          |7_5_0_h1a10cd1_22          19 KB  conda-forge\n",
      "    libgfortran4-7.5.0         |      h1a10cd1_22         1.0 MB  conda-forge\n",
      "    liblapack-3.9.0            |       8_openblas          11 KB  conda-forge\n",
      "    libopenblas-0.3.12         |openmp_h63d9170_1         8.7 MB  conda-forge\n",
      "    libpng-1.6.37              |       h7cec526_2         313 KB  conda-forge\n",
      "    llvm-openmp-11.1.0         |       hda6cdc1_1         268 KB  conda-forge\n",
      "    matplotlib-base-3.2.2      |   py37hddda452_1         7.1 MB  conda-forge\n",
      "    mlxtend-0.18.0             |     pyhd3deb0d_0         1.2 MB  conda-forge\n",
      "    numpy-1.20.2               |   py37h84c02c4_0         5.5 MB  conda-forge\n",
      "    openssl-1.1.1k             |       h0d85af4_0         1.9 MB  conda-forge\n",
      "    pandas-1.0.1               |   py37h4f17bb1_0        10.1 MB  conda-forge\n",
      "    pyparsing-2.4.7            |     pyh9f0ad1d_0          60 KB  conda-forge\n",
      "    python-dateutil-2.8.1      |             py_0         220 KB  conda-forge\n",
      "    python_abi-3.7             |          1_cp37m           4 KB  conda-forge\n",
      "    pytz-2021.1                |     pyhd8ed1ab_0         239 KB  conda-forge\n",
      "    scikit-learn-0.22.1        |   py37h3dc85bc_1         6.3 MB  conda-forge\n",
      "    scipy-1.4.1                |   py37hce1b9e5_3        18.9 MB  conda-forge\n",
      "    six-1.15.0                 |     pyh9f0ad1d_0          14 KB  conda-forge\n",
      "    tornado-6.1                |   py37hf967b71_1         641 KB  conda-forge\n",
      "    ------------------------------------------------------------\n",
      "                                           Total:        63.9 MB\n",
      "\n",
      "The following NEW packages will be INSTALLED:\n",
      "\n",
      "  cycler             conda-forge/noarch::cycler-0.10.0-py_2\n",
      "  freetype           conda-forge/osx-64::freetype-2.10.4-h4cff582_1\n",
      "  joblib             conda-forge/noarch::joblib-1.0.1-pyhd8ed1ab_0\n",
      "  kiwisolver         pkgs/main/osx-64::kiwisolver-1.3.1-py37h23ab428_0\n",
      "  libblas            conda-forge/osx-64::libblas-3.9.0-8_openblas\n",
      "  libcblas           conda-forge/osx-64::libcblas-3.9.0-8_openblas\n",
      "  libgfortran        conda-forge/osx-64::libgfortran-4.0.0-7_5_0_h1a10cd1_22\n",
      "  libgfortran4       conda-forge/osx-64::libgfortran4-7.5.0-h1a10cd1_22\n",
      "  liblapack          conda-forge/osx-64::liblapack-3.9.0-8_openblas\n",
      "  libopenblas        conda-forge/osx-64::libopenblas-0.3.12-openmp_h63d9170_1\n",
      "  libpng             conda-forge/osx-64::libpng-1.6.37-h7cec526_2\n",
      "  llvm-openmp        conda-forge/osx-64::llvm-openmp-11.1.0-hda6cdc1_1\n",
      "  matplotlib-base    conda-forge/osx-64::matplotlib-base-3.2.2-py37hddda452_1\n",
      "  mlxtend            conda-forge/noarch::mlxtend-0.18.0-pyhd3deb0d_0\n",
      "  numpy              conda-forge/osx-64::numpy-1.20.2-py37h84c02c4_0\n",
      "  pandas             conda-forge/osx-64::pandas-1.0.1-py37h4f17bb1_0\n",
      "  pyparsing          conda-forge/noarch::pyparsing-2.4.7-pyh9f0ad1d_0\n",
      "  python-dateutil    conda-forge/noarch::python-dateutil-2.8.1-py_0\n",
      "  python_abi         conda-forge/osx-64::python_abi-3.7-1_cp37m\n",
      "  pytz               conda-forge/noarch::pytz-2021.1-pyhd8ed1ab_0\n",
      "  scikit-learn       conda-forge/osx-64::scikit-learn-0.22.1-py37h3dc85bc_1\n",
      "  scipy              conda-forge/osx-64::scipy-1.4.1-py37hce1b9e5_3\n",
      "  six                conda-forge/noarch::six-1.15.0-pyh9f0ad1d_0\n",
      "  tornado            conda-forge/osx-64::tornado-6.1-py37hf967b71_1\n",
      "\n",
      "The following packages will be UPDATED:\n",
      "\n",
      "  certifi            pkgs/main::certifi-2020.12.5-py37hecd~ --> conda-forge::certifi-2020.12.5-py37hf985489_1\n",
      "  openssl              pkgs/main::openssl-1.1.1j-h9ed2024_0 --> conda-forge::openssl-1.1.1k-h0d85af4_0\n",
      "\n",
      "The following packages will be SUPERSEDED by a higher-priority channel:\n",
      "\n",
      "  ca-certificates    pkgs/main::ca-certificates-2021.1.19-~ --> conda-forge::ca-certificates-2020.12.5-h033912b_0\n",
      "\n",
      "\n",
      "\n",
      "Downloading and Extracting Packages\n",
      "certifi-2020.12.5    | 143 KB    | ##################################### | 100% \n",
      "python-dateutil-2.8. | 220 KB    | ##################################### | 100% \n",
      "liblapack-3.9.0      | 11 KB     | ##################################### | 100% \n",
      "scipy-1.4.1          | 18.9 MB   | ##################################### | 100% \n",
      "python_abi-3.7       | 4 KB      | ##################################### | 100% \n",
      "pyparsing-2.4.7      | 60 KB     | ##################################### | 100% \n",
      "pandas-1.0.1         | 10.1 MB   | ##################################### | 100% \n",
      "libblas-3.9.0        | 11 KB     | ##################################### | 100% \n",
      "libgfortran4-7.5.0   | 1.0 MB    | ##################################### | 100% \n",
      "tornado-6.1          | 641 KB    | ##################################### | 100% \n",
      "openssl-1.1.1k       | 1.9 MB    | ##################################### | 100% \n",
      "pytz-2021.1          | 239 KB    | ##################################### | 100% \n",
      "kiwisolver-1.3.1     | 52 KB     | ##################################### | 100% \n",
      "llvm-openmp-11.1.0   | 268 KB    | ##################################### | 100% \n",
      "libcblas-3.9.0       | 11 KB     | ##################################### | 100% \n",
      "numpy-1.20.2         | 5.5 MB    | ##################################### | 100% \n",
      "ca-certificates-2020 | 138 KB    | ##################################### | 100% \n",
      "cycler-0.10.0        | 9 KB      | ##################################### | 100% \n",
      "joblib-1.0.1         | 206 KB    | ##################################### | 100% \n",
      "libpng-1.6.37        | 313 KB    | ##################################### | 100% \n",
      "scikit-learn-0.22.1  | 6.3 MB    | ##################################### | 100% \n",
      "matplotlib-base-3.2. | 7.1 MB    | ##################################### | 100% \n",
      "six-1.15.0           | 14 KB     | ##################################### | 100% \n",
      "libgfortran-4.0.0    | 19 KB     | ##################################### | 100% \n",
      "freetype-2.10.4      | 890 KB    | ##################################### | 100% \n",
      "mlxtend-0.18.0       | 1.2 MB    | ##################################### | 100% \n",
      "libopenblas-0.3.12   | 8.7 MB    | #####9                                |  16% "
     ]
    }
   ],
   "source": [
    "conda install mlxtend --channel conda-forge"
   ]
  },
  {
   "cell_type": "code",
   "execution_count": null,
   "metadata": {},
   "outputs": [],
   "source": [
    "conda install -c conda-forge mlxtend"
   ]
  },
  {
   "cell_type": "markdown",
   "metadata": {},
   "source": [
    "- 결정 경계 시각화를 위한 함수 설치"
   ]
  },
  {
   "cell_type": "code",
   "execution_count": null,
   "metadata": {},
   "outputs": [],
   "source": [
    "from mlxtend.plotting import plot_decision_regions"
   ]
  },
  {
   "cell_type": "code",
   "execution_count": null,
   "metadata": {},
   "outputs": [],
   "source": [
    "import warnings\n",
    "warnings.filterwarnings(action='ignore')"
   ]
  },
  {
   "cell_type": "markdown",
   "metadata": {},
   "source": [
    "- 포르투갈 은행이 2008년 5월부터 2010년 11월까지 고객을 대상으로 한 전화 설문에서 얻은 데이터와 해당 고객의 **정기 예금** 가입 여부(1:여, 0:부)\n",
    "- 목적: 새로운 고객의 설문 데이터를 바탕으로 해당 고객이 향후 정기 예금에 가입할 지 예측\n",
    "- 출처: https://archive.ics.uci.edu/ml/datasets/Bank+Marketing     "
   ]
  },
  {
   "cell_type": "code",
   "execution_count": null,
   "metadata": {},
   "outputs": [],
   "source": [
    "data = pd.read_csv('Bank.csv')\n",
    "print(data.shape)\n",
    "data.head()"
   ]
  },
  {
   "cell_type": "code",
   "execution_count": null,
   "metadata": {
    "scrolled": true
   },
   "outputs": [],
   "source": [
    "X = data.iloc[:,:-1]\n",
    "y = data.iloc[:,-1]"
   ]
  },
  {
   "cell_type": "markdown",
   "metadata": {},
   "source": [
    "- `X` 변수\n",
    "   1. `age`: **나이** (numeric)\n",
    "   2. `balance`: **연평균잔고(단위:유로)** (numeric) \n",
    "   3. `duration`: **마지막 접촉 이후 기간(단위:초)** (numeric)\n",
    "   4. `marital_married`: **기혼 여부** (\"married\" or not)\n",
    "   5. `marital_single`: **미혼 여부** (\"single\" or not)\n",
    "   6. `education_secondary`: **중등교육 여부** (\"secondary\" or not)\n",
    "   7. `education_tertiary`: **고등교육 여부** (\"tertiary\" or not)\n",
    "   8. `education_unknown`: **교육수준의 결측 여부** (\"secondary\" or not)\n",
    "   9. `housing`: **주택담보대출 여부** (\"yes\" or \"no\")\n",
    "   10. `loan`: **개인신용대출 여부** (\"yes\" or \"no\")\n",
    "   11. `poutcome_other`: **이전 마케팅의 결과는 other** (\"yes\" or \"no\")\n",
    "   12. `poutcome_success`: **이전 마케팅의 결과는 성공** (\"yes\" or \"no\")\n",
    "   13. `poutcome_unknown`: **이전 마케팅의 결과는 모름** (\"yes\" or \"no\")\n",
    "   \n",
    "   \n",
    "- `y` 변수\n",
    "    - `y`: **정기 예금 가입 여부** (\"yes\" or \"no\")"
   ]
  },
  {
   "cell_type": "markdown",
   "metadata": {},
   "source": [
    "- 데이터 시각화: `balance`와 `duration`의 산점도"
   ]
  },
  {
   "cell_type": "code",
   "execution_count": null,
   "metadata": {},
   "outputs": [],
   "source": [
    "plt.scatter(X.iloc[:,1],X.iloc[:,2],c=y,alpha=.8)\n",
    "\n",
    "plt.title('Scatter plot of balance and duration, grouped by y')\n",
    "plt.xlabel('balance')\n",
    "plt.ylabel('duration')\n",
    "patch0 = mpatches.Patch(color='purple', label='y=0')\n",
    "patch1 = mpatches.Patch(color='yellow', label='y=1')\n",
    "plt.legend(handles=[patch0, patch1])\n",
    "plt.savefig('Bank.png', dpi=300)\n",
    "plt.show()"
   ]
  },
  {
   "cell_type": "markdown",
   "metadata": {},
   "source": [
    "- 데이터의 70%를 훈련용(`train`)으로 사용하고 나머지 30%를 테스트용(`test`)으로 사용하기 위해 분리\n",
    "- `stratify=y`를 사용하여 훈련용 데이터와 테스트용 데이터의 `y` 비율이 동일하게 함 "
   ]
  },
  {
   "cell_type": "code",
   "execution_count": null,
   "metadata": {},
   "outputs": [],
   "source": [
    "X_train, X_test, y_train, y_test = train_test_split(X, y, test_size=0.3, random_state=1, stratify=y)"
   ]
  },
  {
   "cell_type": "code",
   "execution_count": null,
   "metadata": {},
   "outputs": [],
   "source": [
    "print('Labels counts in y:', np.bincount(y))\n",
    "print('Labels counts in y_train:', np.bincount(y_train))\n",
    "print('Labels counts in y_test:', np.bincount(y_test))"
   ]
  },
  {
   "cell_type": "markdown",
   "metadata": {},
   "source": [
    "- 훈련용 데이터의 `X_train`를 표준화 (평균이 0, 표준편차가 1)\n",
    "- 표준화를 통해 학습의 안전성과 속도를 높임"
   ]
  },
  {
   "cell_type": "code",
   "execution_count": null,
   "metadata": {},
   "outputs": [],
   "source": [
    "from sklearn.preprocessing import StandardScaler\n",
    "sc = StandardScaler()\n",
    "\n",
    "sc.fit(X_train) # training data의 X에 대한 평균과 표준편차를 계산\n",
    "\n",
    "X_train_std = sc.transform(X_train) # 표준화\n",
    "X_test_std  = sc.transform(X_test) # 표준화\n",
    "\n",
    "X_combined_std = np.vstack((X_train_std, X_test_std)) # 전체 데이터\n",
    "y_combined = np.hstack((y_train, y_test)) # 전체 데이터"
   ]
  },
  {
   "cell_type": "code",
   "execution_count": null,
   "metadata": {},
   "outputs": [],
   "source": [
    "print(np.mean(X_train_std), np.std(X_train_std))"
   ]
  },
  {
   "cell_type": "code",
   "execution_count": null,
   "metadata": {},
   "outputs": [],
   "source": [
    "print(np.mean(X_test_std), np.std(X_test_std))"
   ]
  },
  {
   "cell_type": "markdown",
   "metadata": {},
   "source": [
    "- 훈련용 데이터에 선형 SVM 학습"
   ]
  },
  {
   "cell_type": "code",
   "execution_count": null,
   "metadata": {},
   "outputs": [],
   "source": [
    "svm = SVC(kernel='linear')\n",
    "svm.fit(X_train_std, y_train)"
   ]
  },
  {
   "cell_type": "markdown",
   "metadata": {},
   "source": [
    "- 테스트용 데이터에 선형 SVM 성능 측정"
   ]
  },
  {
   "cell_type": "code",
   "execution_count": null,
   "metadata": {},
   "outputs": [],
   "source": [
    "y_pred = svm.predict(X_test_std)\n",
    "confusion_matrix(y_test, y_pred)"
   ]
  },
  {
   "cell_type": "code",
   "execution_count": null,
   "metadata": {},
   "outputs": [],
   "source": [
    "print('Misclassified samples: %d' % (y_test != y_pred).sum())"
   ]
  },
  {
   "cell_type": "code",
   "execution_count": null,
   "metadata": {},
   "outputs": [],
   "source": [
    "print('Accuracy: %.2f' % accuracy_score(y_test, y_pred))\n",
    "print('Precision: %.2f' % precision_score(y_test, y_pred))\n",
    "print('Recall: %.2f' % recall_score(y_test, y_pred))\n",
    "print('F1: %.2f' % f1_score(y_test, y_pred))"
   ]
  },
  {
   "cell_type": "markdown",
   "metadata": {},
   "source": [
    "#### 2.2 규칙화 모수의 조정\n",
    "\n",
    "- `C`: 규칙화(regularization) 모수로 오분류를 어느정도 허용할 것인지를 결정 (디폴트 값은 1로서 항상 0보다 큰 값을 가짐)\n",
    "- `C`가 클수록 오분류를 허용 안하고 (하드 마진), 작을수록 오분류를 허용함 (소프트 마진)"
   ]
  },
  {
   "cell_type": "code",
   "execution_count": null,
   "metadata": {},
   "outputs": [],
   "source": [
    "data = pd.read_csv('Toy.csv')\n",
    "X = data[['x1','x2']].values\n",
    "y = data['y'].values\n",
    "plt.scatter('x1','x2',c='y',data=data)\n",
    "plt.show()"
   ]
  },
  {
   "cell_type": "code",
   "execution_count": null,
   "metadata": {},
   "outputs": [],
   "source": [
    "scatter_kwargs = {'edgecolor': None, 'alpha': 0.7}\n",
    "contourf_kwargs = {'alpha': 0.2}"
   ]
  },
  {
   "cell_type": "code",
   "execution_count": null,
   "metadata": {},
   "outputs": [],
   "source": [
    "C=100\n",
    "svm = SVC(kernel='linear', C=C, random_state=1)\n",
    "svm.fit(X,y)\n",
    "plot_decision_regions(X, y, clf=svm, \n",
    "                      scatter_kwargs=scatter_kwargs,\n",
    "                      contourf_kwargs=contourf_kwargs)\n",
    "plt.legend(loc='upper left')\n",
    "plt.show()"
   ]
  },
  {
   "cell_type": "code",
   "execution_count": null,
   "metadata": {},
   "outputs": [],
   "source": [
    "C=0.01\n",
    "svm = SVC(kernel='linear', C=C, random_state=1)\n",
    "svm.fit(X,y)\n",
    "plot_decision_regions(X, y, clf=svm, \n",
    "                      scatter_kwargs=scatter_kwargs,\n",
    "                      contourf_kwargs=contourf_kwargs)\n",
    "plt.legend(loc='upper left')\n",
    "plt.show()"
   ]
  }
 ],
 "metadata": {
  "anaconda-cloud": {},
  "kernelspec": {
   "display_name": "Python 3",
   "language": "python",
   "name": "python3"
  },
  "language_info": {
   "codemirror_mode": {
    "name": "ipython",
    "version": 3
   },
   "file_extension": ".py",
   "mimetype": "text/x-python",
   "name": "python",
   "nbconvert_exporter": "python",
   "pygments_lexer": "ipython3",
   "version": "3.7.10"
  }
 },
 "nbformat": 4,
 "nbformat_minor": 1
}
