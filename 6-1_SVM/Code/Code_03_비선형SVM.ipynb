{
 "cells": [
  {
   "cell_type": "markdown",
   "metadata": {},
   "source": [
    " # 서포트 벡터 머신 (SVM)"
   ]
  },
  {
   "cell_type": "markdown",
   "metadata": {},
   "source": [
    "###  박태영 교수\n",
    "### 연세대학교 응용통계학과"
   ]
  },
  {
   "cell_type": "markdown",
   "metadata": {},
   "source": [
    "### Outline\n",
    "\n",
    "### 3. 비선형 SVM\n",
    "    3.1 가우시안 RBF SVM\n",
    "    3.2 금융 데이터 예제\n",
    "    3.3 제조 데이터 예제"
   ]
  },
  {
   "cell_type": "markdown",
   "metadata": {},
   "source": [
    "#### 3.1 가우시안 RBF SVM\n",
    "\n",
    "- 필요한 모듈을 설치"
   ]
  },
  {
   "cell_type": "code",
   "execution_count": null,
   "metadata": {},
   "outputs": [],
   "source": [
    "import numpy as np\n",
    "import pandas as pd\n",
    "import matplotlib.pyplot as plt \n",
    "import matplotlib.patches as mpatches \n",
    "from IPython.display import Image\n",
    "from mlxtend.plotting import plot_decision_regions\n",
    "\n",
    "from sklearn.svm import SVC\n",
    "from sklearn.model_selection import train_test_split\n",
    "from sklearn.metrics import confusion_matrix\n",
    "from sklearn.metrics import accuracy_score, precision_score, recall_score, f1_score"
   ]
  },
  {
   "cell_type": "markdown",
   "metadata": {},
   "source": [
    "- XOR 예제"
   ]
  },
  {
   "cell_type": "code",
   "execution_count": null,
   "metadata": {
    "scrolled": true
   },
   "outputs": [],
   "source": [
    "data = pd.read_csv('XOR.csv')\n",
    "X = data[['x1','x2']].values\n",
    "y = data['y'].values\n",
    "\n",
    "plt.rcParams[\"figure.figsize\"] = (5,5)\n",
    "plt.scatter('x1','x2',c='y',data=data)\n",
    "plt.show()"
   ]
  },
  {
   "cell_type": "markdown",
   "metadata": {},
   "source": [
    "- 결정 영역 그림에 대한 옵션"
   ]
  },
  {
   "cell_type": "code",
   "execution_count": null,
   "metadata": {},
   "outputs": [],
   "source": [
    "import warnings\n",
    "warnings.filterwarnings(action='ignore')\n",
    "\n",
    "scatter_kwargs = {'edgecolor': None, 'alpha': 0.7}\n",
    "contourf_kwargs = {'alpha': 0.2}"
   ]
  },
  {
   "cell_type": "markdown",
   "metadata": {},
   "source": [
    "- gamma와 C의 입력값을 받아 가우시안 RBF 커널을 이용한 비선형 SVM의 결정 영역을 시각화하는 함수"
   ]
  },
  {
   "cell_type": "code",
   "execution_count": null,
   "metadata": {},
   "outputs": [],
   "source": [
    "def decision_region(gamma,C):\n",
    "    svm = SVC(kernel='rbf', random_state=1, gamma=gamma, C=C) \n",
    "    svm.fit(X, y)\n",
    "    plot_decision_regions(X, y, clf=svm, \n",
    "                          scatter_kwargs=scatter_kwargs,\n",
    "                          contourf_kwargs=contourf_kwargs)\n",
    "    plt.legend(loc='upper left')\n",
    "    plt.title('$\\gamma$ = {},  $C$ = {}'.format(gamma,C),size=10)"
   ]
  },
  {
   "cell_type": "markdown",
   "metadata": {},
   "source": [
    "- gamma와 C의 값의 모든 조합에 대한 가우시안 RBF SVM의 결정 영역 시각화"
   ]
  },
  {
   "cell_type": "code",
   "execution_count": null,
   "metadata": {},
   "outputs": [],
   "source": [
    "par_g = [0.01, 1, 100]\n",
    "par_c = [0.01, 1, 100]\n",
    "k = 1\n",
    "\n",
    "plt.rcParams[\"figure.figsize\"] = (10,10)\n",
    "for gamma in par_g:\n",
    "    for C in par_c:\n",
    "        loc = int(str(len(par_g))+str(len(par_c))+str(k))\n",
    "        k += 1\n",
    "        plt.subplot(loc)\n",
    "        decision_region(gamma,C)\n",
    "        \n",
    "plt.savefig('RBF_SVM.png', dpi=300)\n",
    "plt.show()"
   ]
  },
  {
   "cell_type": "markdown",
   "metadata": {},
   "source": [
    "#### 3.2 금융 데이터 예제\n",
    "\n",
    "- 포르투갈 은행의 전화 설문을 통한 고객 정보와 **정기 예금** 가입 여부(1:여, 0:부)\n",
    "- 출처: https://archive.ics.uci.edu/ml/datasets/Bank+Marketing     "
   ]
  },
  {
   "cell_type": "code",
   "execution_count": null,
   "metadata": {},
   "outputs": [],
   "source": [
    "data = pd.read_csv('Bank.csv')\n",
    "X = data.iloc[:,:-1]\n",
    "y = data.iloc[:,-1]"
   ]
  },
  {
   "cell_type": "markdown",
   "metadata": {},
   "source": [
    "- `X` 변수\n",
    "   1. `age`: **나이** (numeric)\n",
    "   2. `balance`: **연평균잔고(단위:유로)** (numeric) \n",
    "   3. `duration`: **마지막 접촉 이후 기간(단위:초)** (numeric)\n",
    "   4. `marital_married`: **기혼 여부** (\"married\" or not)\n",
    "   5. `marital_single`: **미혼 여부** (\"single\" or not)\n",
    "   6. `education_secondary`: **중등교육 여부** (\"secondary\" or not)\n",
    "   7. `education_tertiary`: **고등교육 여부** (\"tertiary\" or not)\n",
    "   8. `education_unknown`: **교육수준의 결측 여부** (\"secondary\" or not)\n",
    "   9. `housing`: **주택담보대출 여부** (\"yes\" or \"no\")\n",
    "   10. `loan`: **개인담보대출 여부** (\"yes\" or \"no\")\n",
    "   11. `poutcome_other`: **이전 마케팅의 결과는 other** (\"yes\" or \"no\")\n",
    "   12. `poutcome_success`: **이전 마케팅의 결과는 성공** (\"yes\" or \"no\")\n",
    "   13. `poutcome_unknown`: **이전 마케팅의 결과는 모름** (\"yes\" or \"no\")\n",
    "   \n",
    "   \n",
    "- `y` 변수\n",
    "    - `y`: **정기 예금 가입 여부** (\"yes\" or \"no\")"
   ]
  },
  {
   "cell_type": "markdown",
   "metadata": {},
   "source": [
    "- 데이터의 70%를 훈련용(`train`)으로 사용하고 나머지 30%를 테스트용(`test`)으로 사용하기 위해 분리\n",
    "- `stratify=y`를 사용하여 훈련용 데이터와 테스트용 데이터의 `y` 비율이 동일하게 함 "
   ]
  },
  {
   "cell_type": "code",
   "execution_count": null,
   "metadata": {},
   "outputs": [],
   "source": [
    "X_train, X_test, y_train, y_test = train_test_split(X, y, test_size=0.3, random_state=1, stratify=y)"
   ]
  },
  {
   "cell_type": "markdown",
   "metadata": {},
   "source": [
    "- 훈련용 데이터의 `X_train`를 표준화 (평균이 0, 표준편차가 1)\n",
    "- 표준화를 통해 학습의 안전성과 속도를 높임"
   ]
  },
  {
   "cell_type": "code",
   "execution_count": null,
   "metadata": {},
   "outputs": [],
   "source": [
    "from sklearn.preprocessing import StandardScaler\n",
    "sc = StandardScaler()\n",
    "\n",
    "sc.fit(X_train) # training data의 X에 대한 평균과 표준편차를 계산\n",
    "\n",
    "X_train_std = sc.transform(X_train) # 표준화\n",
    "X_test_std  = sc.transform(X_test) # 표준화\n",
    "\n",
    "X_combined_std = np.vstack((X_train_std, X_test_std)) # 전체 데이터\n",
    "y_combined = np.hstack((y_train, y_test)) # 전체 데이터"
   ]
  },
  {
   "cell_type": "markdown",
   "metadata": {},
   "source": [
    "- 훈련용 데이터에 비선형 SVM 학습"
   ]
  },
  {
   "cell_type": "code",
   "execution_count": null,
   "metadata": {},
   "outputs": [],
   "source": [
    "svm1 = SVC(kernel='linear')\n",
    "svm2 = SVC(kernel='rbf', gamma='auto', C=1)\n",
    "svm3 = SVC(kernel='sigmoid', gamma='auto', C=1)\n",
    "svm4 = SVC(kernel='poly', gamma='auto', C=1)\n",
    "\n",
    "svm1.fit(X_train_std, y_train)\n",
    "svm2.fit(X_train_std, y_train)\n",
    "svm3.fit(X_train_std, y_train)\n",
    "svm4.fit(X_train_std, y_train)"
   ]
  },
  {
   "cell_type": "markdown",
   "metadata": {},
   "source": [
    "- 테스트용 데이터에 비선형 SVM 성능 측정"
   ]
  },
  {
   "cell_type": "code",
   "execution_count": null,
   "metadata": {},
   "outputs": [],
   "source": [
    "y_pred1 = svm1.predict(X_test_std)\n",
    "y_pred2 = svm2.predict(X_test_std)\n",
    "y_pred3 = svm3.predict(X_test_std)\n",
    "y_pred4 = svm4.predict(X_test_std)"
   ]
  },
  {
   "cell_type": "markdown",
   "metadata": {},
   "source": [
    "- 정확도, 정밀도, 재현율, F1점수를 기준으로 알고리즘 비교"
   ]
  },
  {
   "cell_type": "code",
   "execution_count": null,
   "metadata": {},
   "outputs": [],
   "source": [
    "def scores(y_pred):\n",
    "    out = pd.Series([accuracy_score(y_test, y_pred), \n",
    "                     precision_score(y_test, y_pred),\n",
    "                     recall_score(y_test, y_pred),\n",
    "                     f1_score(y_test, y_pred)],\n",
    "                    ['Accuracy', 'Precision', 'Recall', 'F1 score'])\n",
    "    return out"
   ]
  },
  {
   "cell_type": "code",
   "execution_count": null,
   "metadata": {},
   "outputs": [],
   "source": [
    "out1 = scores(y_pred1)\n",
    "out2 = scores(y_pred2)\n",
    "out3 = scores(y_pred3)\n",
    "out4 = scores(y_pred4)\n",
    "\n",
    "pd.DataFrame([out1,out2,out3,out4], index=['Linear', 'RBF', 'Sigmoid', 'Polynomial'])"
   ]
  },
  {
   "cell_type": "markdown",
   "metadata": {},
   "source": [
    "#### 3.3 제조 데이터 예제\n",
    "\n",
    "- 반도체 생산 과정에서 590개의 센서로부터 얻은 데이터\n",
    "- 590개의 숫자형 특성변수, **정상/비정상**에 대한 범주변수(-1:정상,1:비정상)로 구성\n",
    "- 목적: 새로운 반도체 센서 데이터가 주어졌을 때, 비정상을 예측 분류\n",
    "- 출처: http://archive.ics.uci.edu/ml/datasets/secom  "
   ]
  },
  {
   "cell_type": "code",
   "execution_count": null,
   "metadata": {},
   "outputs": [],
   "source": [
    "data = pd.read_csv('Secom.csv')\n",
    "print(data.shape)\n",
    "data.head()"
   ]
  },
  {
   "cell_type": "markdown",
   "metadata": {},
   "source": [
    "- 특성 변수별 결측 비율의 시각화"
   ]
  },
  {
   "cell_type": "code",
   "execution_count": null,
   "metadata": {},
   "outputs": [],
   "source": [
    "missing = data.isnull().sum() / len(data)\n",
    "\n",
    "plt.figure(figsize=(10, 5))\n",
    "\n",
    "plt.subplot(121)\n",
    "plt.boxplot(missing)\n",
    "plt.ylabel('Missing data proportion')\n",
    "\n",
    "plt.subplot(122)\n",
    "plt.bar(range(len(data.columns)), missing)\n",
    "plt.xlabel('Feature')\n",
    "plt.ylabel('Missing data proportion')\n",
    "\n",
    "print('Number of columns with missing data : %d' %sum(missing > 0))"
   ]
  },
  {
   "cell_type": "markdown",
   "metadata": {},
   "source": [
    "- 결측 비율이 10%이상인 특성 변수 제외"
   ]
  },
  {
   "cell_type": "code",
   "execution_count": null,
   "metadata": {},
   "outputs": [],
   "source": [
    "data_com = data.loc[:,[x < 0.1 for x in missing]]\n",
    "sum(missing >= 0.1)"
   ]
  },
  {
   "cell_type": "markdown",
   "metadata": {},
   "source": [
    "- 결측값의 평균값 대체"
   ]
  },
  {
   "cell_type": "code",
   "execution_count": null,
   "metadata": {},
   "outputs": [],
   "source": [
    "data1 = data2 = data_com\n",
    "\n",
    "data1.fillna(method = 'ffill', inplace = True) # 앞의 값으로 대체\n",
    "data2.fillna(method = 'bfill', inplace = True) # 뒤의 값으로 대체"
   ]
  },
  {
   "cell_type": "code",
   "execution_count": null,
   "metadata": {},
   "outputs": [],
   "source": [
    "data_com = (data1+data2)/2"
   ]
  },
  {
   "cell_type": "markdown",
   "metadata": {},
   "source": [
    "- 특성 변수 및 범주 변수의 정의"
   ]
  },
  {
   "cell_type": "code",
   "execution_count": null,
   "metadata": {},
   "outputs": [],
   "source": [
    "X = data_com.iloc[:,:-1]\n",
    "y = (data_com.iloc[:,-1]+1)/2"
   ]
  },
  {
   "cell_type": "markdown",
   "metadata": {},
   "source": [
    "- 과대표집(oversampling)을 이용한 보정을 위해 필요한 모듈 설치\n",
    "- SMOTE (Synthetic Minority Oversampling Technique)을 사용하기 위해 필요한 모듈 설치"
   ]
  },
  {
   "cell_type": "code",
   "execution_count": null,
   "metadata": {
    "scrolled": true
   },
   "outputs": [],
   "source": [
    "!pip install imblearn "
   ]
  },
  {
   "cell_type": "markdown",
   "metadata": {},
   "source": [
    "- SMOTE를 불러올 때 `delayed` 모듈이 없다는 에러가 발생하는 경우, 아래의 코드에서 #을 제거 후 실행하여 설치\n",
    "- 설치 후 반드시 아나콘다를 완전히 종료하고 다시 실행"
   ]
  },
  {
   "cell_type": "code",
   "execution_count": null,
   "metadata": {},
   "outputs": [],
   "source": [
    "# !pip install delayed # 설치 후 아나콘다를 종료하고 다시 실행"
   ]
  },
  {
   "cell_type": "code",
   "execution_count": null,
   "metadata": {},
   "outputs": [],
   "source": [
    "from imblearn.over_sampling import SMOTE\n",
    "\n",
    "SMOTE = SMOTE()\n",
    "X2, y2 = SMOTE.fit_resample(X, y)"
   ]
  },
  {
   "cell_type": "code",
   "execution_count": null,
   "metadata": {},
   "outputs": [],
   "source": [
    "X.shape, X2.shape"
   ]
  },
  {
   "cell_type": "markdown",
   "metadata": {},
   "source": [
    "- 데이터의 70%를 훈련용(`train`)으로 사용하고 나머지 30%를 테스트용(`test`)으로 사용하기 위해 분리\n",
    "- `stratify=y`를 사용하여 훈련용 데이터와 테스트용 데이터의 `y` 비율이 동일하게 함 "
   ]
  },
  {
   "cell_type": "code",
   "execution_count": null,
   "metadata": {},
   "outputs": [],
   "source": [
    "X_train, X_test, y_train, y_test = train_test_split(X2, y2, test_size=0.3, random_state=1, stratify=y2)"
   ]
  },
  {
   "cell_type": "code",
   "execution_count": null,
   "metadata": {},
   "outputs": [],
   "source": [
    "print('Labels counts in y:', np.bincount(y2))\n",
    "print('Labels counts in y_train:', np.bincount(y_train))\n",
    "print('Labels counts in y_test:', np.bincount(y_test))"
   ]
  },
  {
   "cell_type": "markdown",
   "metadata": {},
   "source": [
    "- 훈련용 데이터의 `X_train`를 표준화 (평균이 0, 표준편차가 1)\n",
    "- 표준화를 통해 학습의 안전성과 속도를 높임"
   ]
  },
  {
   "cell_type": "code",
   "execution_count": null,
   "metadata": {},
   "outputs": [],
   "source": [
    "from sklearn.preprocessing import StandardScaler\n",
    "sc = StandardScaler()\n",
    "\n",
    "sc.fit(X_train) # training data의 X에 대한 평균과 표준편차를 계산\n",
    "\n",
    "X_train_std = sc.transform(X_train) # 표준화\n",
    "X_test_std  = sc.transform(X_test) # 표준화\n",
    "\n",
    "X_combined_std = np.vstack((X_train_std, X_test_std)) # 전체 데이터\n",
    "y_combined = np.hstack((y_train, y_test)) # 전체 데이터"
   ]
  },
  {
   "cell_type": "code",
   "execution_count": null,
   "metadata": {},
   "outputs": [],
   "source": [
    "print(np.mean(X_train_std), np.std(X_train_std))"
   ]
  },
  {
   "cell_type": "code",
   "execution_count": null,
   "metadata": {},
   "outputs": [],
   "source": [
    "print(np.mean(X_test_std), np.std(X_test_std))"
   ]
  },
  {
   "cell_type": "markdown",
   "metadata": {},
   "source": [
    "- 훈련용 데이터에 비선형 SVM 학습"
   ]
  },
  {
   "cell_type": "code",
   "execution_count": null,
   "metadata": {},
   "outputs": [],
   "source": [
    "svm1 = SVC(kernel='linear')\n",
    "svm2 = SVC(kernel='rbf', gamma='auto', C=1)\n",
    "svm3 = SVC(kernel='sigmoid', gamma='auto', C=1)\n",
    "svm4 = SVC(kernel='poly', gamma='auto', C=1)\n",
    "\n",
    "svm1.fit(X_train_std, y_train)\n",
    "svm2.fit(X_train_std, y_train)\n",
    "svm3.fit(X_train_std, y_train)\n",
    "svm4.fit(X_train_std, y_train)"
   ]
  },
  {
   "cell_type": "markdown",
   "metadata": {},
   "source": [
    "- 테스트용 데이터에 비선형 SVM 성능 측정"
   ]
  },
  {
   "cell_type": "code",
   "execution_count": null,
   "metadata": {},
   "outputs": [],
   "source": [
    "y_pred1 = svm1.predict(X_test_std)\n",
    "y_pred2 = svm2.predict(X_test_std)\n",
    "y_pred3 = svm3.predict(X_test_std)\n",
    "y_pred4 = svm4.predict(X_test_std)"
   ]
  },
  {
   "cell_type": "code",
   "execution_count": null,
   "metadata": {},
   "outputs": [],
   "source": [
    "out1 = scores(y_pred1)\n",
    "out2 = scores(y_pred2)\n",
    "out3 = scores(y_pred3)\n",
    "out4 = scores(y_pred4)\n",
    "\n",
    "pd.DataFrame([out1,out2,out3,out4], index=['Linear', 'RBF', 'Sigmoid', 'Polynomial'])"
   ]
  }
 ],
 "metadata": {
  "anaconda-cloud": {},
  "kernelspec": {
   "display_name": "Python 3",
   "language": "python",
   "name": "python3"
  },
  "language_info": {
   "codemirror_mode": {
    "name": "ipython",
    "version": 3
   },
   "file_extension": ".py",
   "mimetype": "text/x-python",
   "name": "python",
   "nbconvert_exporter": "python",
   "pygments_lexer": "ipython3",
   "version": "3.8.3"
  }
 },
 "nbformat": 4,
 "nbformat_minor": 1
}
