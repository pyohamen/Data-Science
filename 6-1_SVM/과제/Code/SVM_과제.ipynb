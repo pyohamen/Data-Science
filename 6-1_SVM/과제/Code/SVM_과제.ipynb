{
 "cells": [
  {
   "cell_type": "markdown",
   "metadata": {},
   "source": [
    " # 서포트 벡터 머신 (SVM)"
   ]
  },
  {
   "cell_type": "markdown",
   "metadata": {},
   "source": [
    "###  박태영 교수\n",
    "### 연세대학교 응용통계학과"
   ]
  },
  {
   "cell_type": "markdown",
   "metadata": {},
   "source": [
    "### 1. 데이터 불러오기"
   ]
  },
  {
   "cell_type": "code",
   "execution_count": null,
   "metadata": {
    "collapsed": true
   },
   "outputs": [],
   "source": [
    "from scipy.io import arff\n",
    "import pandas as pd"
   ]
  },
  {
   "cell_type": "markdown",
   "metadata": {},
   "source": [
    "- `5year.arff`: 폴란드 회사의 부도 여부 데이터로 5년 동안 관찰된 64개의 금융 특성변수를 바탕으로 이후 1년간 부도 발생 여부(1:여, 0:부)를 나타냄\n",
    "- 부도가 발생한 기업의 경우 2000~2012년의 데이터를 수집\n",
    "- 부도가 발생하지 않은 기업의 경우 2007~2013년의 데이터를 수집\n",
    "- 목적: 금융 특성변수를 바탕으로 기업의 부도여부를 예측"
   ]
  },
  {
   "cell_type": "code",
   "execution_count": null,
   "metadata": {
    "collapsed": true
   },
   "outputs": [],
   "source": [
    "# 데이터 저장\n",
    "data = arff.loadarff('5year.arff')\n",
    "df = pd.DataFrame(data[0])\n",
    "\n",
    "# 결측치 제거\n",
    "df.dropna(inplace = True)\n",
    "\n",
    "# 범주변수를 정수로 변환\n",
    "df['class'] = [int(x) for x in df['class']]\n",
    "\n",
    "# 특성변수와 범주변수를 저장\n",
    "X = df.iloc[:,:-1]\n",
    "y = df.iloc[:,-1]"
   ]
  },
  {
   "cell_type": "markdown",
   "metadata": {},
   "source": [
    "### 2. 비대칭 문제 해결하기"
   ]
  },
  {
   "cell_type": "code",
   "execution_count": null,
   "metadata": {
    "collapsed": true
   },
   "outputs": [],
   "source": [
    "# 범주변수의 비대칭 확인\n"
   ]
  },
  {
   "cell_type": "code",
   "execution_count": null,
   "metadata": {
    "collapsed": true
   },
   "outputs": [],
   "source": [
    "# SMOTE 모듈 불러오기\n",
    "from imblearn.over_sampling import SMOTE"
   ]
  },
  {
   "cell_type": "code",
   "execution_count": null,
   "metadata": {
    "collapsed": true
   },
   "outputs": [],
   "source": [
    "# SMOTE를 이용해 과대표집을 실행하여 X2, y2로 저장하기\n"
   ]
  },
  {
   "cell_type": "markdown",
   "metadata": {},
   "source": [
    "### 3. 훈련용 데이터와 테스트용 데이터 분리하기\n",
    "\n",
    "- 데이터의 70%를 훈련용(train)으로 사용하고 나머지 30%를 테스트용(test)으로 사용하기 위해 분리\n",
    "- 훈련용 데이터와 테스트용 데이터의 범주변수 비율이 동일하게 함"
   ]
  },
  {
   "cell_type": "code",
   "execution_count": null,
   "metadata": {
    "collapsed": true
   },
   "outputs": [],
   "source": [
    "# 필요한 모듈을 설치\n",
    "import numpy as np\n",
    "import matplotlib.pyplot as plt\n",
    "import matplotlib.patches as mpatches\n",
    "\n",
    "from sklearn.svm import SVC\n",
    "from sklearn.model_selection import train_test_split\n",
    "from sklearn.metrics import confusion_matrix\n",
    "from sklearn.metrics import accuracy_score, precision_score, recall_score, f1_score"
   ]
  },
  {
   "cell_type": "code",
   "execution_count": null,
   "metadata": {
    "collapsed": true
   },
   "outputs": [],
   "source": [
    "# 훈련용:테스트용 = 7:3으로 하고, 각 데이터에서 범주변수 비율이 동일하도록 분리\n"
   ]
  },
  {
   "cell_type": "markdown",
   "metadata": {},
   "source": [
    "### 4. 파이프라인 설정하기"
   ]
  },
  {
   "cell_type": "markdown",
   "metadata": {},
   "source": [
    "- 데이터 표준화 및 모형 학습의 과정을 하나의 단일 과정으로 만듬"
   ]
  },
  {
   "cell_type": "code",
   "execution_count": null,
   "metadata": {
    "collapsed": true
   },
   "outputs": [],
   "source": [
    "# 필요한 모듈을 설치\n",
    "from sklearn.preprocessing import StandardScaler\n",
    "from sklearn.pipeline import make_pipeline"
   ]
  },
  {
   "cell_type": "code",
   "execution_count": null,
   "metadata": {
    "collapsed": true
   },
   "outputs": [],
   "source": [
    "# 커널 옵션 저장\n",
    "kernels = ['linear','rbf','sigmoid','poly']\n",
    "\n",
    "# 표준화한 뒤 SVM의 커널을 변화하면서 정확도를 계산한 뒤 출력\n"
   ]
  },
  {
   "cell_type": "markdown",
   "metadata": {},
   "source": [
    "### 5. k-겹 교차검증\n",
    "\n",
    "- 훈련용 데이터를 \"훈련용 데이터 + 검증용 데이터\"로 나눠 모수값을 최적화하는 데 사용\n",
    "- 특정 검증용 데이터에 과적합하는 것을 방지하기 위해 여러 겹으로 나누어 검증"
   ]
  },
  {
   "cell_type": "code",
   "execution_count": null,
   "metadata": {
    "collapsed": true
   },
   "outputs": [],
   "source": [
    "# 필요한 모듈을 설치\n",
    "from sklearn.model_selection import cross_val_score\n",
    "from sklearn.model_selection import validation_curve"
   ]
  },
  {
   "cell_type": "code",
   "execution_count": null,
   "metadata": {
    "collapsed": true
   },
   "outputs": [],
   "source": [
    "# 하나의 모수(C)에 대한 여러 후보값 설정\n",
    "param_range = [0.001, 0.01, 0.1, 1.0, 10.0, 100.0] \n",
    "\n",
    "# 표준화 + rbf 커널 SVM의 파이프라인 설정\n",
    "\n",
    "# rbf 커널 SVM의 모수 C에 여러 후보값을 넣은 10-겹 교차검증\n"
   ]
  },
  {
   "cell_type": "code",
   "execution_count": null,
   "metadata": {
    "collapsed": true
   },
   "outputs": [],
   "source": [
    "# 훈련용 데이터의 정확도와 교차검증의 정확도에 대한 평균과 표준편차를 계산하고 화면에 출력\n"
   ]
  },
  {
   "cell_type": "code",
   "execution_count": null,
   "metadata": {
    "collapsed": true
   },
   "outputs": [],
   "source": [
    "# 모수 C값에 따라 검증곡선의 시각화 (정확도의 평균 +/- 표준편차 그림)\n"
   ]
  },
  {
   "cell_type": "markdown",
   "metadata": {},
   "source": [
    "### 6. 그리드 서치를 이용한 최적화\n",
    "\n",
    "- 여러 모형과 모수의 여러 후보값을 고려하여 머신러닝 알고리즘을 최적화"
   ]
  },
  {
   "cell_type": "code",
   "execution_count": null,
   "metadata": {
    "collapsed": true
   },
   "outputs": [],
   "source": [
    "# 필요한 모듈을 설치\n",
    "from sklearn.model_selection import GridSearchCV\n",
    "from sklearn.svm import SVC"
   ]
  },
  {
   "cell_type": "code",
   "execution_count": null,
   "metadata": {
    "collapsed": true
   },
   "outputs": [],
   "source": [
    "# 표준화 + SVM의 파이프라인 설정\n",
    "\n",
    "# 모수에 대한 여러 후보값 설정\n",
    "param_range = [0.0001, 0.001, 0.01, 0.1, 1, 10, 100, 1000]\n",
    "\n",
    "# 모형과 모수에 대한 그리드 설정\n",
    "param_grid = [{'svc__C': param_range, 'svc__kernel': ['linear']},\n",
    "              {'svc__C': param_range, 'svc__kernel': ['rbf'], 'svc__gamma': param_range}]\n",
    "\n",
    "# 10-겹 교차검증을 이용한 그리드 서치, 정확도 기준으로 비교, 모든 프로세서 사용\n",
    "\n",
    "# 훈련용 데이터에 대해 그리드 서치\n",
    "\n",
    "# 최적화된 모형 및 상응하는 정확도 출력 \n"
   ]
  },
  {
   "cell_type": "code",
   "execution_count": null,
   "metadata": {
    "collapsed": true
   },
   "outputs": [],
   "source": [
    "# 최적화된 모형의 파이프라인 저장\n",
    "\n",
    "# 훈련용 데이터에 최적화된 모형 학습\n",
    "\n",
    "# 테스트용 데이터에 정확도 계산\n"
   ]
  }
 ],
 "metadata": {
  "kernelspec": {
   "display_name": "Python 3",
   "language": "python",
   "name": "python3"
  },
  "language_info": {
   "codemirror_mode": {
    "name": "ipython",
    "version": 3
   },
   "file_extension": ".py",
   "mimetype": "text/x-python",
   "name": "python",
   "nbconvert_exporter": "python",
   "pygments_lexer": "ipython3",
   "version": "3.8.5"
  }
 },
 "nbformat": 4,
 "nbformat_minor": 4
}
