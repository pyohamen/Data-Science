{
  "nbformat": 4,
  "nbformat_minor": 0,
  "metadata": {
    "kernelspec": {
      "display_name": "Python 3",
      "language": "python",
      "name": "python3"
    },
    "language_info": {
      "codemirror_mode": {
        "name": "ipython",
        "version": 3
      },
      "file_extension": ".py",
      "mimetype": "text/x-python",
      "name": "python",
      "nbconvert_exporter": "python",
      "pygments_lexer": "ipython3",
      "version": "3.7.10"
    },
    "colab": {
      "name": "Code06_랜덤포레스트.ipynb",
      "provenance": [],
      "include_colab_link": true
    },
    "accelerator": "GPU"
  },
  "cells": [
    {
      "cell_type": "markdown",
      "metadata": {
        "id": "view-in-github",
        "colab_type": "text"
      },
      "source": [
        "<a href=\"https://colab.research.google.com/github/pyohamen/yonsei/blob/master/4-1_%EB%9E%9C%EB%8D%A4%ED%8F%AC%EB%A0%88%EC%8A%A4%ED%8A%B8/Code/Code06_%EB%9E%9C%EB%8D%A4%ED%8F%AC%EB%A0%88%EC%8A%A4%ED%8A%B8.ipynb\" target=\"_parent\"><img src=\"https://colab.research.google.com/assets/colab-badge.svg\" alt=\"Open In Colab\"/></a>"
      ]
    },
    {
      "cell_type": "markdown",
      "metadata": {
        "id": "gXar-zV9Kn5Z"
      },
      "source": [
        "# Loan 데이터 분류모형 예측성능 비교"
      ]
    },
    {
      "cell_type": "code",
      "metadata": {
        "id": "z-9BvGz6Kn5e"
      },
      "source": [
        "import pandas as pd\n",
        "import numpy as np\n",
        "import matplotlib.pyplot as plt\n",
        "import seaborn as sns"
      ],
      "execution_count": 3,
      "outputs": []
    },
    {
      "cell_type": "code",
      "metadata": {
        "id": "FkatA5snKn5f"
      },
      "source": [
        "# 로컬에서 수행시\n",
        "df = pd.read_csv('../Data/loan.csv')"
      ],
      "execution_count": null,
      "outputs": []
    },
    {
      "cell_type": "code",
      "metadata": {
        "id": "RVz9pGbzKtHp"
      },
      "source": [
        "# 코랩에서 수행시\n",
        "url = 'https://raw.githubusercontent.com/pyohamen/yonsei/master/4-1_%EB%9E%9C%EB%8D%A4%ED%8F%AC%EB%A0%88%EC%8A%A4%ED%8A%B8/Data/loan.csv'\n",
        "df = pd.read_csv(url)"
      ],
      "execution_count": 4,
      "outputs": []
    },
    {
      "cell_type": "code",
      "metadata": {
        "id": "2wS2smEpKn5f"
      },
      "source": [
        "df['job'] = df['job'].replace({'Office':0, 'ProfExe':1, 'Other':2, 'Mgr':3, 'Self':4, 'Sales':5})"
      ],
      "execution_count": 5,
      "outputs": []
    },
    {
      "cell_type": "code",
      "metadata": {
        "id": "gLwCrLLNKn5f"
      },
      "source": [
        "X = df.drop(['y'], axis=1)\n",
        "y = df['y']\n",
        "xname = X.columns\n",
        "yname = ['Normal','Bad']"
      ],
      "execution_count": 6,
      "outputs": []
    },
    {
      "cell_type": "markdown",
      "metadata": {
        "id": "yEM20WMAKn5g"
      },
      "source": [
        "## Train/Test 데이터 분할"
      ]
    },
    {
      "cell_type": "code",
      "metadata": {
        "id": "UttBWnksKn5g"
      },
      "source": [
        "from sklearn.model_selection import train_test_split\n",
        "X_train, X_test, y_train, y_test = train_test_split(X, y, test_size=0.4, random_state=0, stratify=y)"
      ],
      "execution_count": 7,
      "outputs": []
    },
    {
      "cell_type": "markdown",
      "metadata": {
        "id": "62edjS75Kn5g"
      },
      "source": [
        "## Bagging 방법"
      ]
    },
    {
      "cell_type": "code",
      "metadata": {
        "id": "xHcB46ZiKn5g"
      },
      "source": [
        "from sklearn.ensemble import BaggingClassifier"
      ],
      "execution_count": 8,
      "outputs": []
    },
    {
      "cell_type": "code",
      "metadata": {
        "id": "6QQT2VhYKn5h",
        "outputId": "606bf79b-a8bb-4ad3-b17b-74903648cee9",
        "colab": {
          "base_uri": "https://localhost:8080/"
        }
      },
      "source": [
        "bag_tree = BaggingClassifier(n_estimators=100, random_state=0)\n",
        "bag_tree.fit(X_train, y_train)\n",
        "bag_prob = bag_tree.predict_proba(X_test) # 투표결과를 출력해보자\n",
        "bag_prob"
      ],
      "execution_count": 9,
      "outputs": [
        {
          "output_type": "execute_result",
          "data": {
            "text/plain": [
              "array([[0.2 , 0.8 ],\n",
              "       [1.  , 0.  ],\n",
              "       [0.92, 0.08],\n",
              "       ...,\n",
              "       [0.02, 0.98],\n",
              "       [0.88, 0.12],\n",
              "       [0.52, 0.48]])"
            ]
          },
          "metadata": {
            "tags": []
          },
          "execution_count": 9
        }
      ]
    },
    {
      "cell_type": "code",
      "metadata": {
        "id": "To9X8x1gKn5i",
        "outputId": "a1b95747-fc3c-4936-d464-6dc3c70bc4ed",
        "colab": {
          "base_uri": "https://localhost:8080/"
        }
      },
      "source": [
        "# 로지스틱에 bagging 을 적용해보자\n",
        "from sklearn.linear_model import LogisticRegression\n",
        "bag_logit = BaggingClassifier(base_estimator=LogisticRegression(max_iter=1000),n_estimators=100,random_state=0) # 시간을 줄이기 위해 max_iter=1000\n",
        "bag_logit.fit(X_train, y_train)"
      ],
      "execution_count": 10,
      "outputs": [
        {
          "output_type": "execute_result",
          "data": {
            "text/plain": [
              "BaggingClassifier(base_estimator=LogisticRegression(C=1.0, class_weight=None,\n",
              "                                                    dual=False,\n",
              "                                                    fit_intercept=True,\n",
              "                                                    intercept_scaling=1,\n",
              "                                                    l1_ratio=None,\n",
              "                                                    max_iter=1000,\n",
              "                                                    multi_class='auto',\n",
              "                                                    n_jobs=None, penalty='l2',\n",
              "                                                    random_state=None,\n",
              "                                                    solver='lbfgs', tol=0.0001,\n",
              "                                                    verbose=0,\n",
              "                                                    warm_start=False),\n",
              "                  bootstrap=True, bootstrap_features=False, max_features=1.0,\n",
              "                  max_samples=1.0, n_estimators=100, n_jobs=None,\n",
              "                  oob_score=False, random_state=0, verbose=0, warm_start=False)"
            ]
          },
          "metadata": {
            "tags": []
          },
          "execution_count": 10
        }
      ]
    },
    {
      "cell_type": "code",
      "metadata": {
        "id": "pHBPUBGbKn5i",
        "outputId": "365829ed-2560-4102-946c-1a3aae9138f7",
        "colab": {
          "base_uri": "https://localhost:8080/"
        }
      },
      "source": [
        "bag_prob = bag_logit.predict_proba(X_test) # 투표결과\n",
        "bag_prob"
      ],
      "execution_count": 11,
      "outputs": [
        {
          "output_type": "execute_result",
          "data": {
            "text/plain": [
              "array([[0.75671118, 0.24328882],\n",
              "       [0.82224338, 0.17775662],\n",
              "       [0.80412719, 0.19587281],\n",
              "       ...,\n",
              "       [0.43214763, 0.56785237],\n",
              "       [0.26445609, 0.73554391],\n",
              "       [0.53195819, 0.46804181]])"
            ]
          },
          "metadata": {
            "tags": []
          },
          "execution_count": 11
        }
      ]
    },
    {
      "cell_type": "markdown",
      "metadata": {
        "id": "OJTu0TMNKn5j"
      },
      "source": [
        "## Random Forest 방법"
      ]
    },
    {
      "cell_type": "code",
      "metadata": {
        "id": "smwrZT1gKn5j",
        "outputId": "8d867727-50da-4b2c-e8cd-15ffdbd77ec2",
        "colab": {
          "base_uri": "https://localhost:8080/"
        }
      },
      "source": [
        "from sklearn.ensemble import RandomForestClassifier\n",
        "rf_sqrt = RandomForestClassifier(n_estimators=100,max_features=\"sqrt\",random_state=0)\n",
        "rf_sqrt.fit(X_train,y_train)"
      ],
      "execution_count": 12,
      "outputs": [
        {
          "output_type": "execute_result",
          "data": {
            "text/plain": [
              "RandomForestClassifier(bootstrap=True, ccp_alpha=0.0, class_weight=None,\n",
              "                       criterion='gini', max_depth=None, max_features='sqrt',\n",
              "                       max_leaf_nodes=None, max_samples=None,\n",
              "                       min_impurity_decrease=0.0, min_impurity_split=None,\n",
              "                       min_samples_leaf=1, min_samples_split=2,\n",
              "                       min_weight_fraction_leaf=0.0, n_estimators=100,\n",
              "                       n_jobs=None, oob_score=False, random_state=0, verbose=0,\n",
              "                       warm_start=False)"
            ]
          },
          "metadata": {
            "tags": []
          },
          "execution_count": 12
        }
      ]
    },
    {
      "cell_type": "code",
      "metadata": {
        "id": "oDkECOkhKn5k",
        "outputId": "2e0a8b36-ba4b-43aa-d10d-3f860b6622df",
        "colab": {
          "base_uri": "https://localhost:8080/"
        }
      },
      "source": [
        "from sklearn.ensemble import RandomForestClassifier\n",
        "rf_five = RandomForestClassifier(n_estimators=100,max_features=5,random_state=0)\n",
        "rf_five.fit(X_train,y_train)"
      ],
      "execution_count": 13,
      "outputs": [
        {
          "output_type": "execute_result",
          "data": {
            "text/plain": [
              "RandomForestClassifier(bootstrap=True, ccp_alpha=0.0, class_weight=None,\n",
              "                       criterion='gini', max_depth=None, max_features=5,\n",
              "                       max_leaf_nodes=None, max_samples=None,\n",
              "                       min_impurity_decrease=0.0, min_impurity_split=None,\n",
              "                       min_samples_leaf=1, min_samples_split=2,\n",
              "                       min_weight_fraction_leaf=0.0, n_estimators=100,\n",
              "                       n_jobs=None, oob_score=False, random_state=0, verbose=0,\n",
              "                       warm_start=False)"
            ]
          },
          "metadata": {
            "tags": []
          },
          "execution_count": 13
        }
      ]
    },
    {
      "cell_type": "markdown",
      "metadata": {
        "id": "LIlDf77lKn5k"
      },
      "source": [
        "## 다른 분류방법과의 비교"
      ]
    },
    {
      "cell_type": "markdown",
      "metadata": {
        "id": "1AUFWBzqKn5k"
      },
      "source": [
        "### 로지스틱 회귀분석"
      ]
    },
    {
      "cell_type": "code",
      "metadata": {
        "id": "r6HsVATyKn5k",
        "outputId": "13e491e4-a27d-4b08-9dbb-b69d8024da71",
        "colab": {
          "base_uri": "https://localhost:8080/"
        }
      },
      "source": [
        "from sklearn.linear_model import LogisticRegression\n",
        "logit = LogisticRegression(random_state=0, max_iter = 1000) # bagging 안 한 것\n",
        "logit.fit(X_train, y_train)"
      ],
      "execution_count": 14,
      "outputs": [
        {
          "output_type": "execute_result",
          "data": {
            "text/plain": [
              "LogisticRegression(C=1.0, class_weight=None, dual=False, fit_intercept=True,\n",
              "                   intercept_scaling=1, l1_ratio=None, max_iter=1000,\n",
              "                   multi_class='auto', n_jobs=None, penalty='l2',\n",
              "                   random_state=0, solver='lbfgs', tol=0.0001, verbose=0,\n",
              "                   warm_start=False)"
            ]
          },
          "metadata": {
            "tags": []
          },
          "execution_count": 14
        }
      ]
    },
    {
      "cell_type": "markdown",
      "metadata": {
        "id": "5wEyD41gKn5k"
      },
      "source": [
        "### 신경망분석"
      ]
    },
    {
      "cell_type": "code",
      "metadata": {
        "id": "_LRm91OaKn5l",
        "outputId": "2803a33b-3b76-4dfa-b8f2-36b7fd83d667",
        "colab": {
          "base_uri": "https://localhost:8080/"
        }
      },
      "source": [
        "from sklearn.preprocessing import StandardScaler\n",
        "from sklearn.neural_network import MLPClassifier\n",
        "scaler = StandardScaler()\n",
        "X_train_scaled = scaler.fit_transform(X_train)\n",
        "X_test_scaled = scaler.transform(X_test)\n",
        "c_nn = MLPClassifier(hidden_layer_sizes=(5),random_state=0, max_iter = 1000)\n",
        "c_nn.fit(X_train_scaled, y_train)"
      ],
      "execution_count": 15,
      "outputs": [
        {
          "output_type": "execute_result",
          "data": {
            "text/plain": [
              "MLPClassifier(activation='relu', alpha=0.0001, batch_size='auto', beta_1=0.9,\n",
              "              beta_2=0.999, early_stopping=False, epsilon=1e-08,\n",
              "              hidden_layer_sizes=5, learning_rate='constant',\n",
              "              learning_rate_init=0.001, max_fun=15000, max_iter=1000,\n",
              "              momentum=0.9, n_iter_no_change=10, nesterovs_momentum=True,\n",
              "              power_t=0.5, random_state=0, shuffle=True, solver='adam',\n",
              "              tol=0.0001, validation_fraction=0.1, verbose=False,\n",
              "              warm_start=False)"
            ]
          },
          "metadata": {
            "tags": []
          },
          "execution_count": 15
        }
      ]
    },
    {
      "cell_type": "markdown",
      "metadata": {
        "id": "RnUsQSKvKn5l"
      },
      "source": [
        "### SVM"
      ]
    },
    {
      "cell_type": "code",
      "metadata": {
        "id": "ZxOsP2rEKn5l",
        "outputId": "8c48a1fb-9f8c-4b13-dfc2-f7fa281a7bb2",
        "colab": {
          "base_uri": "https://localhost:8080/"
        }
      },
      "source": [
        "from sklearn import svm\n",
        "c_svm = svm.SVC(kernel='rbf', random_state=0)\n",
        "c_svm.fit(X_train_scaled,y_train)"
      ],
      "execution_count": 16,
      "outputs": [
        {
          "output_type": "execute_result",
          "data": {
            "text/plain": [
              "SVC(C=1.0, break_ties=False, cache_size=200, class_weight=None, coef0=0.0,\n",
              "    decision_function_shape='ovr', degree=3, gamma='scale', kernel='rbf',\n",
              "    max_iter=-1, probability=False, random_state=0, shrinking=True, tol=0.001,\n",
              "    verbose=False)"
            ]
          },
          "metadata": {
            "tags": []
          },
          "execution_count": 16
        }
      ]
    },
    {
      "cell_type": "markdown",
      "metadata": {
        "id": "nQkCkItWKn5m"
      },
      "source": [
        "### ROC 곡선 및 AUC"
      ]
    },
    {
      "cell_type": "code",
      "metadata": {
        "id": "XDFgGiCaKn5m",
        "outputId": "7e03c371-d038-4269-cf40-953202e599f6",
        "colab": {
          "base_uri": "https://localhost:8080/",
          "height": 295
        }
      },
      "source": [
        "from sklearn.metrics import plot_roc_curve\n",
        "m1_roc=plot_roc_curve(bag_tree, X_test, y_test)\n",
        "plot_roc_curve(bag_logit, X_test, y_test, ax = m1_roc.ax_)\n",
        "plot_roc_curve(rf_sqrt, X_test, y_test, ax = m1_roc.ax_)\n",
        "plot_roc_curve(rf_five, X_test, y_test, ax = m1_roc.ax_)\n",
        "plot_roc_curve(logit, X_test, y_test, ax = m1_roc.ax_)\n",
        "plot_roc_curve(c_nn, X_test_scaled, y_test, ax = m1_roc.ax_)\n",
        "plot_roc_curve(c_svm, X_test_scaled, y_test, ax = m1_roc.ax_)\n",
        "plt.title(\"ROC curve comparison\")\n",
        "plt.show()"
      ],
      "execution_count": 17,
      "outputs": [
        {
          "output_type": "display_data",
          "data": {
            "image/png": "[encoded data removed]",
            "text/plain": [
              "<Figure size 432x288 with 1 Axes>"
            ]
          },
          "metadata": {
            "tags": [],
            "needs_background": "light"
          }
        }
      ]
    },
    {
      "cell_type": "markdown",
      "metadata": {
        "id": "VUkWB5KPKn5m"
      },
      "source": [
        "## 변수중요도 (랜덤포레스트)"
      ]
    },
    {
      "cell_type": "code",
      "metadata": {
        "id": "38U9PAxpKn5m",
        "outputId": "d877c7b2-d5dd-41dc-e285-46aaa2ab899c",
        "colab": {
          "base_uri": "https://localhost:8080/"
        }
      },
      "source": [
        "rf_sqrt.feature_importances_"
      ],
      "execution_count": 18,
      "outputs": [
        {
          "output_type": "execute_result",
          "data": {
            "text/plain": [
              "array([0.10043004, 0.08492974, 0.04168402, 0.0563441 , 0.23379407,\n",
              "       0.10731938, 0.10764598, 0.0794902 , 0.18836247])"
            ]
          },
          "metadata": {
            "tags": []
          },
          "execution_count": 18
        }
      ]
    },
    {
      "cell_type": "code",
      "metadata": {
        "id": "-fnTM-WCKn5m",
        "outputId": "f1509d11-ecfd-4c44-b2d2-cf187359cada",
        "colab": {
          "base_uri": "https://localhost:8080/",
          "height": 265
        }
      },
      "source": [
        "sns.barplot(x=rf_sqrt.feature_importances_, y=xname)\n",
        "plt.show()"
      ],
      "execution_count": 19,
      "outputs": [
        {
          "output_type": "display_data",
          "data": {
            "image/png": "[encoded data removed]",
            "text/plain": [
              "<Figure size 432x288 with 1 Axes>"
            ]
          },
          "metadata": {
            "tags": [],
            "needs_background": "light"
          }
        }
      ]
    },
    {
      "cell_type": "code",
      "metadata": {
        "id": "_p7PAoJuKn5n",
        "outputId": "906479b1-cd06-45de-d35b-a2cb2861b0ec",
        "colab": {
          "base_uri": "https://localhost:8080/",
          "height": 265
        }
      },
      "source": [
        "rf_five.feature_importances_\n",
        "sns.barplot(x=rf_five.feature_importances_, y=xname)\n",
        "plt.show()"
      ],
      "execution_count": 20,
      "outputs": [
        {
          "output_type": "display_data",
          "data": {
            "image/png": "[encoded data removed]",
            "text/plain": [
              "<Figure size 432x288 with 1 Axes>"
            ]
          },
          "metadata": {
            "tags": [],
            "needs_background": "light"
          }
        }
      ]
    }
  ]
}