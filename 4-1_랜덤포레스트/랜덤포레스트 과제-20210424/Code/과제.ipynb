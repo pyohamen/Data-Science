{
 "cells": [
  {
   "cell_type": "markdown",
   "metadata": {},
   "source": [
    "# Credit Card Customer 데이터 분류분석\n",
    "(https://www.kaggle.com/sakshigoyal7/credit-card-customers)"
   ]
  },
  {
   "cell_type": "markdown",
   "metadata": {},
   "source": [
    "# 1. 데이터 불러오기 및 전처리"
   ]
  },
  {
   "cell_type": "code",
   "execution_count": null,
   "metadata": {},
   "outputs": [],
   "source": [
    "import numpy as np\n",
    "import pandas as pd\n",
    "import matplotlib.pyplot as plt\n",
    "import seaborn as sns"
   ]
  },
  {
   "cell_type": "code",
   "execution_count": null,
   "metadata": {},
   "outputs": [],
   "source": [
    "# 데이터를 불러오기 \n",
    "data=pd.read_csv(\"bankchurners.csv\")\n",
    "data"
   ]
  },
  {
   "cell_type": "code",
   "execution_count": null,
   "metadata": {},
   "outputs": [],
   "source": [
    "# 1 : “Naïve_Bayes…”로 시작하는 변수2개 (가장 뒤쪽) 제거. \n",
    "# 2 : 'CLIENTNUM' 제거\n",
    "d = data.iloc[:,1:21].copy()\n",
    "d"
   ]
  },
  {
   "cell_type": "code",
   "execution_count": null,
   "metadata": {},
   "outputs": [],
   "source": [
    "# 3 :“Attrition_Flag” 과 “Gender” 는 0/1로\n",
    "d['Attrition_Flag'] = np.where(d['Attrition_Flag'] ==\"Attrited Customer\", 1,0) \n",
    "print(d['Attrition_Flag'].value_counts())\n",
    "\n",
    "d['Gender'] = np.where(d['Gender'] ==\"M\", 1,0)\n",
    "print(d['Gender'].value_counts())"
   ]
  },
  {
   "cell_type": "code",
   "execution_count": null,
   "metadata": {},
   "outputs": [],
   "source": [
    "#4 :“Income_Category”는 정수화\n",
    "d['Income_Category'] = d['Income_Category'].replace(\n",
    "    {'Unknown': 0 , 'Less than $40K':1, '$40K - $60K':2, '$80K - $120K':3, '$60K - $80K':4, '$120K +':5})\n",
    "print(d['Income_Category'].value_counts())"
   ]
  },
  {
   "cell_type": "code",
   "execution_count": null,
   "metadata": {},
   "outputs": [],
   "source": [
    "# 5: Education_Level”는 정수화\n",
    "d['Education_Level']= d['Education_Level'].replace(\n",
    "    {'Unknown': 0, 'High School':1, 'Graduate':2, 'Uneducated':3,'College':4, 'Post-Graduate':5, 'Doctorate':6})\n",
    "print(d['Education_Level'].value_counts())"
   ]
  },
  {
   "cell_type": "code",
   "execution_count": null,
   "metadata": {},
   "outputs": [],
   "source": [
    "# 6 :“Marital Status”는 Married =1, 기타=0\n",
    "d['Marital_Status'] = np.where(d['Marital_Status'] ==\"Married\", 1,0)\n",
    "print(d['Marital_Status'].value_counts())"
   ]
  },
  {
   "cell_type": "code",
   "execution_count": null,
   "metadata": {},
   "outputs": [],
   "source": [
    "# 7 : \"Card_Category”는 Blue=0, 기타=1\n",
    "d['Card_Category'] = np.where(d['Card_Category'] ==\"Blue\", 0, 1)\n",
    "print(d['Card_Category'].value_counts())"
   ]
  },
  {
   "cell_type": "code",
   "execution_count": null,
   "metadata": {},
   "outputs": [],
   "source": [
    "# 8 : 모든 변수 correlation heatmap\n",
    "plt.figure(figsize=(15,10))\n",
    "sns.heatmap(d.corr(),cmap='coolwarm',annot=True)\n",
    "plt.show()"
   ]
  },
  {
   "cell_type": "code",
   "execution_count": null,
   "metadata": {},
   "outputs": [],
   "source": [
    "# 9 : 새로운 변수 생성\n",
    "d['Rel_Length'] = d['Months_on_book']/(d['Customer_Age']*12)*100\n",
    "d['Avg_Trans_Amt']= d['Total_Trans_Amt']/d['Total_Trans_Ct']"
   ]
  },
  {
   "cell_type": "code",
   "execution_count": null,
   "metadata": {},
   "outputs": [],
   "source": [
    "#10 : 'Months_on_book' 변수 제거\n",
    "#11 :'Total_Trans_Amt' 변수 제거\n",
    "#12 :‘Avg_Open_To_Buy' 변수 제거 (Credit_Limit과 상관관계 높음)\n",
    "d=d.drop([\"Months_on_book\",\"Total_Trans_Amt\",\"Avg_Open_To_Buy\"], axis=1)"
   ]
  },
  {
   "cell_type": "code",
   "execution_count": null,
   "metadata": {},
   "outputs": [],
   "source": [
    "# 13: Correlation heatmap\n",
    "plt.figure(figsize=(15,10))\n",
    "sns.heatmap(d.corr(),cmap='coolwarm',annot=True)\n",
    "plt.show()"
   ]
  },
  {
   "cell_type": "markdown",
   "metadata": {},
   "source": [
    "## 모델링\n",
    "\tAttrition_Flag 를 종속변수로 하여 분류분석 실시\n",
    "1.\t로지스틱회귀분석 (statsmodels Logit)\n",
    "2.\tDecisionTreeClassifier\n",
    "3.\tMLPClassifier\n",
    "4.\tSVC (linear)\n",
    "5.\tSVC (poly)\n",
    "6.\tBaggingClassifier\n",
    "7.\tRandomForestClassifier\n",
    "8.\tAdaBoostClassifier\n",
    "9.\tGradientBoostingClassifier\n"
   ]
  },
  {
   "cell_type": "markdown",
   "metadata": {},
   "source": [
    "# 2. 변수선택 및 데이터 분할\n",
    "### Attrition_Flag(이탈여부) 를 종속변수로 하여 분류분석을 수행한다."
   ]
  },
  {
   "cell_type": "code",
   "execution_count": null,
   "metadata": {},
   "outputs": [],
   "source": [
    "X=d.drop([\"Attrition_Flag\"],axis=1)\n",
    "y=d.Attrition_Flag "
   ]
  },
  {
   "cell_type": "markdown",
   "metadata": {},
   "source": [
    "### 2.1 Variable selection을 수행한다. 변수선택은 랜덤포레스트의 변수중요도를 이용한다, 변수중요도가 거의 없는 변수들을 제거하고 나서 진행한다."
   ]
  },
  {
   "cell_type": "code",
   "execution_count": null,
   "metadata": {},
   "outputs": [],
   "source": [
    "from sklearn.ensemble import RandomForestClassifier\n",
    "from sklearn.feature_selection import SelectFromModel"
   ]
  },
  {
   "cell_type": "code",
   "execution_count": null,
   "metadata": {},
   "outputs": [],
   "source": [
    "model = RandomForestClassifier(n_estimators=100, random_state=0)\n",
    "model.fit(X, y)"
   ]
  },
  {
   "cell_type": "code",
   "execution_count": null,
   "metadata": {},
   "outputs": [],
   "source": [
    "sns.barplot(x=model.feature_importances_, y=X.columns)\n",
    "plt.axvline(0.02, color='red')\n",
    "plt.show()"
   ]
  },
  {
   "cell_type": "code",
   "execution_count": null,
   "metadata": {},
   "outputs": [],
   "source": [
    "# SelectFromModel threshold 기준값을 통과한 변수만 선택 \n",
    "select = SelectFromModel(RandomForestClassifier(n_estimators = 100), threshold =0.02 )\n",
    "select.fit(X,y)"
   ]
  },
  {
   "cell_type": "code",
   "execution_count": null,
   "metadata": {},
   "outputs": [],
   "source": [
    "xname = X.columns[(select.get_support())]\n",
    "xname"
   ]
  },
  {
   "cell_type": "code",
   "execution_count": null,
   "metadata": {},
   "outputs": [],
   "source": [
    "# 변수 선택 적용\n",
    "X = X[xname].copy()"
   ]
  },
  {
   "cell_type": "markdown",
   "metadata": {},
   "source": [
    "### 2.2 데이터 분할 (층화추출)"
   ]
  },
  {
   "cell_type": "code",
   "execution_count": null,
   "metadata": {},
   "outputs": [],
   "source": [
    "print(\"Number of the event: \")\n",
    "print(y.value_counts())\n",
    "print(\"Ratio of the event: \")\n",
    "print(y.value_counts()/len(y))"
   ]
  },
  {
   "cell_type": "code",
   "execution_count": null,
   "metadata": {},
   "outputs": [],
   "source": [
    "from sklearn.model_selection import train_test_split\n",
    "X_train, X_test, y_train, y_test = train_test_split(X, y, test_size=0.5, random_state=0, stratify=y)\n",
    "print(\"Ratio of the event: \")\n",
    "print(y_train.value_counts()/len(y_train))"
   ]
  },
  {
   "cell_type": "markdown",
   "metadata": {},
   "source": [
    "# 3. 분류분석 9개 모형 수행"
   ]
  },
  {
   "cell_type": "markdown",
   "metadata": {},
   "source": [
    "### 3-1. 로지스틱 회귀분석 "
   ]
  },
  {
   "cell_type": "markdown",
   "metadata": {},
   "source": [
    "#### Full model"
   ]
  },
  {
   "cell_type": "code",
   "execution_count": null,
   "metadata": {
    "scrolled": false
   },
   "outputs": [],
   "source": [
    "import statsmodels.api as sm\n",
    "logit_full = sm.Logit(y_train, sm.add_constant(X_train))\n",
    "model1 = logit_full.fit()\n",
    "model1.summary()"
   ]
  },
  {
   "cell_type": "markdown",
   "metadata": {},
   "source": [
    "#### Reduced model 1\n",
    "* 가장 유효하지 않았던 Rel_Length 변수 제거 "
   ]
  },
  {
   "cell_type": "code",
   "execution_count": null,
   "metadata": {
    "scrolled": false
   },
   "outputs": [],
   "source": [
    "logit_r1 = sm.Logit(y_train, sm.add_constant(X_train.drop([\"Rel_Length\"],axis=1)))\n",
    "model_r1 = logit_r1.fit()\n",
    "model_r1.summary()"
   ]
  },
  {
   "cell_type": "markdown",
   "metadata": {},
   "source": [
    "#### Reduced model 2\n",
    "* 가장 유효하지 않았던 Customer_Age 변수 제거"
   ]
  },
  {
   "cell_type": "code",
   "execution_count": null,
   "metadata": {
    "scrolled": false
   },
   "outputs": [],
   "source": [
    "logit_r2 = sm.Logit(y_train, sm.add_constant(X_train.drop([\"Customer_Age\",\"Rel_Length\"],axis=1)))\n",
    "model_r2 = logit_r2.fit()\n",
    "model_r2.summary()"
   ]
  },
  {
   "cell_type": "markdown",
   "metadata": {},
   "source": [
    "#### Reduced model 3\n",
    "* 가장 유효하지 않았던 Avg_Utilization_Ratio 변수 제거"
   ]
  },
  {
   "cell_type": "code",
   "execution_count": null,
   "metadata": {},
   "outputs": [],
   "source": [
    "logit_r3 = sm.Logit(y_train, sm.add_constant(X_train.drop([\"Avg_Utilization_Ratio\",\"Customer_Age\",\"Rel_Length\"],axis=1)))\n",
    "model_r3 = logit_r3.fit()\n",
    "model_r3.summary()"
   ]
  },
  {
   "cell_type": "markdown",
   "metadata": {},
   "source": [
    "#### Reduced model 3 해석\n",
    "* Total_Relationship_Count(보유상품수), Credit_Limit(사용한도), Total_Revolving_Bal(리볼빙 잔액), Total_Amt_Chng_Q4_Q1(거래금액변화), Total_Trans_Ct(총거래횟수), Total_Ct_Chng_Q4_Q1(거래횟수변화) 가 커질수록 계좌해지 가능성 작아짐\n",
    "* Months_Inactive_12_mon(지난 12 개월 동안 비활성 상태 개월 수), Contacts_Count_12_mon(12개월간 고객센터연락횟수), Avg_Trans_Amt(평균거래금액) 커질수록 계좌해지 가능성 커짐"
   ]
  },
  {
   "cell_type": "code",
   "execution_count": null,
   "metadata": {},
   "outputs": [],
   "source": [
    "X_train_reduced =  X_train.drop([\"Avg_Utilization_Ratio\",\"Customer_Age\",\"Rel_Length\"],axis=1)\n",
    "X_test_reduced = X_test.drop([\"Avg_Utilization_Ratio\",\"Customer_Age\",\"Rel_Length\"],axis=1)"
   ]
  },
  {
   "cell_type": "markdown",
   "metadata": {},
   "source": [
    "#### 예측용 모델링"
   ]
  },
  {
   "cell_type": "code",
   "execution_count": null,
   "metadata": {},
   "outputs": [],
   "source": [
    "from sklearn.linear_model import LogisticRegression\n",
    "model1 = LogisticRegression(random_state=0, max_iter = 1000)\n",
    "model1.fit(X_train_reduced, y_train)"
   ]
  },
  {
   "cell_type": "markdown",
   "metadata": {},
   "source": [
    "### 3-2. DecisionTreeClassifier"
   ]
  },
  {
   "cell_type": "code",
   "execution_count": null,
   "metadata": {},
   "outputs": [],
   "source": [
    "from sklearn.tree import DecisionTreeClassifier\n",
    "from sklearn.tree import plot_tree"
   ]
  },
  {
   "cell_type": "markdown",
   "metadata": {},
   "source": [
    "#### 해석용 모델"
   ]
  },
  {
   "cell_type": "code",
   "execution_count": null,
   "metadata": {},
   "outputs": [],
   "source": [
    "tree1 = DecisionTreeClassifier(min_impurity_decrease=0.01, random_state =0)\n",
    "tree1.fit(X_train,y_train)\n",
    "yname = ['Existing Customer','Attrited Customer']\n",
    "plt.figure(figsize=(15,10))\n",
    "plot_tree(tree1, feature_names=xname, class_names=yname, filled=True, fontsize=12) \n",
    "plt.show()"
   ]
  },
  {
   "cell_type": "markdown",
   "metadata": {},
   "source": [
    "* Total_Trans_Ct <= 54.5 이면, 왼쪽 노드로 이동,\n",
    "   * 이 경우 Total_Revolving_Bal <= 573 이면, Attrited Customer 이고, \n",
    "   * Total_Revolving_Bal > 573 이면, Total_Relationship_Count <=2 이면 Attrited Customer로 분류\n",
    "*  Total_Trans_Ct >  54.5 이면, 오른쪽 노드로 이동(gini =0.087), EXisting Customer 로 분류 \n"
   ]
  },
  {
   "cell_type": "markdown",
   "metadata": {},
   "source": [
    "#### Hyperparameter tuning"
   ]
  },
  {
   "cell_type": "code",
   "execution_count": null,
   "metadata": {},
   "outputs": [],
   "source": [
    "from sklearn.model_selection import GridSearchCV\n",
    "np.random.seed(0)\n",
    "grid = {'ccp_alpha': np.arange(0.000, 0.005, 0.001)}\n",
    "g_cv = GridSearchCV(DecisionTreeClassifier(random_state=0),\n",
    "              param_grid=grid, cv=5, scoring='roc_auc')\n",
    "g_cv.fit(X_train, y_train)"
   ]
  },
  {
   "cell_type": "code",
   "execution_count": null,
   "metadata": {},
   "outputs": [],
   "source": [
    "print('selected:',g_cv.best_params_)\n",
    "print('score   :',g_cv.best_score_)"
   ]
  },
  {
   "cell_type": "markdown",
   "metadata": {},
   "source": [
    "#### 예측용 트리"
   ]
  },
  {
   "cell_type": "code",
   "execution_count": null,
   "metadata": {},
   "outputs": [],
   "source": [
    "model2 = DecisionTreeClassifier(ccp_alpha=0.002, random_state =0)\n",
    "model2.fit(X_train,y_train)"
   ]
  },
  {
   "cell_type": "markdown",
   "metadata": {},
   "source": [
    "### 3-3. 신경망 모델 "
   ]
  },
  {
   "cell_type": "markdown",
   "metadata": {},
   "source": [
    "#### 정규화"
   ]
  },
  {
   "cell_type": "code",
   "execution_count": null,
   "metadata": {},
   "outputs": [],
   "source": [
    "from sklearn.preprocessing import MinMaxScaler\n",
    "scaler = MinMaxScaler()\n",
    "scaler.fit(X_train)\n",
    "X_train_scaled = scaler.transform(X_train)\n",
    "X_test_scaled = scaler.transform(X_test)"
   ]
  },
  {
   "cell_type": "code",
   "execution_count": null,
   "metadata": {},
   "outputs": [],
   "source": [
    "from sklearn.neural_network import MLPClassifier"
   ]
  },
  {
   "cell_type": "markdown",
   "metadata": {},
   "source": [
    "####  Hyperparameter tuning"
   ]
  },
  {
   "cell_type": "code",
   "execution_count": null,
   "metadata": {},
   "outputs": [],
   "source": [
    "np.random.seed(0)\n",
    "grid = {'hidden_layer_sizes': np.arange(8, 13)}\n",
    "g_cv = GridSearchCV(MLPClassifier(random_state=0, max_iter=1000),\n",
    "                    param_grid=grid, cv=3, scoring='roc_auc')\n",
    "g_cv.fit(X_train_scaled, y_train)"
   ]
  },
  {
   "cell_type": "code",
   "execution_count": null,
   "metadata": {},
   "outputs": [],
   "source": [
    "print('selected:',g_cv.best_params_)\n",
    "print('score   :',g_cv.best_score_)"
   ]
  },
  {
   "cell_type": "markdown",
   "metadata": {},
   "source": [
    "#### 예측용 모델링"
   ]
  },
  {
   "cell_type": "code",
   "execution_count": null,
   "metadata": {},
   "outputs": [],
   "source": [
    "# training the model & prediction\n",
    "model3 = MLPClassifier(hidden_layer_sizes=(10), random_state=0, max_iter = 1000)\n",
    "model3.fit(X_train_scaled, y_train)"
   ]
  },
  {
   "cell_type": "markdown",
   "metadata": {},
   "source": [
    "### 3-4. SVC (linear)"
   ]
  },
  {
   "cell_type": "code",
   "execution_count": null,
   "metadata": {},
   "outputs": [],
   "source": [
    "from sklearn.svm import SVC"
   ]
  },
  {
   "cell_type": "markdown",
   "metadata": {},
   "source": [
    "#### Hyperparameter tuning"
   ]
  },
  {
   "cell_type": "code",
   "execution_count": null,
   "metadata": {},
   "outputs": [],
   "source": [
    "np.random.seed(0)\n",
    "grid = {'C': np.arange(11,13,0.1)}\n",
    "g_cv = GridSearchCV(SVC(kernel='linear', random_state=0, max_iter=100000),\n",
    "                    param_grid=grid, cv=3, scoring='roc_auc')\n",
    "g_cv.fit(X_train_scaled, y_train)"
   ]
  },
  {
   "cell_type": "code",
   "execution_count": null,
   "metadata": {},
   "outputs": [],
   "source": [
    "print('selected:',g_cv.best_params_)\n",
    "print('score   :',g_cv.best_score_)"
   ]
  },
  {
   "cell_type": "markdown",
   "metadata": {},
   "source": [
    "#### 예측용 모델링"
   ]
  },
  {
   "cell_type": "code",
   "execution_count": null,
   "metadata": {},
   "outputs": [],
   "source": [
    "# linear kernel 이용 \n",
    "model4= SVC(kernel='linear', random_state=0, C=11.9)\n",
    "model4.fit(X_train_scaled, y_train)"
   ]
  },
  {
   "cell_type": "markdown",
   "metadata": {},
   "source": [
    "### 3-5. SVC (polynomial)"
   ]
  },
  {
   "cell_type": "markdown",
   "metadata": {},
   "source": [
    "#### Hyperparameter tuning"
   ]
  },
  {
   "cell_type": "code",
   "execution_count": null,
   "metadata": {},
   "outputs": [],
   "source": [
    "grid = {'C': np.arange(3,5,0.1)}\n",
    "g_cv = GridSearchCV(SVC(kernel='poly',random_state=0, max_iter=500000),\n",
    "                    param_grid=grid, cv=3, scoring='roc_auc')\n",
    "g_cv.fit(X_train_scaled, y_train)"
   ]
  },
  {
   "cell_type": "code",
   "execution_count": null,
   "metadata": {},
   "outputs": [],
   "source": [
    "print('selected:',g_cv.best_params_)\n",
    "print('score   :',g_cv.best_score_)"
   ]
  },
  {
   "cell_type": "markdown",
   "metadata": {},
   "source": [
    "#### 예측용 모델링"
   ]
  },
  {
   "cell_type": "code",
   "execution_count": null,
   "metadata": {},
   "outputs": [],
   "source": [
    "# polynomial kernel 이용 \n",
    "model5 = SVC(kernel='poly', random_state=0,  C=3.7)\n",
    "model5.fit(X_train_scaled,y_train)"
   ]
  },
  {
   "cell_type": "markdown",
   "metadata": {},
   "source": [
    "### 3-6. BaggingClassifier\n",
    "*  base_estimator : DecisionTreeClassifie"
   ]
  },
  {
   "cell_type": "code",
   "execution_count": null,
   "metadata": {},
   "outputs": [],
   "source": [
    "from sklearn.ensemble import BaggingClassifier"
   ]
  },
  {
   "cell_type": "code",
   "execution_count": null,
   "metadata": {},
   "outputs": [],
   "source": [
    "model6 = BaggingClassifier(n_estimators=100, random_state=0)\n",
    "model6.fit(X_train, y_train)"
   ]
  },
  {
   "cell_type": "markdown",
   "metadata": {},
   "source": [
    "### 3-7.\tRandomForestClassifier"
   ]
  },
  {
   "cell_type": "code",
   "execution_count": null,
   "metadata": {},
   "outputs": [],
   "source": [
    "from sklearn.ensemble import RandomForestClassifier"
   ]
  },
  {
   "cell_type": "code",
   "execution_count": null,
   "metadata": {},
   "outputs": [],
   "source": [
    "np.random.seed(0)\n",
    "grid = {'max_features': [\"sqrt\",4,5,6]}\n",
    "g_cv = GridSearchCV(RandomForestClassifier(n_estimators=100, random_state=0), \n",
    "                    param_grid=grid, cv=3, scoring='roc_auc')\n",
    "g_cv.fit(X_train, y_train)"
   ]
  },
  {
   "cell_type": "code",
   "execution_count": null,
   "metadata": {},
   "outputs": [],
   "source": [
    "print('selected:',g_cv.best_params_)\n",
    "print('score   :',g_cv.best_score_)"
   ]
  },
  {
   "cell_type": "code",
   "execution_count": null,
   "metadata": {},
   "outputs": [],
   "source": [
    "model7 = RandomForestClassifier(max_features=\"sqrt\", random_state=0, n_estimators=100)\n",
    "model7.fit(X_train,y_train)"
   ]
  },
  {
   "cell_type": "markdown",
   "metadata": {},
   "source": [
    "### 3-8. AdaBoostClassifier\n",
    "* default: base estimator 는 DecisionTreeClassifier initialized with max_depth=1."
   ]
  },
  {
   "cell_type": "code",
   "execution_count": null,
   "metadata": {},
   "outputs": [],
   "source": [
    "from sklearn.ensemble import AdaBoostClassifier"
   ]
  },
  {
   "cell_type": "code",
   "execution_count": null,
   "metadata": {},
   "outputs": [],
   "source": [
    "model8 = AdaBoostClassifier(base_estimator=DecisionTreeClassifier(max_depth=3),random_state=0, n_estimators=100)\n",
    "model8.fit(X_train,y_train)"
   ]
  },
  {
   "cell_type": "markdown",
   "metadata": {},
   "source": [
    "### 3-9. GradientBoostingClassifier"
   ]
  },
  {
   "cell_type": "code",
   "execution_count": null,
   "metadata": {},
   "outputs": [],
   "source": [
    "from sklearn.ensemble import GradientBoostingClassifier"
   ]
  },
  {
   "cell_type": "code",
   "execution_count": null,
   "metadata": {},
   "outputs": [],
   "source": [
    "np.random.seed(0)\n",
    "grid = {'max_depth': [3,4,5,6,7]}\n",
    "g_cv = GridSearchCV(GradientBoostingClassifier(n_estimators=100, random_state=0), \n",
    "                    param_grid=grid, cv=3, scoring='roc_auc')\n",
    "g_cv.fit(X_train, y_train)"
   ]
  },
  {
   "cell_type": "code",
   "execution_count": null,
   "metadata": {},
   "outputs": [],
   "source": [
    "print('selected:',g_cv.best_params_)\n",
    "print('score   :',g_cv.best_score_)"
   ]
  },
  {
   "cell_type": "code",
   "execution_count": null,
   "metadata": {},
   "outputs": [],
   "source": [
    "model9=GradientBoostingClassifier(max_depth=5, random_state=0, n_estimators=100) \n",
    "model9.fit(X_train,y_train)"
   ]
  },
  {
   "cell_type": "markdown",
   "metadata": {},
   "source": [
    "### 평가"
   ]
  },
  {
   "cell_type": "code",
   "execution_count": null,
   "metadata": {},
   "outputs": [],
   "source": [
    "from sklearn.metrics import accuracy_score, f1_score"
   ]
  },
  {
   "cell_type": "markdown",
   "metadata": {},
   "source": [
    "#### Accuracy"
   ]
  },
  {
   "cell_type": "code",
   "execution_count": null,
   "metadata": {},
   "outputs": [],
   "source": [
    "accuracy_table = pd.DataFrame([['LogisticRegression', accuracy_score(y_test, model1.predict(X_test_reduced))],\n",
    "                          ['DecisionTreeClassifier', accuracy_score(y_test, model2.predict(X_test))],\n",
    "                          ['MLPClassifier', accuracy_score(y_test, model3.predict(X_test_scaled))],\n",
    "                          ['SVC (linear)', accuracy_score(y_test, model4.predict(X_test_scaled))],\n",
    "                          ['SVC (poly)', accuracy_score(y_test, model5.predict(X_test_scaled))],\n",
    "                          ['BaggingClassifier', accuracy_score(y_test, model6.predict(X_test))],\n",
    "                          ['RandomForestClassifier', accuracy_score(y_test, model7.predict(X_test))],\n",
    "                          ['AdaBoostClassifier', accuracy_score(y_test, model8.predict(X_test))],\n",
    "                          ['GradientBoostingClassifier', accuracy_score(y_test, model9.predict(X_test))]], \n",
    "                         columns=['Model', 'Accuracy'])\n",
    "accuracy_table                        "
   ]
  },
  {
   "cell_type": "code",
   "execution_count": null,
   "metadata": {},
   "outputs": [],
   "source": [
    "plt.subplots(figsize=(8, 6))\n",
    "g=sns.lineplot(data=accuracy_table, x=\"Model\", y=\"Accuracy\")\n",
    "g.set_xticklabels(accuracy_table['Model'], rotation=30, horizontalalignment='right')\n",
    "plt.show()"
   ]
  },
  {
   "cell_type": "markdown",
   "metadata": {},
   "source": [
    "#### F1 Score"
   ]
  },
  {
   "cell_type": "code",
   "execution_count": null,
   "metadata": {},
   "outputs": [],
   "source": [
    "f1_table = pd.DataFrame([['LogisticRegression', f1_score(y_test, model1.predict(X_test_reduced))],\n",
    "                          ['DecisionTreeClassifier', f1_score(y_test, model2.predict(X_test))],\n",
    "                          ['MLPClassifier', f1_score(y_test, model3.predict(X_test_scaled))],\n",
    "                          ['SVC (linear)', f1_score(y_test, model4.predict(X_test_scaled))],\n",
    "                          ['SVC (poly)', f1_score(y_test, model5.predict(X_test_scaled))],\n",
    "                          ['BaggingClassifier', f1_score(y_test, model6.predict(X_test))],\n",
    "                          ['RandomForestClassifier', f1_score(y_test, model7.predict(X_test))],\n",
    "                          ['AdaBoostClassifier', f1_score(y_test, model8.predict(X_test))],\n",
    "                          ['GradientBoostingClassifier', f1_score(y_test, model9.predict(X_test))]], \n",
    "                         columns=['Model', 'F1'])\n",
    "f1_table      "
   ]
  },
  {
   "cell_type": "markdown",
   "metadata": {},
   "source": [
    "#### ROC Curve"
   ]
  },
  {
   "cell_type": "code",
   "execution_count": null,
   "metadata": {
    "scrolled": true
   },
   "outputs": [],
   "source": [
    "from sklearn.metrics import plot_roc_curve\n",
    "m1_roc=plot_roc_curve(model1, X_test_reduced, y_test)\n",
    "plot_roc_curve(model2, X_test, y_test, ax = m1_roc.ax_)\n",
    "plot_roc_curve(model3, X_test_scaled, y_test, ax = m1_roc.ax_)\n",
    "plot_roc_curve(model4, X_test_scaled, y_test, ax = m1_roc.ax_)\n",
    "plot_roc_curve(model5, X_test_scaled, y_test, ax = m1_roc.ax_)\n",
    "plot_roc_curve(model6, X_test, y_test, ax = m1_roc.ax_)\n",
    "plot_roc_curve(model7, X_test, y_test, ax = m1_roc.ax_)\n",
    "plot_roc_curve(model8, X_test, y_test, ax = m1_roc.ax_)\n",
    "plot_roc_curve(model9, X_test, y_test, ax = m1_roc.ax_)\n",
    "plt.title(\"ROC curve comparison\")\n",
    "plt.show()"
   ]
  },
  {
   "cell_type": "code",
   "execution_count": null,
   "metadata": {},
   "outputs": [],
   "source": []
  }
 ],
 "metadata": {
  "kernelspec": {
   "display_name": "Python 3",
   "language": "python",
   "name": "python3"
  },
  "language_info": {
   "codemirror_mode": {
    "name": "ipython",
    "version": 3
   },
   "file_extension": ".py",
   "mimetype": "text/x-python",
   "name": "python",
   "nbconvert_exporter": "python",
   "pygments_lexer": "ipython3",
   "version": "3.7.6"
  }
 },
 "nbformat": 4,
 "nbformat_minor": 2
}
