{
 "cells": [
  {
   "cell_type": "code",
   "execution_count": null,
   "metadata": {},
   "outputs": [],
   "source": [
    "# Created on Jan 2021\n",
    "# author: 임일\n",
    "\n",
    "import numpy as np\n",
    "import pandas as pd\n",
    "# Read rating data\n",
    "r_cols = ['user_id', 'movie_id', 'rating', 'timestamp']\n",
    "ratings = pd.read_csv('u.data', names=r_cols,  sep='\\t',encoding='latin-1')\n",
    "ratings = ratings.drop('timestamp', axis=1)"
   ]
  },
  {
   "cell_type": "code",
   "execution_count": null,
   "metadata": {},
   "outputs": [],
   "source": [
    "# Rating 데이터를 test, train으로 나누고 train을 full matrix로 변환\n",
    "from sklearn.model_selection import train_test_split\n",
    "x = ratings.copy()\n",
    "y = ratings['user_id']\n",
    "x_train, x_test, y_train, y_test = train_test_split(x, y, test_size=0.25, stratify=y, random_state=12)\n",
    "rating_matrix = x_train.pivot(values='rating', index='user_id', columns='movie_id')"
   ]
  },
  {
   "cell_type": "code",
   "execution_count": null,
   "metadata": {},
   "outputs": [],
   "source": [
    "# RMSE 계산을 위한 함수\n",
    "def RMSE(y_true, y_pred):\n",
    "    return np.sqrt(np.mean((np.array(y_true) - np.array(y_pred))**2))\n",
    "\n",
    "def score(model):\n",
    "    id_pairs = zip(x_test['user_id'], x_test['movie_id'])\n",
    "    y_pred = np.array([model(user, movie) for (user, movie) in id_pairs])\n",
    "    y_true = np.array(x_test['rating'])\n",
    "    return RMSE(y_true, y_pred)"
   ]
  },
  {
   "cell_type": "code",
   "execution_count": null,
   "metadata": {},
   "outputs": [],
   "source": [
    "# Train data의 모든 아이템 pair의 Cosine similarities 계산\n",
    "from sklearn.metrics.pairwise import cosine_similarity\n",
    "rating_matrix_t = np.transpose(rating_matrix)\n",
    "matrix_dummy = rating_matrix_t.copy().fillna(0)\n",
    "item_similarity = cosine_similarity(matrix_dummy, matrix_dummy)\n",
    "item_similarity = pd.DataFrame(item_similarity, index=rating_matrix_t.index, columns=rating_matrix_t.index)\n",
    "\n",
    "def cf_IBCF(user_id, movie_id):\n",
    "    if user_id in rating_matrix_t:                  # 사용자가 train set에 있는지 확인\n",
    "        if movie_id in item_similarity:             # 현재 영화가 train set에 있는지 확인\n",
    "            # 현재 영화와 다른 영화의 similarity 값 가져오기\n",
    "            sim_scores = item_similarity[movie_id]\n",
    "            # 현 사용자의 모든 rating 값 가져오기\n",
    "            user_rating = rating_matrix_t[user_id]\n",
    "            # 사용자가 평가하지 않은 영화 index 가져오기\n",
    "            non_rating_idx = user_rating[user_rating.isnull()].index\n",
    "            # 사용자가 평가하지 않은 영화 제거\n",
    "            user_rating = user_rating.dropna()\n",
    "            # 사용자가 평가하지 않은 영화의 similarity 값 제거\n",
    "            sim_scores = sim_scores.drop(non_rating_idx)\n",
    "            if len(user_rating) >= 2:\n",
    "                # 현 영화에 대한 사용자의 예상 rating 계산, 가중치는 현 영화와 사용자가 평가한 영화의 유사도\n",
    "                prediction = np.dot(sim_scores, user_rating) / sim_scores.sum()\n",
    "            else:\n",
    "                prediciton = 3.0\n",
    "        else:\n",
    "            prediction = 3.0\n",
    "    else:\n",
    "        prediction = 3.0\n",
    "    return prediction"
   ]
  },
  {
   "cell_type": "code",
   "execution_count": null,
   "metadata": {},
   "outputs": [],
   "source": [
    "# 정확도 계산\n",
    "score(cf_IBCF)"
   ]
  },
  {
   "cell_type": "code",
   "execution_count": null,
   "metadata": {},
   "outputs": [],
   "source": [
    "# 추천을 위한 데이터 읽기 (추천을 위해서는 전체 데이터를 읽어야 함)\n",
    "r_cols = ['user_id', 'movie_id', 'rating', 'timestamp']\n",
    "ratings = pd.read_csv('u.data', names=r_cols,  sep='\\t',encoding='latin-1')\n",
    "ratings = ratings.drop('timestamp', axis=1)\n",
    "rating_matrix = ratings.pivot(values='rating', index='user_id', columns='movie_id')\n",
    "\n",
    "# 영화 제목 가져오기\n",
    "i_cols = ['movie_id', 'title', 'release date', 'video release date', 'IMDB URL', \n",
    "          'unknown', 'Action', 'Adventure', 'Animation', 'Children\\'s', 'Comedy', \n",
    "          'Crime', 'Documentary', 'Drama', 'Fantasy', 'Film-Noir', 'Horror', \n",
    "          'Musical', 'Mystery', 'Romance', 'Sci-Fi', 'Thriller', 'War', 'Western']\n",
    "movies = pd.read_csv('u.item', sep='|', names=i_cols, encoding='latin-1')\n",
    "movies = movies[['movie_id', 'title']]\n",
    "movies = movies.set_index('movie_id')\n",
    "\n",
    "# Cosine similarity 계산 (Item기준으로)\n",
    "from sklearn.metrics.pairwise import cosine_similarity\n",
    "rating_matrix_t = np.transpose(rating_matrix)\n",
    "matrix_dummy = rating_matrix_t.copy().fillna(0)\n",
    "item_similarity = cosine_similarity(matrix_dummy, matrix_dummy)\n",
    "item_similarity = pd.DataFrame(item_similarity, index=rating_matrix_t.index, columns=rating_matrix_t.index)"
   ]
  },
  {
   "cell_type": "code",
   "execution_count": null,
   "metadata": {},
   "outputs": [],
   "source": [
    "# 추천하기\n",
    "def recommender(user, n_items=10):\n",
    "    # 현재 사용자의 모든 아이템에 대한 예상 평점 계산\n",
    "    predictions = []\n",
    "    item_ids = []\n",
    "    not_rated = rating_matrix.loc[user].isnull()                        # 평가 안한 영화 확인\n",
    "    for item in rating_matrix:\n",
    "        if not_rated.loc[item]:                                         # 평가 안한 영화만 예측치 계산\n",
    "            predictions.append(cf_IBCF(user, item))\n",
    "            item_ids.append(item)\n",
    "    predictions = np.array(predictions)                                 # Numpy array로 변환\n",
    "    item_ids = np.array(item_ids)\n",
    "    recommendations = np.argsort(predictions)[::-1][:n_items]           # 예상평점이 가장 높은 영화 선택\n",
    "    recommended_items = movies.loc[item_ids[recommendations]]['title']  # 예상평점이 가장 높은 영화 제목 가져오기\n",
    "    return recommended_items"
   ]
  },
  {
   "cell_type": "code",
   "execution_count": null,
   "metadata": {},
   "outputs": [],
   "source": [
    "# 영화 추천 함수 부르기\n",
    "recommender(2)"
   ]
  },
  {
   "cell_type": "code",
   "execution_count": null,
   "metadata": {},
   "outputs": [],
   "source": []
  }
 ],
 "metadata": {
  "kernelspec": {
   "display_name": "Python 3",
   "language": "python",
   "name": "python3"
  },
  "language_info": {
   "codemirror_mode": {
    "name": "ipython",
    "version": 3
   },
   "file_extension": ".py",
   "mimetype": "text/x-python",
   "name": "python",
   "nbconvert_exporter": "python",
   "pygments_lexer": "ipython3",
   "version": "3.8.5"
  }
 },
 "nbformat": 4,
 "nbformat_minor": 4
}
