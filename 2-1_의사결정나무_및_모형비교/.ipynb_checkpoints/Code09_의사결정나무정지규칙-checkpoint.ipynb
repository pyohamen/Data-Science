{
 "cells": [
  {
   "cell_type": "markdown",
   "metadata": {},
   "source": [
    "# Loan 데이터 분류나무"
   ]
  },
  {
   "cell_type": "code",
   "execution_count": null,
   "metadata": {},
   "outputs": [],
   "source": [
    "import pandas as pd\n",
    "import numpy as np\n",
    "import matplotlib.pyplot as plt\n",
    "import seaborn as sns"
   ]
  },
  {
   "cell_type": "code",
   "execution_count": null,
   "metadata": {},
   "outputs": [],
   "source": [
    "df = pd.read_csv('loan.csv')"
   ]
  },
  {
   "cell_type": "code",
   "execution_count": null,
   "metadata": {},
   "outputs": [],
   "source": [
    "df.isnull().sum().sum()"
   ]
  },
  {
   "cell_type": "code",
   "execution_count": null,
   "metadata": {},
   "outputs": [],
   "source": [
    "df['job'] = df['job'].replace({'Office':0, 'ProfExe':1, 'Other':2, 'Mgr':3, 'Self':4, 'Sales':5})\n",
    "df.groupby('job').mean()"
   ]
  },
  {
   "cell_type": "markdown",
   "metadata": {},
   "source": [
    "### 나무 모형"
   ]
  },
  {
   "cell_type": "code",
   "execution_count": null,
   "metadata": {},
   "outputs": [],
   "source": [
    "from sklearn.tree import DecisionTreeClassifier\n",
    "from sklearn.tree import plot_tree\n",
    "X = df.drop(['y'], axis=1)\n",
    "y = df['y']\n",
    "xname = X.columns\n",
    "yname = ['Normal','Bad']"
   ]
  },
  {
   "cell_type": "markdown",
   "metadata": {},
   "source": [
    "### Default 트리"
   ]
  },
  {
   "cell_type": "code",
   "execution_count": null,
   "metadata": {},
   "outputs": [],
   "source": [
    "c_tree = DecisionTreeClassifier(random_state=0) \n",
    "c_tree.fit(X, y)\n",
    "plt.figure(figsize=(20,15))\n",
    "plot_tree(c_tree, filled=True) \n",
    "plt.show()"
   ]
  },
  {
   "cell_type": "markdown",
   "metadata": {},
   "source": [
    "### max_depth=1 트리"
   ]
  },
  {
   "cell_type": "code",
   "execution_count": null,
   "metadata": {},
   "outputs": [],
   "source": [
    "c_tree = DecisionTreeClassifier(max_depth=1,random_state=0) \n",
    "c_tree.fit(X, y)\n",
    "plt.figure(figsize=(10,5))\n",
    "plot_tree(c_tree, feature_names=xname, class_names=yname, filled=True, fontsize=12) \n",
    "plt.show()"
   ]
  },
  {
   "cell_type": "markdown",
   "metadata": {},
   "source": [
    "### max_depth=2 트리"
   ]
  },
  {
   "cell_type": "code",
   "execution_count": null,
   "metadata": {},
   "outputs": [],
   "source": [
    "c_tree = DecisionTreeClassifier(max_depth=2,random_state=0) \n",
    "c_tree.fit(X, y)\n",
    "plt.figure(figsize=(10,8))\n",
    "plot_tree(c_tree, feature_names=xname, class_names=yname, filled=True, fontsize=12) \n",
    "plt.show()"
   ]
  },
  {
   "cell_type": "markdown",
   "metadata": {},
   "source": [
    "### max_depth=4 트리"
   ]
  },
  {
   "cell_type": "code",
   "execution_count": null,
   "metadata": {},
   "outputs": [],
   "source": [
    "c_tree = DecisionTreeClassifier(max_depth=4,random_state=0) \n",
    "c_tree.fit(X, y)\n",
    "plt.figure(figsize=(20,8))\n",
    "plot_tree(c_tree, feature_names=xname, class_names=yname, filled=True, fontsize=6) \n",
    "plt.show()"
   ]
  },
  {
   "cell_type": "markdown",
   "metadata": {},
   "source": [
    "### min_samples_split=6000 트리"
   ]
  },
  {
   "cell_type": "code",
   "execution_count": null,
   "metadata": {},
   "outputs": [],
   "source": [
    "c_tree = DecisionTreeClassifier(min_samples_split=6000,random_state=0)\n",
    "c_tree.fit(X, y)\n",
    "plt.figure(figsize=(10,5))\n",
    "plot_tree(c_tree, feature_names=xname, class_names=yname, filled=True, fontsize=12) \n",
    "plt.show()"
   ]
  },
  {
   "cell_type": "markdown",
   "metadata": {},
   "source": [
    "### min_samples_split=4000 트리"
   ]
  },
  {
   "cell_type": "code",
   "execution_count": null,
   "metadata": {},
   "outputs": [],
   "source": [
    "c_tree = DecisionTreeClassifier(min_samples_split=4000,random_state=0)\n",
    "c_tree.fit(X, y)\n",
    "plt.figure(figsize=(10,8))\n",
    "plot_tree(c_tree, feature_names=xname, class_names=yname, filled=True, fontsize=10) \n",
    "plt.show()"
   ]
  },
  {
   "cell_type": "markdown",
   "metadata": {},
   "source": [
    "### min_samples_split=2000 트리"
   ]
  },
  {
   "cell_type": "code",
   "execution_count": null,
   "metadata": {},
   "outputs": [],
   "source": [
    "c_tree = DecisionTreeClassifier(min_samples_split=2000,random_state=0)\n",
    "c_tree.fit(X, y)\n",
    "plt.figure(figsize=(20,10))\n",
    "plot_tree(c_tree, feature_names=xname, class_names=yname, filled=True, fontsize=8) \n",
    "plt.show()"
   ]
  },
  {
   "cell_type": "markdown",
   "metadata": {},
   "source": [
    "### min_impurity_decrease=0.01 트리"
   ]
  },
  {
   "cell_type": "code",
   "execution_count": null,
   "metadata": {},
   "outputs": [],
   "source": [
    "c_tree = DecisionTreeClassifier(min_impurity_decrease=0.01,random_state=0) \n",
    "c_tree.fit(X, y)\n",
    "plt.figure(figsize=(10,8))\n",
    "plot_tree(c_tree, feature_names=xname, class_names=yname, filled=True, fontsize=12) \n",
    "plt.show()"
   ]
  },
  {
   "cell_type": "markdown",
   "metadata": {},
   "source": [
    "### min_impurity_decrease=0.005 트리"
   ]
  },
  {
   "cell_type": "code",
   "execution_count": null,
   "metadata": {},
   "outputs": [],
   "source": [
    "c_tree = DecisionTreeClassifier(min_impurity_decrease=0.005,random_state=0) \n",
    "c_tree.fit(X, y)\n",
    "plt.figure(figsize=(10,10))\n",
    "plot_tree(c_tree, feature_names=xname, class_names=yname, filled=True, fontsize=12) \n",
    "plt.show()"
   ]
  },
  {
   "cell_type": "markdown",
   "metadata": {},
   "source": [
    "### min_impurity_decrease=0.001 트리"
   ]
  },
  {
   "cell_type": "code",
   "execution_count": null,
   "metadata": {
    "scrolled": true
   },
   "outputs": [],
   "source": [
    "c_tree = DecisionTreeClassifier(min_impurity_decrease=0.001,random_state=0) \n",
    "c_tree.fit(X, y)\n",
    "plt.figure(figsize=(20,15))\n",
    "plot_tree(c_tree, feature_names=xname, class_names=yname, filled=True, fontsize=7) \n",
    "plt.show()"
   ]
  },
  {
   "cell_type": "markdown",
   "metadata": {},
   "source": [
    "### Alpha=0.5 트리"
   ]
  },
  {
   "cell_type": "code",
   "execution_count": null,
   "metadata": {},
   "outputs": [],
   "source": [
    "# ccp_alpha: cost-complexity 의 알파\n",
    "c_tree = DecisionTreeClassifier(ccp_alpha=0.5,random_state=0) \n",
    "c_tree.fit(X, y)\n",
    "plt.figure(figsize=(5,2))\n",
    "plot_tree(c_tree, feature_names=xname, class_names=yname, filled=True, fontsize=12) \n",
    "plt.show()"
   ]
  },
  {
   "cell_type": "code",
   "execution_count": null,
   "metadata": {},
   "outputs": [],
   "source": [
    "!pip install --upgrade scikit-learn"
   ]
  },
  {
   "cell_type": "markdown",
   "metadata": {},
   "source": [
    "### Alpha=0.005 트리"
   ]
  },
  {
   "cell_type": "code",
   "execution_count": null,
   "metadata": {},
   "outputs": [],
   "source": [
    "c_tree = DecisionTreeClassifier(ccp_alpha=0.005,random_state=0) \n",
    "c_tree.fit(X, y)\n",
    "plt.figure(figsize=(15,10))\n",
    "plot_tree(c_tree, feature_names=xname, class_names=yname, filled=True, fontsize=12) \n",
    "plt.show()"
   ]
  },
  {
   "cell_type": "markdown",
   "metadata": {},
   "source": [
    "### Alpha=0.001 트리"
   ]
  },
  {
   "cell_type": "code",
   "execution_count": null,
   "metadata": {
    "scrolled": false
   },
   "outputs": [],
   "source": [
    "c_tree = DecisionTreeClassifier(ccp_alpha=0.001,random_state=0) \n",
    "c_tree.fit(X, y)\n",
    "plt.figure(figsize=(20,10))\n",
    "plot_tree(c_tree, feature_names=xname, class_names=yname, filled=True, fontsize=6) \n",
    "plt.show()"
   ]
  },
  {
   "cell_type": "code",
   "execution_count": null,
   "metadata": {},
   "outputs": [],
   "source": []
  }
 ],
 "metadata": {
  "kernelspec": {
   "display_name": "Python 3",
   "language": "python",
   "name": "python3"
  },
  "language_info": {
   "codemirror_mode": {
    "name": "ipython",
    "version": 3
   },
   "file_extension": ".py",
   "mimetype": "text/x-python",
   "name": "python",
   "nbconvert_exporter": "python",
   "pygments_lexer": "ipython3",
   "version": "3.7.10"
  }
 },
 "nbformat": 4,
 "nbformat_minor": 4
}
