{
  "nbformat": 4,
  "nbformat_minor": 0,
  "metadata": {
    "kernelspec": {
      "display_name": "Python 3",
      "language": "python",
      "name": "python3"
    },
    "language_info": {
      "codemirror_mode": {
        "name": "ipython",
        "version": 3
      },
      "file_extension": ".py",
      "mimetype": "text/x-python",
      "name": "python",
      "nbconvert_exporter": "python",
      "pygments_lexer": "ipython3",
      "version": "3.7.10"
    },
    "colab": {
      "name": "의사결정나무 과제.ipynb",
      "provenance": [],
      "include_colab_link": true
    }
  },
  "cells": [
    {
      "cell_type": "markdown",
      "metadata": {
        "id": "view-in-github",
        "colab_type": "text"
      },
      "source": [
        "<a href=\"https://colab.research.google.com/github/pyohamen/yonsei/blob/master/2-2_%EC%9D%98%EC%82%AC%EA%B2%B0%EC%A0%95%EB%82%98%EB%AC%B4%20%EB%B0%8F%20%EB%AA%A8%ED%98%95%EB%B9%84%EA%B5%90%20%EA%B3%BC%EC%A0%9C/%EC%9D%98%EC%82%AC%EA%B2%B0%EC%A0%95%EB%82%98%EB%AC%B4%20%EA%B3%BC%EC%A0%9C.ipynb\" target=\"_parent\"><img src=\"https://colab.research.google.com/assets/colab-badge.svg\" alt=\"Open In Colab\"/></a>"
      ]
    },
    {
      "cell_type": "markdown",
      "metadata": {
        "id": "JINAMSrWKPRb"
      },
      "source": [
        "## 데이터 불러오기"
      ]
    },
    {
      "cell_type": "code",
      "metadata": {
        "id": "1nZyentiKPRg"
      },
      "source": [
        "import pandas as pd"
      ],
      "execution_count": null,
      "outputs": []
    },
    {
      "cell_type": "code",
      "metadata": {
        "id": "KEO2qZIgKPRh"
      },
      "source": [
        "data = pd.read_csv('Default.csv')"
      ],
      "execution_count": null,
      "outputs": []
    },
    {
      "cell_type": "code",
      "metadata": {
        "id": "kB15yQxiKPRh",
        "outputId": "7522b310-6767-4e7e-c82e-ab23ec4a60ea"
      },
      "source": [
        "data.head()"
      ],
      "execution_count": null,
      "outputs": [
        {
          "output_type": "execute_result",
          "data": {
            "text/html": [
              "<div>\n",
              "<style scoped>\n",
              "    .dataframe tbody tr th:only-of-type {\n",
              "        vertical-align: middle;\n",
              "    }\n",
              "\n",
              "    .dataframe tbody tr th {\n",
              "        vertical-align: top;\n",
              "    }\n",
              "\n",
              "    .dataframe thead th {\n",
              "        text-align: right;\n",
              "    }\n",
              "</style>\n",
              "<table border=\"1\" class=\"dataframe\">\n",
              "  <thead>\n",
              "    <tr style=\"text-align: right;\">\n",
              "      <th></th>\n",
              "      <th>default</th>\n",
              "      <th>student</th>\n",
              "      <th>balance</th>\n",
              "      <th>income</th>\n",
              "    </tr>\n",
              "  </thead>\n",
              "  <tbody>\n",
              "    <tr>\n",
              "      <th>0</th>\n",
              "      <td>No</td>\n",
              "      <td>No</td>\n",
              "      <td>729.526495</td>\n",
              "      <td>44361.625074</td>\n",
              "    </tr>\n",
              "    <tr>\n",
              "      <th>1</th>\n",
              "      <td>No</td>\n",
              "      <td>Yes</td>\n",
              "      <td>817.180407</td>\n",
              "      <td>12106.134700</td>\n",
              "    </tr>\n",
              "    <tr>\n",
              "      <th>2</th>\n",
              "      <td>No</td>\n",
              "      <td>No</td>\n",
              "      <td>1073.549164</td>\n",
              "      <td>31767.138947</td>\n",
              "    </tr>\n",
              "    <tr>\n",
              "      <th>3</th>\n",
              "      <td>No</td>\n",
              "      <td>No</td>\n",
              "      <td>529.250605</td>\n",
              "      <td>35704.493935</td>\n",
              "    </tr>\n",
              "    <tr>\n",
              "      <th>4</th>\n",
              "      <td>No</td>\n",
              "      <td>No</td>\n",
              "      <td>785.655883</td>\n",
              "      <td>38463.495879</td>\n",
              "    </tr>\n",
              "  </tbody>\n",
              "</table>\n",
              "</div>"
            ],
            "text/plain": [
              "  default student      balance        income\n",
              "0      No      No   729.526495  44361.625074\n",
              "1      No     Yes   817.180407  12106.134700\n",
              "2      No      No  1073.549164  31767.138947\n",
              "3      No      No   529.250605  35704.493935\n",
              "4      No      No   785.655883  38463.495879"
            ]
          },
          "metadata": {
            "tags": []
          },
          "execution_count": 3
        }
      ]
    },
    {
      "cell_type": "code",
      "metadata": {
        "id": "Nj7zyY5tKPRi",
        "outputId": "604fbdfa-89b9-4a33-80f9-39041b330811"
      },
      "source": [
        "data.isnull().sum()"
      ],
      "execution_count": null,
      "outputs": [
        {
          "output_type": "execute_result",
          "data": {
            "text/plain": [
              "default    0\n",
              "student    0\n",
              "balance    0\n",
              "income     0\n",
              "dtype: int64"
            ]
          },
          "metadata": {
            "tags": []
          },
          "execution_count": 4
        }
      ]
    },
    {
      "cell_type": "code",
      "metadata": {
        "id": "lIRIjBw4KPRj"
      },
      "source": [
        "data = pd.get_dummies(data, columns=['default', 'student'], drop_first=True) # Yes=1 / No=0"
      ],
      "execution_count": null,
      "outputs": []
    },
    {
      "cell_type": "code",
      "metadata": {
        "id": "fiKIf8I9KPRj"
      },
      "source": [
        "data = data.rename({'default_Yes':'default', 'student_Yes':'student'}, axis=1)"
      ],
      "execution_count": null,
      "outputs": []
    },
    {
      "cell_type": "code",
      "metadata": {
        "id": "nivKOhB3KPRj",
        "outputId": "5a7a209f-a185-4e1f-991e-bca114c27853"
      },
      "source": [
        "data.head()"
      ],
      "execution_count": null,
      "outputs": [
        {
          "output_type": "execute_result",
          "data": {
            "text/html": [
              "<div>\n",
              "<style scoped>\n",
              "    .dataframe tbody tr th:only-of-type {\n",
              "        vertical-align: middle;\n",
              "    }\n",
              "\n",
              "    .dataframe tbody tr th {\n",
              "        vertical-align: top;\n",
              "    }\n",
              "\n",
              "    .dataframe thead th {\n",
              "        text-align: right;\n",
              "    }\n",
              "</style>\n",
              "<table border=\"1\" class=\"dataframe\">\n",
              "  <thead>\n",
              "    <tr style=\"text-align: right;\">\n",
              "      <th></th>\n",
              "      <th>balance</th>\n",
              "      <th>income</th>\n",
              "      <th>default</th>\n",
              "      <th>student</th>\n",
              "    </tr>\n",
              "  </thead>\n",
              "  <tbody>\n",
              "    <tr>\n",
              "      <th>0</th>\n",
              "      <td>729.526495</td>\n",
              "      <td>44361.625074</td>\n",
              "      <td>0</td>\n",
              "      <td>0</td>\n",
              "    </tr>\n",
              "    <tr>\n",
              "      <th>1</th>\n",
              "      <td>817.180407</td>\n",
              "      <td>12106.134700</td>\n",
              "      <td>0</td>\n",
              "      <td>1</td>\n",
              "    </tr>\n",
              "    <tr>\n",
              "      <th>2</th>\n",
              "      <td>1073.549164</td>\n",
              "      <td>31767.138947</td>\n",
              "      <td>0</td>\n",
              "      <td>0</td>\n",
              "    </tr>\n",
              "    <tr>\n",
              "      <th>3</th>\n",
              "      <td>529.250605</td>\n",
              "      <td>35704.493935</td>\n",
              "      <td>0</td>\n",
              "      <td>0</td>\n",
              "    </tr>\n",
              "    <tr>\n",
              "      <th>4</th>\n",
              "      <td>785.655883</td>\n",
              "      <td>38463.495879</td>\n",
              "      <td>0</td>\n",
              "      <td>0</td>\n",
              "    </tr>\n",
              "  </tbody>\n",
              "</table>\n",
              "</div>"
            ],
            "text/plain": [
              "       balance        income  default  student\n",
              "0   729.526495  44361.625074        0        0\n",
              "1   817.180407  12106.134700        0        1\n",
              "2  1073.549164  31767.138947        0        0\n",
              "3   529.250605  35704.493935        0        0\n",
              "4   785.655883  38463.495879        0        0"
            ]
          },
          "metadata": {
            "tags": []
          },
          "execution_count": 7
        }
      ]
    },
    {
      "cell_type": "code",
      "metadata": {
        "id": "e0EnYmDZKPRk"
      },
      "source": [
        "import matplotlib.pyplot as plt\n",
        "import seaborn as sns"
      ],
      "execution_count": null,
      "outputs": []
    },
    {
      "cell_type": "code",
      "metadata": {
        "id": "rUPHXIvYKPRk",
        "outputId": "3013d273-3626-4650-b64e-67db04dd098d"
      },
      "source": [
        "sns.countplot(x='default', data=data)\n",
        "plt.show()"
      ],
      "execution_count": null,
      "outputs": [
        {
          "output_type": "display_data",
          "data": {
            "image/png": "[encoded data removed]",
            "text/plain": [
              "<Figure size 432x288 with 1 Axes>"
            ]
          },
          "metadata": {
            "tags": [],
            "needs_background": "light"
          }
        }
      ]
    },
    {
      "cell_type": "code",
      "metadata": {
        "id": "NZ0trp9oKPRk"
      },
      "source": [
        "X = data.drop(['default'], axis=1)\n",
        "y = data['default']"
      ],
      "execution_count": null,
      "outputs": []
    },
    {
      "cell_type": "markdown",
      "metadata": {
        "id": "R8hKl3LYKPRk"
      },
      "source": [
        "## 1. Default 데이터를 Train 데이터와 Test 데이터로 분할 하시오."
      ]
    },
    {
      "cell_type": "code",
      "metadata": {
        "id": "fxvJjtJNKPRl"
      },
      "source": [
        "from sklearn.model_selection import train_test_split"
      ],
      "execution_count": null,
      "outputs": []
    },
    {
      "cell_type": "code",
      "metadata": {
        "id": "YRmCsro6KPRl"
      },
      "source": [
        "X_train, X_test, y_train, y_test = train_test_split(X, y, test_size=0.33, stratify=y, random_state=0)"
      ],
      "execution_count": null,
      "outputs": []
    },
    {
      "cell_type": "code",
      "metadata": {
        "id": "hIsh_ySjKPRl",
        "outputId": "d8e1cdc9-e687-4930-8ae2-d4de8a4b23b8"
      },
      "source": [
        "print('Train 데이터:', X_train.shape[0], '| Test 데이터:', X_test.shape[0])"
      ],
      "execution_count": null,
      "outputs": [
        {
          "output_type": "stream",
          "text": [
            "Train 데이터: 6700 | Test 데이터: 3300\n"
          ],
          "name": "stdout"
        }
      ]
    },
    {
      "cell_type": "markdown",
      "metadata": {
        "id": "rtlDfQ1IKPRm"
      },
      "source": [
        "## 2. Train 데이터를 사용하여 옵션을 사용하지 않은 Default Tree를 적합 하시오."
      ]
    },
    {
      "cell_type": "code",
      "metadata": {
        "id": "0UTfPgXzKPRm"
      },
      "source": [
        "from sklearn.tree import DecisionTreeClassifier"
      ],
      "execution_count": null,
      "outputs": []
    },
    {
      "cell_type": "code",
      "metadata": {
        "id": "kTecr4puKPRm"
      },
      "source": [
        "tree1 = DecisionTreeClassifier(random_state=0)"
      ],
      "execution_count": null,
      "outputs": []
    },
    {
      "cell_type": "code",
      "metadata": {
        "id": "FVpD_Zq3KPRm",
        "outputId": "ebadcbe5-23cb-4834-c690-e9a2fd421f46"
      },
      "source": [
        "tree1.fit(X_train, y_train)"
      ],
      "execution_count": null,
      "outputs": [
        {
          "output_type": "execute_result",
          "data": {
            "text/plain": [
              "DecisionTreeClassifier(random_state=0)"
            ]
          },
          "metadata": {
            "tags": []
          },
          "execution_count": 16
        }
      ]
    },
    {
      "cell_type": "markdown",
      "metadata": {
        "id": "0DIv6BBWKPRm"
      },
      "source": [
        "## 3. Hyper-Parameter Tuning을 통해 Best Tree를 적합 하시오."
      ]
    },
    {
      "cell_type": "code",
      "metadata": {
        "id": "mGWuFuJFKPRm"
      },
      "source": [
        "import numpy as np\n",
        "from sklearn.model_selection import GridSearchCV"
      ],
      "execution_count": null,
      "outputs": []
    },
    {
      "cell_type": "code",
      "metadata": {
        "id": "-0jCBKP5KPRn",
        "outputId": "4dfcff2c-3aa1-4ed2-d567-5fafc705327c"
      },
      "source": [
        "np.random.seed(0)\n",
        "g_cv = GridSearchCV(DecisionTreeClassifier(random_state=0),\n",
        "                   param_grid = {'ccp_alpha' : np.arange(0, 0.005, 0.0001),\n",
        "                                'min_impurity_decrease' : np.arange(0, 0.003, 0.0005),\n",
        "                                'min_samples_split' : np.arange(800, 1200, 200)},\n",
        "                   cv=10)\n",
        "g_cv.fit(X_train, y_train)"
      ],
      "execution_count": null,
      "outputs": [
        {
          "output_type": "execute_result",
          "data": {
            "text/plain": [
              "GridSearchCV(cv=10, estimator=DecisionTreeClassifier(random_state=0),\n",
              "             param_grid={'ccp_alpha': array([0.    , 0.0001, 0.0002, 0.0003, 0.0004, 0.0005, 0.0006, 0.0007,\n",
              "       0.0008, 0.0009, 0.001 , 0.0011, 0.0012, 0.0013, 0.0014, 0.0015,\n",
              "       0.0016, 0.0017, 0.0018, 0.0019, 0.002 , 0.0021, 0.0022, 0.0023,\n",
              "       0.0024, 0.0025, 0.0026, 0.0027, 0.0028, 0.0029, 0.003 , 0.0031,\n",
              "       0.0032, 0.0033, 0.0034, 0.0035, 0.0036, 0.0037, 0.0038, 0.0039,\n",
              "       0.004 , 0.0041, 0.0042, 0.0043, 0.0044, 0.0045, 0.0046, 0.0047,\n",
              "       0.0048, 0.0049]),\n",
              "                         'min_impurity_decrease': array([0.    , 0.0005, 0.001 , 0.0015, 0.002 , 0.0025]),\n",
              "                         'min_samples_split': array([ 800, 1000])})"
            ]
          },
          "metadata": {
            "tags": []
          },
          "execution_count": 18
        }
      ]
    },
    {
      "cell_type": "code",
      "metadata": {
        "id": "Ds98Z4aSKPRn",
        "outputId": "df8a7136-294a-450b-9dcd-ca82a57eea27"
      },
      "source": [
        "print('Best Parameters:', g_cv.best_params_)"
      ],
      "execution_count": null,
      "outputs": [
        {
          "output_type": "stream",
          "text": [
            "Best Parameters: {'ccp_alpha': 0.0, 'min_impurity_decrease': 0.0005, 'min_samples_split': 800}\n"
          ],
          "name": "stdout"
        }
      ]
    },
    {
      "cell_type": "code",
      "metadata": {
        "id": "j6MKy4EzKPRn"
      },
      "source": [
        "tree2 = DecisionTreeClassifier(ccp_alpha=0, min_impurity_decrease=0.005, min_samples_split=800, random_state=0)"
      ],
      "execution_count": null,
      "outputs": []
    },
    {
      "cell_type": "code",
      "metadata": {
        "scrolled": true,
        "id": "WDo6jyGlKPRn",
        "outputId": "0ae35900-90bc-4ae2-fcce-8dbd7e51410f"
      },
      "source": [
        "tree2.fit(X_train, y_train)"
      ],
      "execution_count": null,
      "outputs": [
        {
          "output_type": "execute_result",
          "data": {
            "text/plain": [
              "DecisionTreeClassifier(ccp_alpha=0, min_impurity_decrease=0.005,\n",
              "                       min_samples_split=800, random_state=0)"
            ]
          },
          "metadata": {
            "tags": []
          },
          "execution_count": 21
        }
      ]
    },
    {
      "cell_type": "markdown",
      "metadata": {
        "id": "JUDkhK3OKPRn"
      },
      "source": [
        "## 4. Default Tree와 Best Tree의 성능을 ROC 곡선을 이용하여 비교 하시오."
      ]
    },
    {
      "cell_type": "code",
      "metadata": {
        "id": "b6hQ5hHEKPRo"
      },
      "source": [
        "from sklearn.metrics import plot_roc_curve"
      ],
      "execution_count": null,
      "outputs": []
    },
    {
      "cell_type": "code",
      "metadata": {
        "id": "A2R5pwiTKPRo",
        "outputId": "7bc4345d-6ee9-431a-d8cd-da0385904de5"
      },
      "source": [
        "fig, ax = plt.subplots()\n",
        "plot_roc_curve(tree1, X_test, y_test, name='Default Tree', ax=ax)\n",
        "plot_roc_curve(tree2, X_test, y_test, name='Best Tree', ax=ax)\n",
        "ax.set_title('ROC Curve Comparison')\n",
        "plt.show()"
      ],
      "execution_count": null,
      "outputs": [
        {
          "output_type": "display_data",
          "data": {
            "image/png": "[encoded data removed]",
            "text/plain": [
              "<Figure size 432x288 with 1 Axes>"
            ]
          },
          "metadata": {
            "tags": [],
            "needs_background": "light"
          }
        }
      ]
    },
    {
      "cell_type": "markdown",
      "metadata": {
        "id": "twDx2V5yKPRo"
      },
      "source": [
        "## 5. (model).feature_importances_ 명령어를 사용하여 두 의사결정나무의 변수 중요도를 비교 하시오."
      ]
    },
    {
      "cell_type": "code",
      "metadata": {
        "id": "mo8EDHqsKPRo",
        "outputId": "a524d83e-e281-43ad-c9bb-7a40f5ecf12c"
      },
      "source": [
        "fig, ax = plt.subplots()\n",
        "ax.barh(X.columns, tree1.feature_importances_)\n",
        "ax.set_title('Feature Importances in Default Tree')\n",
        "plt.show()"
      ],
      "execution_count": null,
      "outputs": [
        {
          "output_type": "display_data",
          "data": {
            "image/png": "[encoded data removed]",
            "text/plain": [
              "<Figure size 432x288 with 1 Axes>"
            ]
          },
          "metadata": {
            "tags": [],
            "needs_background": "light"
          }
        }
      ]
    },
    {
      "cell_type": "code",
      "metadata": {
        "id": "sa29RherKPRo",
        "outputId": "fe30683a-9f25-4a53-c27a-519353ec6e16"
      },
      "source": [
        "fig, ax = plt.subplots()\n",
        "ax.barh(X.columns, tree2.feature_importances_)\n",
        "ax.set_title('Feature Importances in Best Tree')\n",
        "plt.show()"
      ],
      "execution_count": null,
      "outputs": [
        {
          "output_type": "display_data",
          "data": {
            "image/png": "[encoded data removed]",
            "text/plain": [
              "<Figure size 432x288 with 1 Axes>"
            ]
          },
          "metadata": {
            "tags": [],
            "needs_background": "light"
          }
        }
      ]
    },
    {
      "cell_type": "code",
      "metadata": {
        "id": "6M8oURYCKPRp"
      },
      "source": [
        ""
      ],
      "execution_count": null,
      "outputs": []
    }
  ]
}