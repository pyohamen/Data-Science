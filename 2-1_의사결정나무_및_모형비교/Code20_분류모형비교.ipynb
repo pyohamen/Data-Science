{
  "nbformat": 4,
  "nbformat_minor": 0,
  "metadata": {
    "kernelspec": {
      "display_name": "Python 3",
      "language": "python",
      "name": "python3"
    },
    "language_info": {
      "codemirror_mode": {
        "name": "ipython",
        "version": 3
      },
      "file_extension": ".py",
      "mimetype": "text/x-python",
      "name": "python",
      "nbconvert_exporter": "python",
      "pygments_lexer": "ipython3",
      "version": "3.7.10"
    },
    "colab": {
      "name": "Code20_분류모형비교.ipynb",
      "provenance": [],
      "include_colab_link": true
    }
  },
  "cells": [
    {
      "cell_type": "markdown",
      "metadata": {
        "id": "view-in-github",
        "colab_type": "text"
      },
      "source": [
        "<a href=\"https://colab.research.google.com/github/pyohamen/yonsei/blob/master/2-1_%EC%9D%98%EC%82%AC%EA%B2%B0%EC%A0%95%EB%82%98%EB%AC%B4_%EB%B0%8F_%EB%AA%A8%ED%98%95%EB%B9%84%EA%B5%90/Code20_%EB%B6%84%EB%A5%98%EB%AA%A8%ED%98%95%EB%B9%84%EA%B5%90.ipynb\" target=\"_parent\"><img src=\"https://colab.research.google.com/assets/colab-badge.svg\" alt=\"Open In Colab\"/></a>"
      ]
    },
    {
      "cell_type": "markdown",
      "metadata": {
        "id": "NKx81CVaJ-LU"
      },
      "source": [
        "# Loan 데이터 분류모형 예측성능 비교"
      ]
    },
    {
      "cell_type": "code",
      "metadata": {
        "id": "wNsTPhQ5J-La"
      },
      "source": [
        "import pandas as pd\n",
        "import numpy as np\n",
        "import matplotlib.pyplot as plt\n",
        "import seaborn as sns"
      ],
      "execution_count": null,
      "outputs": []
    },
    {
      "cell_type": "code",
      "metadata": {
        "id": "R280SzHbJ-Lb"
      },
      "source": [
        "df = pd.read_csv('loan.csv')"
      ],
      "execution_count": null,
      "outputs": []
    },
    {
      "cell_type": "code",
      "metadata": {
        "id": "A2gEuwMvJ-Lb"
      },
      "source": [
        "df['job'] = df['job'].replace({'Office':0, 'ProfExe':1, 'Other':2, 'Mgr':3, 'Self':4, 'Sales':5})"
      ],
      "execution_count": null,
      "outputs": []
    },
    {
      "cell_type": "code",
      "metadata": {
        "id": "fAHr1GcnJ-Lb"
      },
      "source": [
        "X = df.drop(['y'], axis=1)\n",
        "y = df['y']\n",
        "xname = X.columns\n",
        "yname = ['Normal','Bad']"
      ],
      "execution_count": null,
      "outputs": []
    },
    {
      "cell_type": "markdown",
      "metadata": {
        "id": "9cU3TzXlJ-Lc"
      },
      "source": [
        "## Train/Test 데이터 분할"
      ]
    },
    {
      "cell_type": "code",
      "metadata": {
        "id": "KJbYttPjJ-Lc"
      },
      "source": [
        "from sklearn.model_selection import train_test_split\n",
        "X_train, X_test, y_train, y_test = train_test_split(X, y, test_size=0.4, random_state=0, stratify=y)"
      ],
      "execution_count": null,
      "outputs": []
    },
    {
      "cell_type": "markdown",
      "metadata": {
        "id": "WRuXdMAGJ-Ld"
      },
      "source": [
        "## 로지스틱 회귀분석"
      ]
    },
    {
      "cell_type": "code",
      "metadata": {
        "id": "Fj2dgiupJ-Ld",
        "outputId": "b65a595f-13d6-4d07-9c44-8e88b7578d38"
      },
      "source": [
        "from sklearn.linear_model import LogisticRegression\n",
        "# max_iter: 과도한 수행을 방지\n",
        "m1 = LogisticRegression(random_state=0, max_iter = 1000)\n",
        "m1.fit(X_train, y_train)\n",
        "# 확률 예측\n",
        "m1_prob = m1.predict_proba(X_test)\n",
        "pd.DataFrame(m1_prob)"
      ],
      "execution_count": null,
      "outputs": [
        {
          "output_type": "execute_result",
          "data": {
            "text/html": [
              "<div>\n",
              "<style scoped>\n",
              "    .dataframe tbody tr th:only-of-type {\n",
              "        vertical-align: middle;\n",
              "    }\n",
              "\n",
              "    .dataframe tbody tr th {\n",
              "        vertical-align: top;\n",
              "    }\n",
              "\n",
              "    .dataframe thead th {\n",
              "        text-align: right;\n",
              "    }\n",
              "</style>\n",
              "<table border=\"1\" class=\"dataframe\">\n",
              "  <thead>\n",
              "    <tr style=\"text-align: right;\">\n",
              "      <th></th>\n",
              "      <th>0</th>\n",
              "      <th>1</th>\n",
              "    </tr>\n",
              "  </thead>\n",
              "  <tbody>\n",
              "    <tr>\n",
              "      <th>0</th>\n",
              "      <td>0.797334</td>\n",
              "      <td>0.202666</td>\n",
              "    </tr>\n",
              "    <tr>\n",
              "      <th>1</th>\n",
              "      <td>0.772756</td>\n",
              "      <td>0.227244</td>\n",
              "    </tr>\n",
              "    <tr>\n",
              "      <th>2</th>\n",
              "      <td>0.765714</td>\n",
              "      <td>0.234286</td>\n",
              "    </tr>\n",
              "    <tr>\n",
              "      <th>3</th>\n",
              "      <td>0.756511</td>\n",
              "      <td>0.243489</td>\n",
              "    </tr>\n",
              "    <tr>\n",
              "      <th>4</th>\n",
              "      <td>0.642193</td>\n",
              "      <td>0.357807</td>\n",
              "    </tr>\n",
              "    <tr>\n",
              "      <th>...</th>\n",
              "      <td>...</td>\n",
              "      <td>...</td>\n",
              "    </tr>\n",
              "    <tr>\n",
              "      <th>2792</th>\n",
              "      <td>0.551095</td>\n",
              "      <td>0.448905</td>\n",
              "    </tr>\n",
              "    <tr>\n",
              "      <th>2793</th>\n",
              "      <td>0.740449</td>\n",
              "      <td>0.259551</td>\n",
              "    </tr>\n",
              "    <tr>\n",
              "      <th>2794</th>\n",
              "      <td>0.485864</td>\n",
              "      <td>0.514136</td>\n",
              "    </tr>\n",
              "    <tr>\n",
              "      <th>2795</th>\n",
              "      <td>0.413873</td>\n",
              "      <td>0.586127</td>\n",
              "    </tr>\n",
              "    <tr>\n",
              "      <th>2796</th>\n",
              "      <td>0.590092</td>\n",
              "      <td>0.409908</td>\n",
              "    </tr>\n",
              "  </tbody>\n",
              "</table>\n",
              "<p>2797 rows × 2 columns</p>\n",
              "</div>"
            ],
            "text/plain": [
              "             0         1\n",
              "0     0.797334  0.202666\n",
              "1     0.772756  0.227244\n",
              "2     0.765714  0.234286\n",
              "3     0.756511  0.243489\n",
              "4     0.642193  0.357807\n",
              "...        ...       ...\n",
              "2792  0.551095  0.448905\n",
              "2793  0.740449  0.259551\n",
              "2794  0.485864  0.514136\n",
              "2795  0.413873  0.586127\n",
              "2796  0.590092  0.409908\n",
              "\n",
              "[2797 rows x 2 columns]"
            ]
          },
          "metadata": {
            "tags": []
          },
          "execution_count": 6
        }
      ]
    },
    {
      "cell_type": "markdown",
      "metadata": {
        "id": "KfHWPOIBJ-Le"
      },
      "source": [
        "### cut-off=0.1"
      ]
    },
    {
      "cell_type": "code",
      "metadata": {
        "id": "EV399_eNJ-Le",
        "outputId": "a5b8415f-986b-41c7-c5e4-5ba9af91fe76"
      },
      "source": [
        "threshold = 0.1\n",
        "m1_pred = (m1_prob[:,1]>threshold).astype(int)\n",
        "m1_pred"
      ],
      "execution_count": null,
      "outputs": [
        {
          "output_type": "execute_result",
          "data": {
            "text/plain": [
              "array([1, 1, 1, ..., 1, 1, 1])"
            ]
          },
          "metadata": {
            "tags": []
          },
          "execution_count": 7
        }
      ]
    },
    {
      "cell_type": "code",
      "metadata": {
        "id": "cPB8tjnqJ-Le",
        "outputId": "40fc8a88-0688-42f5-d208-d97da0d9808c"
      },
      "source": [
        "from sklearn.metrics import confusion_matrix\n",
        "# m1 의 confusion matrix\n",
        "m1_cm = confusion_matrix(y_test, m1_pred)\n",
        "pd.DataFrame(m1_cm)"
      ],
      "execution_count": null,
      "outputs": [
        {
          "output_type": "execute_result",
          "data": {
            "text/html": [
              "<div>\n",
              "<style scoped>\n",
              "    .dataframe tbody tr th:only-of-type {\n",
              "        vertical-align: middle;\n",
              "    }\n",
              "\n",
              "    .dataframe tbody tr th {\n",
              "        vertical-align: top;\n",
              "    }\n",
              "\n",
              "    .dataframe thead th {\n",
              "        text-align: right;\n",
              "    }\n",
              "</style>\n",
              "<table border=\"1\" class=\"dataframe\">\n",
              "  <thead>\n",
              "    <tr style=\"text-align: right;\">\n",
              "      <th></th>\n",
              "      <th>0</th>\n",
              "      <th>1</th>\n",
              "    </tr>\n",
              "  </thead>\n",
              "  <tbody>\n",
              "    <tr>\n",
              "      <th>0</th>\n",
              "      <td>426</td>\n",
              "      <td>1695</td>\n",
              "    </tr>\n",
              "    <tr>\n",
              "      <th>1</th>\n",
              "      <td>45</td>\n",
              "      <td>631</td>\n",
              "    </tr>\n",
              "  </tbody>\n",
              "</table>\n",
              "</div>"
            ],
            "text/plain": [
              "     0     1\n",
              "0  426  1695\n",
              "1   45   631"
            ]
          },
          "metadata": {
            "tags": []
          },
          "execution_count": 8
        }
      ]
    },
    {
      "cell_type": "code",
      "metadata": {
        "id": "Lj6XyNCwJ-Lf",
        "outputId": "b953d3a8-d8ed-47ca-8a23-e84156cb96b3"
      },
      "source": [
        "# 정확도\n",
        "accu1 = np.trace(m1_cm)/len(y_test)\n",
        "print('정확도    :', np.round(accu1,2))\n",
        "\n",
        "# 특이도, 민감도\n",
        "spec1, sens1 = np.diag(m1_cm) / np.sum(m1_cm, axis = 1)\n",
        "print('특이도    :', np.round(spec1,2))\n",
        "print('민감도    :', np.round(sens1,2))\n",
        "\n",
        "# 정밀도\n",
        "prec1 = m1_cm[1,1] / np.sum(m1_cm, axis=0)[1]\n",
        "print('정밀도    :', np.round(prec1,2))\n",
        "\n",
        "# F1-score\n",
        "f1_1 = 2*prec1*sens1 / (prec1+sens1)\n",
        "print('F1-score :', np.round(f1_1,2))"
      ],
      "execution_count": null,
      "outputs": [
        {
          "output_type": "stream",
          "text": [
            "정확도    : 0.38\n",
            "특이도    : 0.2\n",
            "민감도    : 0.93\n",
            "정밀도    : 0.27\n",
            "F1-score : 0.42\n"
          ],
          "name": "stdout"
        }
      ]
    },
    {
      "cell_type": "markdown",
      "metadata": {
        "id": "U1AMklp6J-Lf"
      },
      "source": [
        "### cut-off=0.3"
      ]
    },
    {
      "cell_type": "code",
      "metadata": {
        "id": "aY264-4fJ-Lg",
        "outputId": "c48de9a6-b968-4ab7-cb26-f2ff4b887650"
      },
      "source": [
        "threshold = 0.3\n",
        "m1_pred = (m1_prob[:,1]>threshold).astype(int)\n",
        "m1_pred"
      ],
      "execution_count": null,
      "outputs": [
        {
          "output_type": "execute_result",
          "data": {
            "text/plain": [
              "array([0, 0, 0, ..., 1, 1, 1])"
            ]
          },
          "metadata": {
            "tags": []
          },
          "execution_count": 10
        }
      ]
    },
    {
      "cell_type": "code",
      "metadata": {
        "id": "DZOt6vniJ-Lg",
        "outputId": "33db42ca-f086-4ce5-e010-3e29d4c4aecc"
      },
      "source": [
        "from sklearn.metrics import confusion_matrix\n",
        "m1_cm = confusion_matrix(y_test, m1_pred)\n",
        "pd.DataFrame(m1_cm)"
      ],
      "execution_count": null,
      "outputs": [
        {
          "output_type": "execute_result",
          "data": {
            "text/html": [
              "<div>\n",
              "<style scoped>\n",
              "    .dataframe tbody tr th:only-of-type {\n",
              "        vertical-align: middle;\n",
              "    }\n",
              "\n",
              "    .dataframe tbody tr th {\n",
              "        vertical-align: top;\n",
              "    }\n",
              "\n",
              "    .dataframe thead th {\n",
              "        text-align: right;\n",
              "    }\n",
              "</style>\n",
              "<table border=\"1\" class=\"dataframe\">\n",
              "  <thead>\n",
              "    <tr style=\"text-align: right;\">\n",
              "      <th></th>\n",
              "      <th>0</th>\n",
              "      <th>1</th>\n",
              "    </tr>\n",
              "  </thead>\n",
              "  <tbody>\n",
              "    <tr>\n",
              "      <th>0</th>\n",
              "      <td>1583</td>\n",
              "      <td>538</td>\n",
              "    </tr>\n",
              "    <tr>\n",
              "      <th>1</th>\n",
              "      <td>233</td>\n",
              "      <td>443</td>\n",
              "    </tr>\n",
              "  </tbody>\n",
              "</table>\n",
              "</div>"
            ],
            "text/plain": [
              "      0    1\n",
              "0  1583  538\n",
              "1   233  443"
            ]
          },
          "metadata": {
            "tags": []
          },
          "execution_count": 11
        }
      ]
    },
    {
      "cell_type": "code",
      "metadata": {
        "id": "zv72WSUlJ-Lh",
        "outputId": "1e7c8d02-140a-4c6c-b111-c541ad39aceb"
      },
      "source": [
        "# 정확도\n",
        "accu1 = np.trace(m1_cm)/len(y_test)\n",
        "print('정확도 :', np.round(accu1,2))\n",
        "\n",
        "# 특이도, 민감도\n",
        "spec1, sens1 = np.diag(m1_cm) / np.sum(m1_cm, axis = 1)\n",
        "print('특이도 :', np.round(spec1,2))\n",
        "print('민감도 :', np.round(sens1,2))\n",
        "\n",
        "# 정밀도\n",
        "prec1 = m1_cm[1,1] / np.sum(m1_cm, axis=0)[1]\n",
        "print('정밀도 :', np.round(prec1,2))\n",
        "\n",
        "# F1-score\n",
        "f1_1 = 2*prec1*sens1 / (prec1+sens1)\n",
        "print('F1-score :', np.round(f1_1,2))"
      ],
      "execution_count": null,
      "outputs": [
        {
          "output_type": "stream",
          "text": [
            "정확도 : 0.72\n",
            "특이도 : 0.75\n",
            "민감도 : 0.66\n",
            "정밀도 : 0.45\n",
            "F1-score : 0.53\n"
          ],
          "name": "stdout"
        }
      ]
    },
    {
      "cell_type": "markdown",
      "metadata": {
        "id": "v5qZSTEwJ-Lh"
      },
      "source": [
        "### cut-off=0.5"
      ]
    },
    {
      "cell_type": "code",
      "metadata": {
        "id": "iUD1pvrLJ-Lh",
        "outputId": "e81efdbd-50bb-4b5b-839e-866d3732c26f"
      },
      "source": [
        "threshold = 0.5\n",
        "m1_pred = (m1_prob[:,1]>threshold).astype(int)\n",
        "m1_pred"
      ],
      "execution_count": null,
      "outputs": [
        {
          "output_type": "execute_result",
          "data": {
            "text/plain": [
              "array([0, 0, 0, ..., 1, 1, 0])"
            ]
          },
          "metadata": {
            "tags": []
          },
          "execution_count": 13
        }
      ]
    },
    {
      "cell_type": "code",
      "metadata": {
        "id": "d5HMcbNhJ-Lh",
        "outputId": "945fa789-ca85-47e7-b8f7-b6a578da4753"
      },
      "source": [
        "from sklearn.metrics import confusion_matrix\n",
        "m1_cm = confusion_matrix(y_test, m1_pred)\n",
        "pd.DataFrame(m1_cm)"
      ],
      "execution_count": null,
      "outputs": [
        {
          "output_type": "execute_result",
          "data": {
            "text/html": [
              "<div>\n",
              "<style scoped>\n",
              "    .dataframe tbody tr th:only-of-type {\n",
              "        vertical-align: middle;\n",
              "    }\n",
              "\n",
              "    .dataframe tbody tr th {\n",
              "        vertical-align: top;\n",
              "    }\n",
              "\n",
              "    .dataframe thead th {\n",
              "        text-align: right;\n",
              "    }\n",
              "</style>\n",
              "<table border=\"1\" class=\"dataframe\">\n",
              "  <thead>\n",
              "    <tr style=\"text-align: right;\">\n",
              "      <th></th>\n",
              "      <th>0</th>\n",
              "      <th>1</th>\n",
              "    </tr>\n",
              "  </thead>\n",
              "  <tbody>\n",
              "    <tr>\n",
              "      <th>0</th>\n",
              "      <td>2003</td>\n",
              "      <td>118</td>\n",
              "    </tr>\n",
              "    <tr>\n",
              "      <th>1</th>\n",
              "      <td>520</td>\n",
              "      <td>156</td>\n",
              "    </tr>\n",
              "  </tbody>\n",
              "</table>\n",
              "</div>"
            ],
            "text/plain": [
              "      0    1\n",
              "0  2003  118\n",
              "1   520  156"
            ]
          },
          "metadata": {
            "tags": []
          },
          "execution_count": 14
        }
      ]
    },
    {
      "cell_type": "code",
      "metadata": {
        "id": "Og-sumD1J-Li",
        "outputId": "3ad8688a-9a72-4aed-a299-f5a4f81f02bf"
      },
      "source": [
        "# 정확도\n",
        "accu1 = np.trace(m1_cm)/len(y_test)\n",
        "print('정확도 :', np.round(accu1,2))\n",
        "\n",
        "# 특이도, 민감도\n",
        "spec1, sens1 = np.diag(m1_cm) / np.sum(m1_cm, axis = 1)\n",
        "print('특이도 :', np.round(spec1,2))\n",
        "print('민감도 :', np.round(sens1,2))\n",
        "\n",
        "# 정밀도\n",
        "prec1 = m1_cm[1,1] / np.sum(m1_cm, axis=0)[1]\n",
        "print('정밀도 :', np.round(prec1,2))\n",
        "\n",
        "# F1-score\n",
        "f1_1 = 2*prec1*sens1 / (prec1+sens1)\n",
        "print('F1-score :', np.round(f1_1,2))"
      ],
      "execution_count": null,
      "outputs": [
        {
          "output_type": "stream",
          "text": [
            "정확도 : 0.77\n",
            "특이도 : 0.94\n",
            "민감도 : 0.23\n",
            "정밀도 : 0.57\n",
            "F1-score : 0.33\n"
          ],
          "name": "stdout"
        }
      ]
    },
    {
      "cell_type": "code",
      "metadata": {
        "id": "D0dfakPyJ-Li"
      },
      "source": [
        ""
      ],
      "execution_count": null,
      "outputs": []
    }
  ]
}