{
  "nbformat": 4,
  "nbformat_minor": 0,
  "metadata": {
    "kernelspec": {
      "display_name": "Python 3",
      "language": "python",
      "name": "python3"
    },
    "language_info": {
      "codemirror_mode": {
        "name": "ipython",
        "version": 3
      },
      "file_extension": ".py",
      "mimetype": "text/x-python",
      "name": "python",
      "nbconvert_exporter": "python",
      "pygments_lexer": "ipython3",
      "version": "3.7.10"
    },
    "colab": {
      "name": "Code22_분류모형비교.ipynb",
      "provenance": [],
      "include_colab_link": true
    }
  },
  "cells": [
    {
      "cell_type": "markdown",
      "metadata": {
        "id": "view-in-github",
        "colab_type": "text"
      },
      "source": [
        "<a href=\"https://colab.research.google.com/github/pyohamen/yonsei/blob/master/2-1_%EC%9D%98%EC%82%AC%EA%B2%B0%EC%A0%95%EB%82%98%EB%AC%B4_%EB%B0%8F_%EB%AA%A8%ED%98%95%EB%B9%84%EA%B5%90/Code22_%EB%B6%84%EB%A5%98%EB%AA%A8%ED%98%95%EB%B9%84%EA%B5%90.ipynb\" target=\"_parent\"><img src=\"https://colab.research.google.com/assets/colab-badge.svg\" alt=\"Open In Colab\"/></a>"
      ]
    },
    {
      "cell_type": "markdown",
      "metadata": {
        "id": "SPeU7PfFKGME"
      },
      "source": [
        "# Loan 데이터 분류모형 예측성능 비교"
      ]
    },
    {
      "cell_type": "code",
      "metadata": {
        "id": "vl9sI8odKGMK"
      },
      "source": [
        "import pandas as pd\n",
        "import numpy as np\n",
        "import matplotlib.pyplot as plt\n",
        "import seaborn as sns"
      ],
      "execution_count": null,
      "outputs": []
    },
    {
      "cell_type": "code",
      "metadata": {
        "id": "N0rkmQRbKGML"
      },
      "source": [
        "df = pd.read_csv('loan.csv')"
      ],
      "execution_count": null,
      "outputs": []
    },
    {
      "cell_type": "code",
      "metadata": {
        "id": "YJ7QIppvKGMM"
      },
      "source": [
        "df['job'] = df['job'].replace({'Office':0, 'ProfExe':1, 'Other':2, 'Mgr':3, 'Self':4, 'Sales':5})"
      ],
      "execution_count": null,
      "outputs": []
    },
    {
      "cell_type": "code",
      "metadata": {
        "id": "xJh99S8KKGMM"
      },
      "source": [
        "X = df.drop(['y'], axis=1)\n",
        "y = df['y']\n",
        "xname = X.columns\n",
        "yname = ['Normal','Bad']"
      ],
      "execution_count": null,
      "outputs": []
    },
    {
      "cell_type": "markdown",
      "metadata": {
        "id": "MTiGUrxpKGMM"
      },
      "source": [
        "## Train/Test 데이터 분할"
      ]
    },
    {
      "cell_type": "code",
      "metadata": {
        "id": "o2l3hhsuKGMN"
      },
      "source": [
        "from sklearn.model_selection import train_test_split\n",
        "X_train, X_test, y_train, y_test = train_test_split(X, y, test_size=0.4, random_state=0, stratify=y)"
      ],
      "execution_count": null,
      "outputs": []
    },
    {
      "cell_type": "markdown",
      "metadata": {
        "id": "mv9EMvBNKGMN"
      },
      "source": [
        "## 로지스틱 회귀분석"
      ]
    },
    {
      "cell_type": "code",
      "metadata": {
        "id": "9Rn9lMrqKGMN",
        "outputId": "6c7017cd-abc4-459c-942b-8a443de3f7ce"
      },
      "source": [
        "from sklearn.linear_model import LogisticRegression\n",
        "m1 = LogisticRegression(random_state=0, max_iter = 1000)\n",
        "m1.fit(X_train, y_train)\n",
        "m1_prob = m1.predict_proba(X_test)\n",
        "pd.DataFrame(m1_prob)"
      ],
      "execution_count": null,
      "outputs": [
        {
          "output_type": "execute_result",
          "data": {
            "text/html": [
              "<div>\n",
              "<style scoped>\n",
              "    .dataframe tbody tr th:only-of-type {\n",
              "        vertical-align: middle;\n",
              "    }\n",
              "\n",
              "    .dataframe tbody tr th {\n",
              "        vertical-align: top;\n",
              "    }\n",
              "\n",
              "    .dataframe thead th {\n",
              "        text-align: right;\n",
              "    }\n",
              "</style>\n",
              "<table border=\"1\" class=\"dataframe\">\n",
              "  <thead>\n",
              "    <tr style=\"text-align: right;\">\n",
              "      <th></th>\n",
              "      <th>0</th>\n",
              "      <th>1</th>\n",
              "    </tr>\n",
              "  </thead>\n",
              "  <tbody>\n",
              "    <tr>\n",
              "      <th>0</th>\n",
              "      <td>0.797334</td>\n",
              "      <td>0.202666</td>\n",
              "    </tr>\n",
              "    <tr>\n",
              "      <th>1</th>\n",
              "      <td>0.772756</td>\n",
              "      <td>0.227244</td>\n",
              "    </tr>\n",
              "    <tr>\n",
              "      <th>2</th>\n",
              "      <td>0.765714</td>\n",
              "      <td>0.234286</td>\n",
              "    </tr>\n",
              "    <tr>\n",
              "      <th>3</th>\n",
              "      <td>0.756511</td>\n",
              "      <td>0.243489</td>\n",
              "    </tr>\n",
              "    <tr>\n",
              "      <th>4</th>\n",
              "      <td>0.642193</td>\n",
              "      <td>0.357807</td>\n",
              "    </tr>\n",
              "    <tr>\n",
              "      <th>...</th>\n",
              "      <td>...</td>\n",
              "      <td>...</td>\n",
              "    </tr>\n",
              "    <tr>\n",
              "      <th>2792</th>\n",
              "      <td>0.551095</td>\n",
              "      <td>0.448905</td>\n",
              "    </tr>\n",
              "    <tr>\n",
              "      <th>2793</th>\n",
              "      <td>0.740449</td>\n",
              "      <td>0.259551</td>\n",
              "    </tr>\n",
              "    <tr>\n",
              "      <th>2794</th>\n",
              "      <td>0.485864</td>\n",
              "      <td>0.514136</td>\n",
              "    </tr>\n",
              "    <tr>\n",
              "      <th>2795</th>\n",
              "      <td>0.413873</td>\n",
              "      <td>0.586127</td>\n",
              "    </tr>\n",
              "    <tr>\n",
              "      <th>2796</th>\n",
              "      <td>0.590092</td>\n",
              "      <td>0.409908</td>\n",
              "    </tr>\n",
              "  </tbody>\n",
              "</table>\n",
              "<p>2797 rows × 2 columns</p>\n",
              "</div>"
            ],
            "text/plain": [
              "             0         1\n",
              "0     0.797334  0.202666\n",
              "1     0.772756  0.227244\n",
              "2     0.765714  0.234286\n",
              "3     0.756511  0.243489\n",
              "4     0.642193  0.357807\n",
              "...        ...       ...\n",
              "2792  0.551095  0.448905\n",
              "2793  0.740449  0.259551\n",
              "2794  0.485864  0.514136\n",
              "2795  0.413873  0.586127\n",
              "2796  0.590092  0.409908\n",
              "\n",
              "[2797 rows x 2 columns]"
            ]
          },
          "metadata": {
            "tags": []
          },
          "execution_count": 6
        }
      ]
    },
    {
      "cell_type": "markdown",
      "metadata": {
        "id": "lFGSZbS3KGMO"
      },
      "source": [
        "### ROC 커브 및 AUC"
      ]
    },
    {
      "cell_type": "code",
      "metadata": {
        "id": "jkbfJMj0KGMO",
        "outputId": "f5c875bf-6e7b-419d-cebd-50cbf0882bc2"
      },
      "source": [
        "from sklearn.metrics import plot_roc_curve\n",
        "m1_roc=plot_roc_curve(m1, X_test, y_test)"
      ],
      "execution_count": null,
      "outputs": [
        {
          "output_type": "display_data",
          "data": {
            "image/png": "[encoded data removed]",
            "text/plain": [
              "<Figure size 432x288 with 1 Axes>"
            ]
          },
          "metadata": {
            "tags": [],
            "needs_background": "light"
          }
        }
      ]
    },
    {
      "cell_type": "markdown",
      "metadata": {
        "id": "8Oj8wJkVKGMO"
      },
      "source": [
        "## 나무 모형\n",
        "\n",
        "### Pruning : Alpha=0.0, min_impurity_decrease=0.0005,  min_samples_split=2  트리"
      ]
    },
    {
      "cell_type": "code",
      "metadata": {
        "id": "z2Kk9lPDKGMP",
        "outputId": "e680b4ac-9fc5-4ca6-9e2a-016b14d2e192"
      },
      "source": [
        "from sklearn.tree import DecisionTreeClassifier\n",
        "m2 = DecisionTreeClassifier(ccp_alpha=0.0,min_impurity_decrease=0.0005,min_samples_split=2,random_state=0)\n",
        "m2.fit(X_train, y_train)"
      ],
      "execution_count": null,
      "outputs": [
        {
          "output_type": "execute_result",
          "data": {
            "text/plain": [
              "DecisionTreeClassifier(min_impurity_decrease=0.0005, random_state=0)"
            ]
          },
          "metadata": {
            "tags": []
          },
          "execution_count": 8
        }
      ]
    },
    {
      "cell_type": "code",
      "metadata": {
        "scrolled": false,
        "id": "bONc3retKGMP",
        "outputId": "c1f7ff39-c197-4cff-bcf5-319b368f08e1"
      },
      "source": [
        "m2_prob = m2.predict_proba(X_test)\n",
        "m2_prob"
      ],
      "execution_count": null,
      "outputs": [
        {
          "output_type": "execute_result",
          "data": {
            "text/plain": [
              "array([[0.00716846, 0.99283154],\n",
              "       [0.91304348, 0.08695652],\n",
              "       [0.9574124 , 0.0425876 ],\n",
              "       ...,\n",
              "       [0.00716846, 0.99283154],\n",
              "       [1.        , 0.        ],\n",
              "       [0.        , 1.        ]])"
            ]
          },
          "metadata": {
            "tags": []
          },
          "execution_count": 9
        }
      ]
    },
    {
      "cell_type": "code",
      "metadata": {
        "id": "SKoMIHRnKGMP",
        "outputId": "80b2c9ee-f4d9-443b-ae05-f07fdbff502f"
      },
      "source": [
        "threshold = 0.3\n",
        "m2_pred = (m2_prob[:,1]>threshold).astype(int)\n",
        "m2_pred"
      ],
      "execution_count": null,
      "outputs": [
        {
          "output_type": "execute_result",
          "data": {
            "text/plain": [
              "array([1, 0, 0, ..., 1, 0, 1])"
            ]
          },
          "metadata": {
            "tags": []
          },
          "execution_count": 10
        }
      ]
    },
    {
      "cell_type": "code",
      "metadata": {
        "id": "sH0RyG_ZKGMQ",
        "outputId": "4d697816-c683-4e15-f1a9-4cbbfa3ba508"
      },
      "source": [
        "from sklearn.metrics import confusion_matrix\n",
        "m2_cm = confusion_matrix(y_test, m2_pred)\n",
        "pd.DataFrame(m2_cm)"
      ],
      "execution_count": null,
      "outputs": [
        {
          "output_type": "execute_result",
          "data": {
            "text/html": [
              "<div>\n",
              "<style scoped>\n",
              "    .dataframe tbody tr th:only-of-type {\n",
              "        vertical-align: middle;\n",
              "    }\n",
              "\n",
              "    .dataframe tbody tr th {\n",
              "        vertical-align: top;\n",
              "    }\n",
              "\n",
              "    .dataframe thead th {\n",
              "        text-align: right;\n",
              "    }\n",
              "</style>\n",
              "<table border=\"1\" class=\"dataframe\">\n",
              "  <thead>\n",
              "    <tr style=\"text-align: right;\">\n",
              "      <th></th>\n",
              "      <th>0</th>\n",
              "      <th>1</th>\n",
              "    </tr>\n",
              "  </thead>\n",
              "  <tbody>\n",
              "    <tr>\n",
              "      <th>0</th>\n",
              "      <td>2055</td>\n",
              "      <td>66</td>\n",
              "    </tr>\n",
              "    <tr>\n",
              "      <th>1</th>\n",
              "      <td>214</td>\n",
              "      <td>462</td>\n",
              "    </tr>\n",
              "  </tbody>\n",
              "</table>\n",
              "</div>"
            ],
            "text/plain": [
              "      0    1\n",
              "0  2055   66\n",
              "1   214  462"
            ]
          },
          "metadata": {
            "tags": []
          },
          "execution_count": 11
        }
      ]
    },
    {
      "cell_type": "code",
      "metadata": {
        "id": "FHhP8HO0KGMQ",
        "outputId": "dd13adbe-0b42-43b1-9e7f-7656ccb53aef"
      },
      "source": [
        "# 정확도\n",
        "accu2 = np.trace(m2_cm)/len(y_test)\n",
        "print('정확도 :', np.round(accu2,2))\n",
        "\n",
        "# 특이도, 민감도\n",
        "spec2, sens2 = np.diag(m2_cm) / np.sum(m2_cm, axis = 1)\n",
        "print('특이도 :', np.round(spec2,2))\n",
        "print('민감도 :', np.round(sens2,2))\n",
        "\n",
        "# 정밀도\n",
        "prec2 = m2_cm[1,1] / np.sum(m2_cm, axis=0)[1]\n",
        "print('정밀도 :', np.round(prec2,2))\n",
        "\n",
        "# F1-score\n",
        "f1_2 = 2*prec2*sens2 / (prec2+sens2)\n",
        "print('F1-score :', np.round(f1_2,2))"
      ],
      "execution_count": null,
      "outputs": [
        {
          "output_type": "stream",
          "text": [
            "정확도 : 0.9\n",
            "특이도 : 0.97\n",
            "민감도 : 0.68\n",
            "정밀도 : 0.88\n",
            "F1-score : 0.77\n"
          ],
          "name": "stdout"
        }
      ]
    },
    {
      "cell_type": "markdown",
      "metadata": {
        "id": "2lOG6P15KGMQ"
      },
      "source": [
        "### ROC 곡선 및 AUC"
      ]
    },
    {
      "cell_type": "code",
      "metadata": {
        "id": "nzlI67ycKGMQ",
        "outputId": "a71cbd63-9071-4ceb-8072-9c6271b8498b"
      },
      "source": [
        "from sklearn.metrics import plot_roc_curve\n",
        "m1_roc=plot_roc_curve(m1, X_test, y_test)\n",
        "plot_roc_curve(m2, X_test, y_test, ax = m1_roc.ax_)\n",
        "plt.title(\"ROC curve comparison\")\n",
        "plt.show()"
      ],
      "execution_count": null,
      "outputs": [
        {
          "output_type": "display_data",
          "data": {
            "image/png": "[encoded data removed]",
            "text/plain": [
              "<Figure size 432x288 with 1 Axes>"
            ]
          },
          "metadata": {
            "tags": [],
            "needs_background": "light"
          }
        }
      ]
    },
    {
      "cell_type": "markdown",
      "metadata": {
        "id": "gPJzqqHAKGMR"
      },
      "source": [
        "## 다른 분류방법과의 비교\n",
        "\n",
        "### 신경망분석"
      ]
    },
    {
      "cell_type": "code",
      "metadata": {
        "id": "hzT4iYRSKGMR",
        "outputId": "75d90b11-8165-4480-fa4c-6887eb1922ef"
      },
      "source": [
        "from sklearn.preprocessing import StandardScaler\n",
        "from sklearn.neural_network import MLPClassifier\n",
        "scaler = StandardScaler()\n",
        "X_train_scaled = scaler.fit_transform(X_train)\n",
        "X_test_scaled = scaler.transform(X_test)\n",
        "c_nn = MLPClassifier(hidden_layer_sizes=(5),random_state=0, max_iter = 1000)\n",
        "c_nn.fit(X_train_scaled, y_train)"
      ],
      "execution_count": null,
      "outputs": [
        {
          "output_type": "execute_result",
          "data": {
            "text/plain": [
              "MLPClassifier(hidden_layer_sizes=5, max_iter=1000, random_state=0)"
            ]
          },
          "metadata": {
            "tags": []
          },
          "execution_count": 14
        }
      ]
    },
    {
      "cell_type": "markdown",
      "metadata": {
        "id": "zfLgMqg9KGMR"
      },
      "source": [
        "### SVM"
      ]
    },
    {
      "cell_type": "code",
      "metadata": {
        "id": "u2J4gv-mKGMR",
        "outputId": "3885de2c-674a-4056-838c-b318c05d0633"
      },
      "source": [
        "from sklearn import svm\n",
        "c_svm = svm.SVC(kernel='rbf', random_state=0)\n",
        "c_svm.fit(X_train_scaled,y_train)"
      ],
      "execution_count": null,
      "outputs": [
        {
          "output_type": "execute_result",
          "data": {
            "text/plain": [
              "SVC(random_state=0)"
            ]
          },
          "metadata": {
            "tags": []
          },
          "execution_count": 15
        }
      ]
    },
    {
      "cell_type": "markdown",
      "metadata": {
        "id": "cf236WThKGMS"
      },
      "source": [
        "### 랜덤포레스트"
      ]
    },
    {
      "cell_type": "code",
      "metadata": {
        "id": "khe3dLLuKGMS",
        "outputId": "0bf55af6-41ed-40ba-f5ea-dde19e1d0751"
      },
      "source": [
        "from sklearn.ensemble import RandomForestClassifier\n",
        "c_rf = RandomForestClassifier(random_state=0)\n",
        "c_rf.fit(X_train,y_train)"
      ],
      "execution_count": null,
      "outputs": [
        {
          "output_type": "execute_result",
          "data": {
            "text/plain": [
              "RandomForestClassifier(random_state=0)"
            ]
          },
          "metadata": {
            "tags": []
          },
          "execution_count": 16
        }
      ]
    },
    {
      "cell_type": "markdown",
      "metadata": {
        "id": "acxJtY_BKGMS"
      },
      "source": [
        "### ROC 곡선 및 AUC"
      ]
    },
    {
      "cell_type": "code",
      "metadata": {
        "id": "7o4RZmx1KGMS",
        "outputId": "51d85cc2-2b0a-44bf-98e3-448434bd80e3"
      },
      "source": [
        "m1_roc=plot_roc_curve(m1, X_test, y_test)\n",
        "plot_roc_curve(m2, X_test, y_test, ax = m1_roc.ax_)\n",
        "plot_roc_curve(c_nn, X_test_scaled, y_test, ax = m1_roc.ax_)\n",
        "plot_roc_curve(c_svm, X_test_scaled, y_test, ax = m1_roc.ax_)\n",
        "plot_roc_curve(c_rf, X_test, y_test, ax = m1_roc.ax_)\n",
        "plt.title(\"ROC curve comparison\")\n",
        "plt.show()"
      ],
      "execution_count": null,
      "outputs": [
        {
          "output_type": "display_data",
          "data": {
            "image/png": "[encoded data removed]",
            "text/plain": [
              "<Figure size 432x288 with 1 Axes>"
            ]
          },
          "metadata": {
            "tags": [],
            "needs_background": "light"
          }
        }
      ]
    },
    {
      "cell_type": "code",
      "metadata": {
        "id": "ipFA-fYtKGMS"
      },
      "source": [
        ""
      ],
      "execution_count": null,
      "outputs": []
    }
  ]
}