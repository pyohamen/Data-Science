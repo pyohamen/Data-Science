{
 "cells": [
  {
   "cell_type": "markdown",
   "metadata": {},
   "source": [
    "# Pima Indians Diabetes Database\n",
    "\n",
    "https://raw.githubusercontent.com/jbrownlee/Datasets/master/pima-indians-diabetes.names"
   ]
  },
  {
   "cell_type": "code",
   "execution_count": 1,
   "metadata": {},
   "outputs": [],
   "source": [
    "# Importing the libraries\n",
    "from numpy import loadtxt\n",
    "import tensorflow as tf\n",
    "from keras.models import Sequential\n",
    "from keras.layers import Dense\n",
    "from keras.layers import Dropout\n",
    "from tensorflow.keras.layers.experimental import preprocessing"
   ]
  },
  {
   "cell_type": "code",
   "execution_count": 2,
   "metadata": {},
   "outputs": [
    {
     "name": "stdout",
     "output_type": "stream",
     "text": [
      "(768, 8)\n",
      "(768,)\n"
     ]
    }
   ],
   "source": [
    "# load the dataset\n",
    "dataset = loadtxt('pima-indians-diabetes.csv', delimiter=',')\n",
    "# split into input (X) and output (y) variables\n",
    "X = dataset[:,0:8]\n",
    "y = dataset[:,8]\n",
    "print(X.shape)\n",
    "print(y.shape)"
   ]
  },
  {
   "cell_type": "code",
   "execution_count": 3,
   "metadata": {},
   "outputs": [
    {
     "name": "stdout",
     "output_type": "stream",
     "text": [
      "Model: \"sequential\"\n",
      "_________________________________________________________________\n",
      "Layer (type)                 Output Shape              Param #   \n",
      "=================================================================\n",
      "dense (Dense)                (None, 12)                108       \n",
      "_________________________________________________________________\n",
      "dense_1 (Dense)              (None, 8)                 104       \n",
      "_________________________________________________________________\n",
      "dense_2 (Dense)              (None, 1)                 9         \n",
      "=================================================================\n",
      "Total params: 221\n",
      "Trainable params: 221\n",
      "Non-trainable params: 0\n",
      "_________________________________________________________________\n"
     ]
    }
   ],
   "source": [
    "# define the keras model\n",
    "model = tf.keras.models.Sequential([\n",
    "  tf.keras.layers.Dense(12, input_dim=8, activation='relu'), # 입력층 노드 8개, 활성화함수 relu\n",
    "  tf.keras.layers.Dense(8, activation='relu'),\n",
    "  tf.keras.layers.Dense(1, activation='sigmoid')\n",
    "])\n",
    "model.summary()"
   ]
  },
  {
   "cell_type": "code",
   "execution_count": null,
   "metadata": {},
   "outputs": [
    {
     "name": "stdout",
     "output_type": "stream",
     "text": [
      "Epoch 1/150\n",
      "77/77 [==============================] - 0s 2ms/step - loss: 1.7548 - accuracy: 0.5026\n",
      "Epoch 2/150\n",
      "77/77 [==============================] - 0s 3ms/step - loss: 1.1808 - accuracy: 0.5690\n",
      "Epoch 3/150\n",
      "77/77 [==============================] - 0s 3ms/step - loss: 0.9870 - accuracy: 0.5807\n",
      "Epoch 4/150\n",
      "77/77 [==============================] - 0s 2ms/step - loss: 0.7974 - accuracy: 0.6576\n",
      "Epoch 5/150\n",
      "77/77 [==============================] - 0s 3ms/step - loss: 0.6969 - accuracy: 0.6667\n",
      "Epoch 6/150\n",
      "77/77 [==============================] - 0s 2ms/step - loss: 0.6478 - accuracy: 0.6979\n",
      "Epoch 7/150\n",
      "77/77 [==============================] - 0s 2ms/step - loss: 0.6412 - accuracy: 0.6836\n",
      "Epoch 8/150\n",
      "77/77 [==============================] - 0s 3ms/step - loss: 0.6209 - accuracy: 0.6862\n",
      "Epoch 9/150\n",
      "77/77 [==============================] - 0s 3ms/step - loss: 0.6136 - accuracy: 0.6979\n",
      "Epoch 10/150\n",
      "77/77 [==============================] - 0s 2ms/step - loss: 0.6133 - accuracy: 0.6862\n",
      "Epoch 11/150\n",
      "77/77 [==============================] - 0s 2ms/step - loss: 0.6057 - accuracy: 0.7083\n",
      "Epoch 12/150\n",
      "77/77 [==============================] - 0s 2ms/step - loss: 0.6232 - accuracy: 0.6901\n",
      "Epoch 13/150\n",
      "77/77 [==============================] - 0s 2ms/step - loss: 0.6007 - accuracy: 0.7083\n",
      "Epoch 14/150\n",
      "77/77 [==============================] - 0s 2ms/step - loss: 0.5929 - accuracy: 0.7240\n",
      "Epoch 15/150\n",
      "77/77 [==============================] - 0s 3ms/step - loss: 0.5898 - accuracy: 0.7109\n",
      "Epoch 16/150\n",
      "77/77 [==============================] - 0s 3ms/step - loss: 0.5800 - accuracy: 0.7148\n",
      "Epoch 17/150\n",
      "77/77 [==============================] - 0s 2ms/step - loss: 0.5864 - accuracy: 0.7096\n",
      "Epoch 18/150\n",
      "77/77 [==============================] - 0s 2ms/step - loss: 0.5785 - accuracy: 0.7083\n",
      "Epoch 19/150\n",
      "77/77 [==============================] - 0s 2ms/step - loss: 0.6225 - accuracy: 0.7122\n",
      "Epoch 20/150\n",
      "77/77 [==============================] - 0s 3ms/step - loss: 0.5909 - accuracy: 0.6992\n",
      "Epoch 21/150\n",
      "77/77 [==============================] - 0s 3ms/step - loss: 0.5960 - accuracy: 0.7005\n",
      "Epoch 22/150\n",
      "77/77 [==============================] - 0s 2ms/step - loss: 0.6242 - accuracy: 0.7044\n",
      "Epoch 23/150\n",
      "77/77 [==============================] - 0s 2ms/step - loss: 0.5938 - accuracy: 0.7188\n",
      "Epoch 24/150\n",
      "77/77 [==============================] - 0s 3ms/step - loss: 0.5787 - accuracy: 0.7096\n",
      "Epoch 25/150\n",
      "77/77 [==============================] - 0s 3ms/step - loss: 0.5753 - accuracy: 0.7135\n",
      "Epoch 26/150\n",
      "77/77 [==============================] - 0s 2ms/step - loss: 0.5747 - accuracy: 0.7122\n",
      "Epoch 27/150\n",
      "77/77 [==============================] - 0s 2ms/step - loss: 0.5958 - accuracy: 0.6966\n",
      "Epoch 28/150\n",
      "77/77 [==============================] - 0s 2ms/step - loss: 0.5888 - accuracy: 0.7096\n",
      "Epoch 29/150\n",
      "77/77 [==============================] - 0s 2ms/step - loss: 0.5730 - accuracy: 0.7188\n",
      "Epoch 30/150\n",
      "77/77 [==============================] - 0s 2ms/step - loss: 0.5737 - accuracy: 0.7201\n",
      "Epoch 31/150\n",
      "77/77 [==============================] - 0s 3ms/step - loss: 0.5687 - accuracy: 0.7174\n",
      "Epoch 32/150\n",
      "77/77 [==============================] - 0s 3ms/step - loss: 0.5861 - accuracy: 0.7057\n",
      "Epoch 33/150\n",
      "77/77 [==============================] - 0s 3ms/step - loss: 0.5620 - accuracy: 0.7331\n",
      "Epoch 34/150\n",
      "77/77 [==============================] - 0s 2ms/step - loss: 0.5628 - accuracy: 0.7227\n",
      "Epoch 35/150\n",
      "77/77 [==============================] - 0s 3ms/step - loss: 0.5651 - accuracy: 0.7201\n",
      "Epoch 36/150\n",
      "77/77 [==============================] - 0s 2ms/step - loss: 0.5613 - accuracy: 0.7344\n",
      "Epoch 37/150\n",
      "77/77 [==============================] - 0s 2ms/step - loss: 0.5586 - accuracy: 0.7279\n",
      "Epoch 38/150\n",
      "77/77 [==============================] - 0s 2ms/step - loss: 0.5611 - accuracy: 0.7370\n",
      "Epoch 39/150\n",
      "77/77 [==============================] - 0s 2ms/step - loss: 0.5756 - accuracy: 0.7188\n",
      "Epoch 40/150\n",
      "77/77 [==============================] - 0s 2ms/step - loss: 0.5809 - accuracy: 0.7083\n",
      "Epoch 41/150\n",
      "77/77 [==============================] - 0s 2ms/step - loss: 0.5791 - accuracy: 0.7188\n",
      "Epoch 42/150\n",
      "77/77 [==============================] - 0s 2ms/step - loss: 0.5542 - accuracy: 0.7214\n",
      "Epoch 43/150\n",
      "77/77 [==============================] - 0s 1ms/step - loss: 0.5817 - accuracy: 0.7070\n",
      "Epoch 44/150\n",
      "77/77 [==============================] - 0s 1ms/step - loss: 0.5599 - accuracy: 0.7148\n",
      "Epoch 45/150\n",
      "77/77 [==============================] - 0s 2ms/step - loss: 0.5516 - accuracy: 0.7279\n",
      "Epoch 46/150\n",
      "77/77 [==============================] - 0s 2ms/step - loss: 0.5599 - accuracy: 0.7279\n",
      "Epoch 47/150\n",
      "77/77 [==============================] - 0s 1ms/step - loss: 0.5480 - accuracy: 0.7409\n",
      "Epoch 48/150\n",
      "77/77 [==============================] - 0s 2ms/step - loss: 0.5505 - accuracy: 0.7214\n",
      "Epoch 49/150\n",
      "77/77 [==============================] - 0s 2ms/step - loss: 0.5479 - accuracy: 0.7240\n",
      "Epoch 50/150\n",
      "77/77 [==============================] - 0s 2ms/step - loss: 0.5512 - accuracy: 0.7266\n",
      "Epoch 51/150\n",
      "77/77 [==============================] - 0s 2ms/step - loss: 0.5638 - accuracy: 0.7044\n",
      "Epoch 52/150\n",
      "77/77 [==============================] - 0s 2ms/step - loss: 0.5485 - accuracy: 0.7370\n",
      "Epoch 53/150\n",
      "77/77 [==============================] - 0s 2ms/step - loss: 0.5457 - accuracy: 0.7422\n",
      "Epoch 54/150\n",
      "77/77 [==============================] - 0s 1ms/step - loss: 0.5423 - accuracy: 0.7331\n",
      "Epoch 55/150\n",
      "77/77 [==============================] - 0s 1ms/step - loss: 0.5411 - accuracy: 0.7383\n",
      "Epoch 56/150\n",
      "77/77 [==============================] - 0s 2ms/step - loss: 0.5451 - accuracy: 0.7292\n",
      "Epoch 57/150\n",
      "77/77 [==============================] - 0s 2ms/step - loss: 0.5514 - accuracy: 0.7331\n",
      "Epoch 58/150\n",
      "77/77 [==============================] - 0s 2ms/step - loss: 0.5470 - accuracy: 0.7331\n",
      "Epoch 59/150\n",
      "77/77 [==============================] - 0s 3ms/step - loss: 0.5434 - accuracy: 0.7318\n",
      "Epoch 60/150\n",
      "77/77 [==============================] - 0s 3ms/step - loss: 0.5376 - accuracy: 0.7305\n",
      "Epoch 61/150\n",
      "77/77 [==============================] - 0s 2ms/step - loss: 0.5551 - accuracy: 0.7266\n",
      "Epoch 62/150\n",
      "77/77 [==============================] - 0s 2ms/step - loss: 0.5573 - accuracy: 0.7253\n",
      "Epoch 63/150\n",
      "77/77 [==============================] - 0s 2ms/step - loss: 0.5355 - accuracy: 0.7448\n",
      "Epoch 64/150\n",
      "77/77 [==============================] - 0s 2ms/step - loss: 0.5439 - accuracy: 0.7331\n",
      "Epoch 65/150\n",
      "77/77 [==============================] - 0s 3ms/step - loss: 0.5547 - accuracy: 0.7240\n",
      "Epoch 66/150\n",
      "77/77 [==============================] - 0s 3ms/step - loss: 0.5313 - accuracy: 0.7396\n",
      "Epoch 67/150\n",
      "77/77 [==============================] - 0s 3ms/step - loss: 0.5817 - accuracy: 0.7135\n",
      "Epoch 68/150\n",
      "77/77 [==============================] - 0s 3ms/step - loss: 0.5580 - accuracy: 0.7253\n",
      "Epoch 69/150\n",
      "77/77 [==============================] - 0s 3ms/step - loss: 0.5566 - accuracy: 0.7188\n",
      "Epoch 70/150\n",
      "77/77 [==============================] - 0s 2ms/step - loss: 0.5322 - accuracy: 0.7474\n",
      "Epoch 71/150\n",
      "77/77 [==============================] - 0s 3ms/step - loss: 0.5345 - accuracy: 0.7409\n",
      "Epoch 72/150\n",
      "77/77 [==============================] - 0s 2ms/step - loss: 0.5322 - accuracy: 0.7435\n",
      "Epoch 73/150\n",
      "77/77 [==============================] - 0s 3ms/step - loss: 0.5454 - accuracy: 0.7370\n",
      "Epoch 74/150\n",
      "77/77 [==============================] - 0s 1ms/step - loss: 0.5322 - accuracy: 0.7383\n",
      "Epoch 75/150\n",
      "77/77 [==============================] - 0s 2ms/step - loss: 0.5370 - accuracy: 0.7240\n",
      "Epoch 76/150\n",
      "77/77 [==============================] - 0s 2ms/step - loss: 0.5407 - accuracy: 0.7148\n",
      "Epoch 77/150\n",
      "77/77 [==============================] - 0s 3ms/step - loss: 0.5191 - accuracy: 0.7448\n",
      "Epoch 78/150\n",
      "77/77 [==============================] - 0s 3ms/step - loss: 0.5331 - accuracy: 0.7357\n",
      "Epoch 79/150\n",
      "77/77 [==============================] - 0s 1ms/step - loss: 0.5363 - accuracy: 0.7370\n",
      "Epoch 80/150\n",
      "77/77 [==============================] - 0s 2ms/step - loss: 0.5326 - accuracy: 0.7370\n",
      "Epoch 81/150\n",
      "77/77 [==============================] - 0s 3ms/step - loss: 0.5266 - accuracy: 0.7344\n",
      "Epoch 82/150\n",
      "77/77 [==============================] - 0s 2ms/step - loss: 0.5188 - accuracy: 0.7448\n",
      "Epoch 83/150\n"
     ]
    },
    {
     "name": "stdout",
     "output_type": "stream",
     "text": [
      "77/77 [==============================] - 0s 2ms/step - loss: 0.5476 - accuracy: 0.7253\n",
      "Epoch 84/150\n",
      "77/77 [==============================] - 0s 2ms/step - loss: 0.5241 - accuracy: 0.7461\n",
      "Epoch 85/150\n",
      "77/77 [==============================] - 0s 2ms/step - loss: 0.5226 - accuracy: 0.7513\n",
      "Epoch 86/150\n",
      "77/77 [==============================] - 0s 3ms/step - loss: 0.5309 - accuracy: 0.7448\n",
      "Epoch 87/150\n",
      "77/77 [==============================] - 0s 3ms/step - loss: 0.5132 - accuracy: 0.7526\n",
      "Epoch 88/150\n",
      "77/77 [==============================] - 0s 3ms/step - loss: 0.5273 - accuracy: 0.7435\n",
      "Epoch 89/150\n",
      "77/77 [==============================] - 0s 2ms/step - loss: 0.5239 - accuracy: 0.7435\n",
      "Epoch 90/150\n",
      "77/77 [==============================] - 0s 3ms/step - loss: 0.5238 - accuracy: 0.7435\n",
      "Epoch 91/150\n",
      "77/77 [==============================] - 0s 2ms/step - loss: 0.5188 - accuracy: 0.7552\n",
      "Epoch 92/150\n",
      "77/77 [==============================] - 0s 2ms/step - loss: 0.5253 - accuracy: 0.7370\n",
      "Epoch 93/150\n",
      "77/77 [==============================] - ETA: 0s - loss: 0.4991 - accuracy: 0.76 - 0s 2ms/step - loss: 0.5192 - accuracy: 0.7435\n",
      "Epoch 94/150\n",
      "77/77 [==============================] - 0s 2ms/step - loss: 0.5153 - accuracy: 0.7513\n",
      "Epoch 95/150\n",
      "77/77 [==============================] - 0s 3ms/step - loss: 0.5363 - accuracy: 0.7266\n",
      "Epoch 96/150\n",
      "77/77 [==============================] - 0s 3ms/step - loss: 0.5258 - accuracy: 0.7253\n",
      "Epoch 97/150\n",
      "64/77 [=======================>......] - ETA: 0s - loss: 0.5002 - accuracy: 0.7609"
     ]
    }
   ],
   "source": [
    "# compile the keras model\n",
    "model.compile(loss='binary_crossentropy', optimizer='adam', metrics=['accuracy'])\n",
    "# fit the keras model on the dataset\n",
    "model.fit(X, y, epochs=150, batch_size=10)\n",
    "# epochs: 역전파 순전파 등의 최적화 방법을 몇번 업데이트 할 것인가\n",
    "# batch_size: 크기가 커질 수록 더 많은 샘플을 활용해서 업데이트, 매 업데이트 때 모든 데이터 활용하지 않음"
   ]
  },
  {
   "cell_type": "code",
   "execution_count": 6,
   "metadata": {
    "scrolled": true
   },
   "outputs": [
    {
     "name": "stdout",
     "output_type": "stream",
     "text": [
      "24/24 [==============================] - 0s 500us/step - loss: 0.4932 - accuracy: 0.7591\n",
      "Accuracy: 75.91\n"
     ]
    }
   ],
   "source": [
    "# evaluate the keras model\n",
    "_, accuracy = model.evaluate(X, y)\n",
    "print('Accuracy: %.2f' % (accuracy*100))"
   ]
  },
  {
   "cell_type": "code",
   "execution_count": 7,
   "metadata": {},
   "outputs": [],
   "source": [
    "# make probability predictions with the model\n",
    "predictions = model.predict(X) # input 만을 활용해서 나타내기\n",
    "# round predictions\n",
    "rounded = [round(x[0]) for x in predictions]"
   ]
  },
  {
   "cell_type": "code",
   "execution_count": 8,
   "metadata": {},
   "outputs": [
    {
     "name": "stdout",
     "output_type": "stream",
     "text": [
      "WARNING:tensorflow:From <ipython-input-8-e0b57a01bd5e>:2: Sequential.predict_classes (from tensorflow.python.keras.engine.sequential) is deprecated and will be removed after 2021-01-01.\n",
      "Instructions for updating:\n",
      "Please use instead:* `np.argmax(model.predict(x), axis=-1)`,   if your model does multi-class classification   (e.g. if it uses a `softmax` last-layer activation).* `(model.predict(x) > 0.5).astype(\"int32\")`,   if your model does binary classification   (e.g. if it uses a `sigmoid` last-layer activation).\n",
      "[6.0, 148.0, 72.0, 35.0, 0.0, 33.6, 0.627, 50.0] => 1 (expected 1)\n",
      "[1.0, 85.0, 66.0, 29.0, 0.0, 26.6, 0.351, 31.0] => 0 (expected 0)\n",
      "[8.0, 183.0, 64.0, 0.0, 0.0, 23.3, 0.672, 32.0] => 1 (expected 1)\n",
      "[1.0, 89.0, 66.0, 23.0, 94.0, 28.1, 0.167, 21.0] => 0 (expected 0)\n",
      "[0.0, 137.0, 40.0, 35.0, 168.0, 43.1, 2.288, 33.0] => 1 (expected 1)\n"
     ]
    }
   ],
   "source": [
    "# make class predictions with the model\n",
    "predictions = model.predict_classes(X)\n",
    "# summarize the first 5 cases\n",
    "for i in range(5):\n",
    "\tprint('%s => %d (expected %d)' % (X[i].tolist(), predictions[i], y[i]))"
   ]
  },
  {
   "cell_type": "code",
   "execution_count": null,
   "metadata": {},
   "outputs": [],
   "source": []
  },
  {
   "cell_type": "code",
   "execution_count": null,
   "metadata": {},
   "outputs": [],
   "source": []
  }
 ],
 "metadata": {
  "kernelspec": {
   "display_name": "Python 3",
   "language": "python",
   "name": "python3"
  },
  "language_info": {
   "codemirror_mode": {
    "name": "ipython",
    "version": 3
   },
   "file_extension": ".py",
   "mimetype": "text/x-python",
   "name": "python",
   "nbconvert_exporter": "python",
   "pygments_lexer": "ipython3",
   "version": "3.7.10"
  }
 },
 "nbformat": 4,
 "nbformat_minor": 2
}
