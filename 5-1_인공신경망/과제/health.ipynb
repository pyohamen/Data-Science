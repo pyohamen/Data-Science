{
 "cells": [
  {
   "cell_type": "markdown",
   "metadata": {},
   "source": [
    "# Healthcare data: Vitamin D and Osteoporosis\n",
    "\n",
    "https://www.cdc.gov/nchs/nhanes/index.htm"
   ]
  },
  {
   "cell_type": "code",
   "execution_count": 1,
   "metadata": {},
   "outputs": [],
   "source": [
    "# Importing the libraries\n",
    "from numpy import loadtxt\n",
    "import numpy as np\n",
    "import tensorflow as tf\n",
    "from keras.models import Sequential\n",
    "from keras.layers import Dense\n",
    "from keras.layers import Dropout\n",
    "from tensorflow.keras.layers.experimental import preprocessing"
   ]
  },
  {
   "cell_type": "code",
   "execution_count": 2,
   "metadata": {},
   "outputs": [
    {
     "name": "stdout",
     "output_type": "stream",
     "text": [
      "(7000, 4)\n",
      "(7000,)\n"
     ]
    }
   ],
   "source": [
    "# load the dataset\n",
    "dataset_train = loadtxt('healthTrain.csv', delimiter=',')\n",
    "# split into input (X) and output (y) variables\n",
    "x_train = dataset_train[:,0:4]\n",
    "y_train = dataset_train[:,4]\n",
    "print(x_train.shape)\n",
    "print(y_train.shape)"
   ]
  },
  {
   "cell_type": "code",
   "execution_count": 3,
   "metadata": {},
   "outputs": [
    {
     "name": "stdout",
     "output_type": "stream",
     "text": [
      "[ 0.51271427 50.356857   60.863575    9.411029  ]\n"
     ]
    }
   ],
   "source": [
    "# normalization \n",
    "normalizer = preprocessing.Normalization()\n",
    "normalizer.adapt(np.array(x_train))\n",
    "print(normalizer.mean.numpy())"
   ]
  },
  {
   "cell_type": "code",
   "execution_count": 4,
   "metadata": {},
   "outputs": [
    {
     "name": "stdout",
     "output_type": "stream",
     "text": [
      "Model: \"sequential\"\n",
      "_________________________________________________________________\n",
      "Layer (type)                 Output Shape              Param #   \n",
      "=================================================================\n",
      "normalization (Normalization (None, 4)                 9         \n",
      "_________________________________________________________________\n",
      "dense (Dense)                (None, 24)                120       \n",
      "_________________________________________________________________\n",
      "dense_1 (Dense)              (None, 24)                600       \n",
      "_________________________________________________________________\n",
      "dropout (Dropout)            (None, 24)                0         \n",
      "_________________________________________________________________\n",
      "dense_2 (Dense)              (None, 1)                 25        \n",
      "=================================================================\n",
      "Total params: 754\n",
      "Trainable params: 745\n",
      "Non-trainable params: 9\n",
      "_________________________________________________________________\n"
     ]
    }
   ],
   "source": [
    "# construct model \n",
    "model = tf.keras.models.Sequential([\n",
    "  normalizer,\n",
    "  tf.keras.layers.Dense(24, activation='relu'),\n",
    "  tf.keras.layers.Dense(24, activation='relu'),\n",
    "  tf.keras.layers.Dropout(0.2),\n",
    "  tf.keras.layers.Dense(1, activation='sigmoid')\n",
    "])\n",
    "model.summary()"
   ]
  },
  {
   "cell_type": "code",
   "execution_count": 5,
   "metadata": {},
   "outputs": [],
   "source": [
    "# Compiling the model\n",
    "model.compile(loss='binary_crossentropy', optimizer='adam', metrics=['accuracy'])\n"
   ]
  },
  {
   "cell_type": "code",
   "execution_count": 6,
   "metadata": {},
   "outputs": [
    {
     "name": "stdout",
     "output_type": "stream",
     "text": [
      "Epoch 1/100\n",
      "219/219 [==============================] - 0s 2ms/step - loss: 0.3420 - accuracy: 0.9029\n",
      "Epoch 2/100\n",
      "219/219 [==============================] - 0s 2ms/step - loss: 0.1993 - accuracy: 0.9361\n",
      "Epoch 3/100\n",
      "219/219 [==============================] - 0s 2ms/step - loss: 0.1898 - accuracy: 0.9357\n",
      "Epoch 4/100\n",
      "219/219 [==============================] - 0s 2ms/step - loss: 0.1860 - accuracy: 0.9359\n",
      "Epoch 5/100\n",
      "219/219 [==============================] - 1s 3ms/step - loss: 0.1871 - accuracy: 0.9360\n",
      "Epoch 6/100\n",
      "219/219 [==============================] - 1s 3ms/step - loss: 0.1863 - accuracy: 0.9364\n",
      "Epoch 7/100\n",
      "219/219 [==============================] - 1s 2ms/step - loss: 0.1860 - accuracy: 0.9359\n",
      "Epoch 8/100\n",
      "219/219 [==============================] - 0s 2ms/step - loss: 0.1847 - accuracy: 0.9356\n",
      "Epoch 9/100\n",
      "219/219 [==============================] - 0s 1ms/step - loss: 0.1856 - accuracy: 0.9364\n",
      "Epoch 10/100\n",
      "219/219 [==============================] - 0s 2ms/step - loss: 0.1826 - accuracy: 0.9366\n",
      "Epoch 11/100\n",
      "219/219 [==============================] - 1s 3ms/step - loss: 0.1857 - accuracy: 0.9366\n",
      "Epoch 12/100\n",
      "219/219 [==============================] - 0s 2ms/step - loss: 0.1834 - accuracy: 0.9364\n",
      "Epoch 13/100\n",
      "219/219 [==============================] - 1s 3ms/step - loss: 0.1853 - accuracy: 0.9369\n",
      "Epoch 14/100\n",
      "219/219 [==============================] - 1s 3ms/step - loss: 0.1846 - accuracy: 0.9367\n",
      "Epoch 15/100\n",
      "219/219 [==============================] - 0s 2ms/step - loss: 0.1831 - accuracy: 0.9363\n",
      "Epoch 16/100\n",
      "219/219 [==============================] - 0s 2ms/step - loss: 0.1840 - accuracy: 0.9363\n",
      "Epoch 17/100\n",
      "219/219 [==============================] - 1s 2ms/step - loss: 0.1849 - accuracy: 0.9361\n",
      "Epoch 18/100\n",
      "219/219 [==============================] - 1s 2ms/step - loss: 0.1819 - accuracy: 0.9370\n",
      "Epoch 19/100\n",
      "219/219 [==============================] - 1s 3ms/step - loss: 0.1835 - accuracy: 0.9367\n",
      "Epoch 20/100\n",
      "219/219 [==============================] - 1s 2ms/step - loss: 0.1820 - accuracy: 0.9364\n",
      "Epoch 21/100\n",
      "219/219 [==============================] - 0s 2ms/step - loss: 0.1836 - accuracy: 0.9366\n",
      "Epoch 22/100\n",
      "219/219 [==============================] - 0s 2ms/step - loss: 0.1824 - accuracy: 0.9369\n",
      "Epoch 23/100\n",
      "219/219 [==============================] - 1s 3ms/step - loss: 0.1816 - accuracy: 0.9361\n",
      "Epoch 24/100\n",
      "219/219 [==============================] - 1s 3ms/step - loss: 0.1838 - accuracy: 0.9367\n",
      "Epoch 25/100\n",
      "219/219 [==============================] - 0s 2ms/step - loss: 0.1812 - accuracy: 0.9363\n",
      "Epoch 26/100\n",
      "219/219 [==============================] - 0s 2ms/step - loss: 0.1815 - accuracy: 0.9363\n",
      "Epoch 27/100\n",
      "219/219 [==============================] - 0s 2ms/step - loss: 0.1812 - accuracy: 0.9367\n",
      "Epoch 28/100\n",
      "219/219 [==============================] - 0s 2ms/step - loss: 0.1825 - accuracy: 0.9369\n",
      "Epoch 29/100\n",
      "219/219 [==============================] - 0s 2ms/step - loss: 0.1828 - accuracy: 0.9369\n",
      "Epoch 30/100\n",
      "219/219 [==============================] - 0s 2ms/step - loss: 0.1801 - accuracy: 0.9361\n",
      "Epoch 31/100\n",
      "219/219 [==============================] - 0s 2ms/step - loss: 0.1821 - accuracy: 0.9363\n",
      "Epoch 32/100\n",
      "219/219 [==============================] - 0s 2ms/step - loss: 0.1811 - accuracy: 0.9364\n",
      "Epoch 33/100\n",
      "219/219 [==============================] - 0s 2ms/step - loss: 0.1813 - accuracy: 0.9364\n",
      "Epoch 34/100\n",
      "219/219 [==============================] - 0s 2ms/step - loss: 0.1815 - accuracy: 0.9370\n",
      "Epoch 35/100\n",
      "219/219 [==============================] - 0s 1ms/step - loss: 0.1826 - accuracy: 0.9363\n",
      "Epoch 36/100\n",
      "219/219 [==============================] - 1s 3ms/step - loss: 0.1813 - accuracy: 0.9371\n",
      "Epoch 37/100\n",
      "219/219 [==============================] - 1s 3ms/step - loss: 0.1809 - accuracy: 0.9359\n",
      "Epoch 38/100\n",
      "219/219 [==============================] - 0s 2ms/step - loss: 0.1811 - accuracy: 0.9361\n",
      "Epoch 39/100\n",
      "219/219 [==============================] - 1s 3ms/step - loss: 0.1792 - accuracy: 0.9373\n",
      "Epoch 40/100\n",
      "219/219 [==============================] - 1s 2ms/step - loss: 0.1798 - accuracy: 0.9371\n",
      "Epoch 41/100\n",
      "219/219 [==============================] - 0s 2ms/step - loss: 0.1799 - accuracy: 0.9363\n",
      "Epoch 42/100\n",
      "219/219 [==============================] - 1s 3ms/step - loss: 0.1795 - accuracy: 0.9369\n",
      "Epoch 43/100\n",
      "219/219 [==============================] - 0s 2ms/step - loss: 0.1811 - accuracy: 0.9360\n",
      "Epoch 44/100\n",
      "219/219 [==============================] - 0s 2ms/step - loss: 0.1817 - accuracy: 0.9364\n",
      "Epoch 45/100\n",
      "219/219 [==============================] - 0s 2ms/step - loss: 0.1793 - accuracy: 0.9371\n",
      "Epoch 46/100\n",
      "219/219 [==============================] - 1s 2ms/step - loss: 0.1817 - accuracy: 0.9374\n",
      "Epoch 47/100\n",
      "219/219 [==============================] - 0s 2ms/step - loss: 0.1807 - accuracy: 0.9370\n",
      "Epoch 48/100\n",
      "219/219 [==============================] - 0s 2ms/step - loss: 0.1798 - accuracy: 0.9369\n",
      "Epoch 49/100\n",
      "219/219 [==============================] - 0s 2ms/step - loss: 0.1804 - accuracy: 0.9369\n",
      "Epoch 50/100\n",
      "219/219 [==============================] - 1s 3ms/step - loss: 0.1809 - accuracy: 0.9369\n",
      "Epoch 51/100\n",
      "219/219 [==============================] - 1s 2ms/step - loss: 0.1807 - accuracy: 0.9371\n",
      "Epoch 52/100\n",
      "219/219 [==============================] - 0s 2ms/step - loss: 0.1810 - accuracy: 0.9370: 0s - loss: 0.1751 - accu\n",
      "Epoch 53/100\n",
      "219/219 [==============================] - 1s 3ms/step - loss: 0.1793 - accuracy: 0.9360\n",
      "Epoch 54/100\n",
      "219/219 [==============================] - 1s 3ms/step - loss: 0.1793 - accuracy: 0.9367\n",
      "Epoch 55/100\n",
      "219/219 [==============================] - 0s 2ms/step - loss: 0.1818 - accuracy: 0.9364\n",
      "Epoch 56/100\n",
      "219/219 [==============================] - 1s 2ms/step - loss: 0.1779 - accuracy: 0.9371\n",
      "Epoch 57/100\n",
      "219/219 [==============================] - 0s 2ms/step - loss: 0.1789 - accuracy: 0.9369\n",
      "Epoch 58/100\n",
      "219/219 [==============================] - 1s 2ms/step - loss: 0.1790 - accuracy: 0.9379\n",
      "Epoch 59/100\n",
      "219/219 [==============================] - 1s 3ms/step - loss: 0.1798 - accuracy: 0.9360\n",
      "Epoch 60/100\n",
      "219/219 [==============================] - 0s 2ms/step - loss: 0.1792 - accuracy: 0.9364\n",
      "Epoch 61/100\n",
      "219/219 [==============================] - 0s 2ms/step - loss: 0.1806 - accuracy: 0.9359\n",
      "Epoch 62/100\n",
      "219/219 [==============================] - 0s 2ms/step - loss: 0.1794 - accuracy: 0.9371\n",
      "Epoch 63/100\n",
      "219/219 [==============================] - 0s 2ms/step - loss: 0.1800 - accuracy: 0.9363\n",
      "Epoch 64/100\n",
      "219/219 [==============================] - 1s 3ms/step - loss: 0.1787 - accuracy: 0.9359\n",
      "Epoch 65/100\n",
      "219/219 [==============================] - 1s 3ms/step - loss: 0.1786 - accuracy: 0.9377\n",
      "Epoch 66/100\n",
      "219/219 [==============================] - 1s 3ms/step - loss: 0.1816 - accuracy: 0.9366\n",
      "Epoch 67/100\n",
      "219/219 [==============================] - 0s 2ms/step - loss: 0.1806 - accuracy: 0.9359\n",
      "Epoch 68/100\n",
      "219/219 [==============================] - 1s 2ms/step - loss: 0.1780 - accuracy: 0.9369\n",
      "Epoch 69/100\n",
      "219/219 [==============================] - 1s 2ms/step - loss: 0.1789 - accuracy: 0.9370\n",
      "Epoch 70/100\n",
      "219/219 [==============================] - 1s 3ms/step - loss: 0.1787 - accuracy: 0.9369\n",
      "Epoch 71/100\n",
      "219/219 [==============================] - 1s 3ms/step - loss: 0.1792 - accuracy: 0.9364\n",
      "Epoch 72/100\n",
      "219/219 [==============================] - 0s 2ms/step - loss: 0.1785 - accuracy: 0.9369\n",
      "Epoch 73/100\n",
      "219/219 [==============================] - 1s 2ms/step - loss: 0.1788 - accuracy: 0.9363\n",
      "Epoch 74/100\n",
      "219/219 [==============================] - 1s 3ms/step - loss: 0.1793 - accuracy: 0.9373\n",
      "Epoch 75/100\n",
      "219/219 [==============================] - 1s 3ms/step - loss: 0.1781 - accuracy: 0.9371\n",
      "Epoch 76/100\n",
      "219/219 [==============================] - 0s 2ms/step - loss: 0.1783 - accuracy: 0.9373\n",
      "Epoch 77/100\n",
      "219/219 [==============================] - 0s 2ms/step - loss: 0.1792 - accuracy: 0.9366\n",
      "Epoch 78/100\n",
      "219/219 [==============================] - 0s 2ms/step - loss: 0.1796 - accuracy: 0.9361\n",
      "Epoch 79/100\n",
      "219/219 [==============================] - 0s 2ms/step - loss: 0.1793 - accuracy: 0.9369\n",
      "Epoch 80/100\n",
      "219/219 [==============================] - 0s 2ms/step - loss: 0.1790 - accuracy: 0.9369\n",
      "Epoch 81/100\n"
     ]
    },
    {
     "name": "stdout",
     "output_type": "stream",
     "text": [
      "219/219 [==============================] - 0s 1ms/step - loss: 0.1793 - accuracy: 0.9377\n",
      "Epoch 82/100\n",
      "219/219 [==============================] - 1s 2ms/step - loss: 0.1787 - accuracy: 0.9373\n",
      "Epoch 83/100\n",
      "219/219 [==============================] - 1s 3ms/step - loss: 0.1793 - accuracy: 0.9363\n",
      "Epoch 84/100\n",
      "219/219 [==============================] - 0s 2ms/step - loss: 0.1778 - accuracy: 0.9377\n",
      "Epoch 85/100\n",
      "219/219 [==============================] - 1s 3ms/step - loss: 0.1774 - accuracy: 0.9366\n",
      "Epoch 86/100\n",
      "219/219 [==============================] - 1s 3ms/step - loss: 0.1797 - accuracy: 0.9367\n",
      "Epoch 87/100\n",
      "219/219 [==============================] - 1s 3ms/step - loss: 0.1793 - accuracy: 0.9361\n",
      "Epoch 88/100\n",
      "219/219 [==============================] - 1s 3ms/step - loss: 0.1797 - accuracy: 0.9370\n",
      "Epoch 89/100\n",
      "219/219 [==============================] - 1s 2ms/step - loss: 0.1778 - accuracy: 0.9364\n",
      "Epoch 90/100\n",
      "219/219 [==============================] - 1s 3ms/step - loss: 0.1783 - accuracy: 0.9369\n",
      "Epoch 91/100\n",
      "219/219 [==============================] - 1s 3ms/step - loss: 0.1779 - accuracy: 0.9383\n",
      "Epoch 92/100\n",
      "219/219 [==============================] - 1s 3ms/step - loss: 0.1788 - accuracy: 0.9371\n",
      "Epoch 93/100\n",
      "219/219 [==============================] - 1s 2ms/step - loss: 0.1777 - accuracy: 0.9376\n",
      "Epoch 94/100\n",
      "219/219 [==============================] - 1s 3ms/step - loss: 0.1783 - accuracy: 0.9377\n",
      "Epoch 95/100\n",
      "219/219 [==============================] - 1s 3ms/step - loss: 0.1778 - accuracy: 0.9386\n",
      "Epoch 96/100\n",
      "219/219 [==============================] - 1s 3ms/step - loss: 0.1786 - accuracy: 0.9370\n",
      "Epoch 97/100\n",
      "219/219 [==============================] - 0s 2ms/step - loss: 0.1779 - accuracy: 0.9371\n",
      "Epoch 98/100\n",
      "219/219 [==============================] - 1s 3ms/step - loss: 0.1768 - accuracy: 0.9373\n",
      "Epoch 99/100\n",
      "219/219 [==============================] - 1s 3ms/step - loss: 0.1785 - accuracy: 0.9369\n",
      "Epoch 100/100\n",
      "219/219 [==============================] - 0s 2ms/step - loss: 0.1782 - accuracy: 0.9367\n"
     ]
    },
    {
     "data": {
      "text/plain": [
       "<tensorflow.python.keras.callbacks.History at 0x2b74b800bb0>"
      ]
     },
     "execution_count": 6,
     "metadata": {},
     "output_type": "execute_result"
    }
   ],
   "source": [
    "# Fitting the neural network to the training set\n",
    "model.fit(x_train, y_train, epochs = 100)"
   ]
  },
  {
   "cell_type": "code",
   "execution_count": 31,
   "metadata": {},
   "outputs": [
    {
     "name": "stdout",
     "output_type": "stream",
     "text": [
      "219/219 [==============================] - 0s 428us/step - loss: 0.1737 - accuracy: 0.9384\n",
      "Accuracy: 93.84\n"
     ]
    }
   ],
   "source": [
    "# evaluate the keras model\n",
    "_, accuracy = model.evaluate(x_train, y_train, verbose=1)\n",
    "print('Accuracy: %.2f' % (accuracy*100))"
   ]
  },
  {
   "cell_type": "code",
   "execution_count": 32,
   "metadata": {},
   "outputs": [
    {
     "name": "stdout",
     "output_type": "stream",
     "text": [
      "(3065, 4)\n",
      "(3065,)\n"
     ]
    }
   ],
   "source": [
    "# load test data\n",
    "dataset_test = loadtxt('healthTest.csv', delimiter=',')\n",
    "# split into input (X) and output (y) variables\n",
    "x_test = dataset_test[:,0:4]\n",
    "y_test = dataset_test[:,4]\n",
    "print(x_test.shape)\n",
    "print(y_test.shape)"
   ]
  },
  {
   "cell_type": "code",
   "execution_count": 33,
   "metadata": {},
   "outputs": [
    {
     "name": "stdout",
     "output_type": "stream",
     "text": [
      "96/96 [==============================] - 0s 426us/step - loss: 0.1675 - accuracy: 0.9445\n"
     ]
    },
    {
     "data": {
      "text/plain": [
       "[0.16752545535564423, 0.9445350766181946]"
      ]
     },
     "execution_count": 33,
     "metadata": {},
     "output_type": "execute_result"
    }
   ],
   "source": [
    "test_results = model.evaluate(x_test, y_test, verbose=1)\n",
    "test_results"
   ]
  },
  {
   "cell_type": "code",
   "execution_count": null,
   "metadata": {},
   "outputs": [],
   "source": []
  }
 ],
 "metadata": {
  "kernelspec": {
   "display_name": "Python 3",
   "language": "python",
   "name": "python3"
  },
  "language_info": {
   "codemirror_mode": {
    "name": "ipython",
    "version": 3
   },
   "file_extension": ".py",
   "mimetype": "text/x-python",
   "name": "python",
   "nbconvert_exporter": "python",
   "pygments_lexer": "ipython3",
   "version": "3.8.3"
  }
 },
 "nbformat": 4,
 "nbformat_minor": 2
}
